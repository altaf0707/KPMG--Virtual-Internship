{
 "cells": [
  {
   "cell_type": "markdown",
   "id": "175595f2",
   "metadata": {},
   "source": [
    "# Sprocket Central Pty Ltd Data Set"
   ]
  },
  {
   "cell_type": "markdown",
   "id": "5e1e1926",
   "metadata": {},
   "source": [
    "#### importing necessery libraries for future analysis of the dataset"
   ]
  },
  {
   "cell_type": "code",
   "execution_count": 1,
   "id": "1ac8f3cc",
   "metadata": {},
   "outputs": [],
   "source": [
    "import numpy as np\n",
    "import statistics as st\n",
    "import pandas as pd\n",
    "import matplotlib.pyplot as plt\n",
    "import seaborn as sns\n",
    "import warnings\n",
    "warnings.filterwarnings('ignore')\n",
    "from pandas import ExcelWriter\n",
    "from pandas import ExcelFile"
   ]
  },
  {
   "cell_type": "markdown",
   "id": "d78fd67a",
   "metadata": {},
   "source": [
    "#### Creating data frame"
   ]
  },
  {
   "cell_type": "code",
   "execution_count": 2,
   "id": "b7e00950",
   "metadata": {},
   "outputs": [],
   "source": [
    "df = pd.read_excel(\"KPMG.xlsx\")"
   ]
  },
  {
   "cell_type": "markdown",
   "id": "a911ef41",
   "metadata": {},
   "source": [
    "#### creating separate variable for data set"
   ]
  },
  {
   "cell_type": "code",
   "execution_count": 3,
   "id": "418ce5c3",
   "metadata": {},
   "outputs": [],
   "source": [
    "transaction = pd.read_excel(\"KPMG.xlsx\",sheet_name = 1,skiprows = 1)\n",
    "CustomerDemographic = pd.read_excel(\"KPMG.xlsx\", sheet_name = 3 , skiprows = 1)\n",
    "CustomerAddress = pd.read_excel(\"KPMG.xlsx\", sheet_name = 4, skiprows = 1)\n",
    "NewCustomerlist = pd.read_excel(\"KPMG.xlsx\", sheet_name = 2, skiprows = 1)"
   ]
  },
  {
   "cell_type": "markdown",
   "id": "593ce6e3",
   "metadata": {},
   "source": [
    "#### -------------------------------------------------------------------------------------------------------------------------------------------------------------------------------------------------------------"
   ]
  },
  {
   "cell_type": "markdown",
   "id": "d6792046",
   "metadata": {},
   "source": [
    "#### checking transaction data set"
   ]
  },
  {
   "cell_type": "code",
   "execution_count": 4,
   "id": "4aa7baa6",
   "metadata": {},
   "outputs": [
    {
     "data": {
      "text/html": [
       "<div>\n",
       "<style scoped>\n",
       "    .dataframe tbody tr th:only-of-type {\n",
       "        vertical-align: middle;\n",
       "    }\n",
       "\n",
       "    .dataframe tbody tr th {\n",
       "        vertical-align: top;\n",
       "    }\n",
       "\n",
       "    .dataframe thead th {\n",
       "        text-align: right;\n",
       "    }\n",
       "</style>\n",
       "<table border=\"1\" class=\"dataframe\">\n",
       "  <thead>\n",
       "    <tr style=\"text-align: right;\">\n",
       "      <th></th>\n",
       "      <th>transaction_id</th>\n",
       "      <th>product_id</th>\n",
       "      <th>customer_id</th>\n",
       "      <th>transaction_date</th>\n",
       "      <th>online_order</th>\n",
       "      <th>order_status</th>\n",
       "      <th>brand</th>\n",
       "      <th>product_line</th>\n",
       "      <th>product_class</th>\n",
       "      <th>product_size</th>\n",
       "      <th>list_price</th>\n",
       "      <th>standard_cost</th>\n",
       "      <th>product_first_sold_date</th>\n",
       "    </tr>\n",
       "  </thead>\n",
       "  <tbody>\n",
       "    <tr>\n",
       "      <th>0</th>\n",
       "      <td>1</td>\n",
       "      <td>2</td>\n",
       "      <td>2950</td>\n",
       "      <td>2017-02-25</td>\n",
       "      <td>0.0</td>\n",
       "      <td>Approved</td>\n",
       "      <td>Solex</td>\n",
       "      <td>Standard</td>\n",
       "      <td>medium</td>\n",
       "      <td>medium</td>\n",
       "      <td>71.49</td>\n",
       "      <td>53.62</td>\n",
       "      <td>41245.0</td>\n",
       "    </tr>\n",
       "    <tr>\n",
       "      <th>1</th>\n",
       "      <td>2</td>\n",
       "      <td>3</td>\n",
       "      <td>3120</td>\n",
       "      <td>2017-05-21</td>\n",
       "      <td>1.0</td>\n",
       "      <td>Approved</td>\n",
       "      <td>Trek Bicycles</td>\n",
       "      <td>Standard</td>\n",
       "      <td>medium</td>\n",
       "      <td>large</td>\n",
       "      <td>2091.47</td>\n",
       "      <td>388.92</td>\n",
       "      <td>41701.0</td>\n",
       "    </tr>\n",
       "    <tr>\n",
       "      <th>2</th>\n",
       "      <td>3</td>\n",
       "      <td>37</td>\n",
       "      <td>402</td>\n",
       "      <td>2017-10-16</td>\n",
       "      <td>0.0</td>\n",
       "      <td>Approved</td>\n",
       "      <td>OHM Cycles</td>\n",
       "      <td>Standard</td>\n",
       "      <td>low</td>\n",
       "      <td>medium</td>\n",
       "      <td>1793.43</td>\n",
       "      <td>248.82</td>\n",
       "      <td>36361.0</td>\n",
       "    </tr>\n",
       "    <tr>\n",
       "      <th>3</th>\n",
       "      <td>4</td>\n",
       "      <td>88</td>\n",
       "      <td>3135</td>\n",
       "      <td>2017-08-31</td>\n",
       "      <td>0.0</td>\n",
       "      <td>Approved</td>\n",
       "      <td>Norco Bicycles</td>\n",
       "      <td>Standard</td>\n",
       "      <td>medium</td>\n",
       "      <td>medium</td>\n",
       "      <td>1198.46</td>\n",
       "      <td>381.10</td>\n",
       "      <td>36145.0</td>\n",
       "    </tr>\n",
       "    <tr>\n",
       "      <th>4</th>\n",
       "      <td>5</td>\n",
       "      <td>78</td>\n",
       "      <td>787</td>\n",
       "      <td>2017-10-01</td>\n",
       "      <td>1.0</td>\n",
       "      <td>Approved</td>\n",
       "      <td>Giant Bicycles</td>\n",
       "      <td>Standard</td>\n",
       "      <td>medium</td>\n",
       "      <td>large</td>\n",
       "      <td>1765.30</td>\n",
       "      <td>709.48</td>\n",
       "      <td>42226.0</td>\n",
       "    </tr>\n",
       "  </tbody>\n",
       "</table>\n",
       "</div>"
      ],
      "text/plain": [
       "   transaction_id  product_id  customer_id transaction_date  online_order  \\\n",
       "0               1           2         2950       2017-02-25           0.0   \n",
       "1               2           3         3120       2017-05-21           1.0   \n",
       "2               3          37          402       2017-10-16           0.0   \n",
       "3               4          88         3135       2017-08-31           0.0   \n",
       "4               5          78          787       2017-10-01           1.0   \n",
       "\n",
       "  order_status           brand product_line product_class product_size  \\\n",
       "0     Approved           Solex     Standard        medium       medium   \n",
       "1     Approved   Trek Bicycles     Standard        medium        large   \n",
       "2     Approved      OHM Cycles     Standard           low       medium   \n",
       "3     Approved  Norco Bicycles     Standard        medium       medium   \n",
       "4     Approved  Giant Bicycles     Standard        medium        large   \n",
       "\n",
       "   list_price  standard_cost  product_first_sold_date  \n",
       "0       71.49          53.62                  41245.0  \n",
       "1     2091.47         388.92                  41701.0  \n",
       "2     1793.43         248.82                  36361.0  \n",
       "3     1198.46         381.10                  36145.0  \n",
       "4     1765.30         709.48                  42226.0  "
      ]
     },
     "execution_count": 4,
     "metadata": {},
     "output_type": "execute_result"
    }
   ],
   "source": [
    "transaction.head()"
   ]
  },
  {
   "cell_type": "code",
   "execution_count": 5,
   "id": "553c32f5",
   "metadata": {},
   "outputs": [
    {
     "data": {
      "text/plain": [
       "(20000, 13)"
      ]
     },
     "execution_count": 5,
     "metadata": {},
     "output_type": "execute_result"
    }
   ],
   "source": [
    "transaction.shape"
   ]
  },
  {
   "cell_type": "code",
   "execution_count": 6,
   "id": "7e910083",
   "metadata": {},
   "outputs": [
    {
     "name": "stdout",
     "output_type": "stream",
     "text": [
      "<class 'pandas.core.frame.DataFrame'>\n",
      "RangeIndex: 20000 entries, 0 to 19999\n",
      "Data columns (total 13 columns):\n",
      " #   Column                   Non-Null Count  Dtype         \n",
      "---  ------                   --------------  -----         \n",
      " 0   transaction_id           20000 non-null  int64         \n",
      " 1   product_id               20000 non-null  int64         \n",
      " 2   customer_id              20000 non-null  int64         \n",
      " 3   transaction_date         20000 non-null  datetime64[ns]\n",
      " 4   online_order             19640 non-null  float64       \n",
      " 5   order_status             20000 non-null  object        \n",
      " 6   brand                    19803 non-null  object        \n",
      " 7   product_line             19803 non-null  object        \n",
      " 8   product_class            19803 non-null  object        \n",
      " 9   product_size             19803 non-null  object        \n",
      " 10  list_price               20000 non-null  float64       \n",
      " 11  standard_cost            19803 non-null  float64       \n",
      " 12  product_first_sold_date  19803 non-null  float64       \n",
      "dtypes: datetime64[ns](1), float64(4), int64(3), object(5)\n",
      "memory usage: 2.0+ MB\n"
     ]
    }
   ],
   "source": [
    "transaction.info()"
   ]
  },
  {
   "cell_type": "code",
   "execution_count": 7,
   "id": "f6823aba",
   "metadata": {},
   "outputs": [
    {
     "data": {
      "text/html": [
       "<div>\n",
       "<style scoped>\n",
       "    .dataframe tbody tr th:only-of-type {\n",
       "        vertical-align: middle;\n",
       "    }\n",
       "\n",
       "    .dataframe tbody tr th {\n",
       "        vertical-align: top;\n",
       "    }\n",
       "\n",
       "    .dataframe thead th {\n",
       "        text-align: right;\n",
       "    }\n",
       "</style>\n",
       "<table border=\"1\" class=\"dataframe\">\n",
       "  <thead>\n",
       "    <tr style=\"text-align: right;\">\n",
       "      <th></th>\n",
       "      <th>transaction_id</th>\n",
       "      <th>product_id</th>\n",
       "      <th>customer_id</th>\n",
       "      <th>transaction_date</th>\n",
       "      <th>online_order</th>\n",
       "      <th>list_price</th>\n",
       "      <th>standard_cost</th>\n",
       "      <th>product_first_sold_date</th>\n",
       "    </tr>\n",
       "  </thead>\n",
       "  <tbody>\n",
       "    <tr>\n",
       "      <th>count</th>\n",
       "      <td>20000.000000</td>\n",
       "      <td>20000.00000</td>\n",
       "      <td>20000.000000</td>\n",
       "      <td>20000</td>\n",
       "      <td>19640.000000</td>\n",
       "      <td>20000.000000</td>\n",
       "      <td>19803.000000</td>\n",
       "      <td>19803.000000</td>\n",
       "    </tr>\n",
       "    <tr>\n",
       "      <th>mean</th>\n",
       "      <td>10000.500000</td>\n",
       "      <td>45.36465</td>\n",
       "      <td>1738.246050</td>\n",
       "      <td>2017-07-01 14:08:05.280000</td>\n",
       "      <td>0.500458</td>\n",
       "      <td>1107.829449</td>\n",
       "      <td>556.046951</td>\n",
       "      <td>38199.776549</td>\n",
       "    </tr>\n",
       "    <tr>\n",
       "      <th>min</th>\n",
       "      <td>1.000000</td>\n",
       "      <td>0.00000</td>\n",
       "      <td>1.000000</td>\n",
       "      <td>2017-01-01 00:00:00</td>\n",
       "      <td>0.000000</td>\n",
       "      <td>12.010000</td>\n",
       "      <td>7.210000</td>\n",
       "      <td>33259.000000</td>\n",
       "    </tr>\n",
       "    <tr>\n",
       "      <th>25%</th>\n",
       "      <td>5000.750000</td>\n",
       "      <td>18.00000</td>\n",
       "      <td>857.750000</td>\n",
       "      <td>2017-04-01 00:00:00</td>\n",
       "      <td>0.000000</td>\n",
       "      <td>575.270000</td>\n",
       "      <td>215.140000</td>\n",
       "      <td>35667.000000</td>\n",
       "    </tr>\n",
       "    <tr>\n",
       "      <th>50%</th>\n",
       "      <td>10000.500000</td>\n",
       "      <td>44.00000</td>\n",
       "      <td>1736.000000</td>\n",
       "      <td>2017-07-03 00:00:00</td>\n",
       "      <td>1.000000</td>\n",
       "      <td>1163.890000</td>\n",
       "      <td>507.580000</td>\n",
       "      <td>38216.000000</td>\n",
       "    </tr>\n",
       "    <tr>\n",
       "      <th>75%</th>\n",
       "      <td>15000.250000</td>\n",
       "      <td>72.00000</td>\n",
       "      <td>2613.000000</td>\n",
       "      <td>2017-10-02 00:00:00</td>\n",
       "      <td>1.000000</td>\n",
       "      <td>1635.300000</td>\n",
       "      <td>795.100000</td>\n",
       "      <td>40672.000000</td>\n",
       "    </tr>\n",
       "    <tr>\n",
       "      <th>max</th>\n",
       "      <td>20000.000000</td>\n",
       "      <td>100.00000</td>\n",
       "      <td>5034.000000</td>\n",
       "      <td>2017-12-30 00:00:00</td>\n",
       "      <td>1.000000</td>\n",
       "      <td>2091.470000</td>\n",
       "      <td>1759.850000</td>\n",
       "      <td>42710.000000</td>\n",
       "    </tr>\n",
       "    <tr>\n",
       "      <th>std</th>\n",
       "      <td>5773.647028</td>\n",
       "      <td>30.75359</td>\n",
       "      <td>1011.951046</td>\n",
       "      <td>NaN</td>\n",
       "      <td>0.500013</td>\n",
       "      <td>582.825242</td>\n",
       "      <td>405.955660</td>\n",
       "      <td>2875.201110</td>\n",
       "    </tr>\n",
       "  </tbody>\n",
       "</table>\n",
       "</div>"
      ],
      "text/plain": [
       "       transaction_id   product_id   customer_id            transaction_date  \\\n",
       "count    20000.000000  20000.00000  20000.000000                       20000   \n",
       "mean     10000.500000     45.36465   1738.246050  2017-07-01 14:08:05.280000   \n",
       "min          1.000000      0.00000      1.000000         2017-01-01 00:00:00   \n",
       "25%       5000.750000     18.00000    857.750000         2017-04-01 00:00:00   \n",
       "50%      10000.500000     44.00000   1736.000000         2017-07-03 00:00:00   \n",
       "75%      15000.250000     72.00000   2613.000000         2017-10-02 00:00:00   \n",
       "max      20000.000000    100.00000   5034.000000         2017-12-30 00:00:00   \n",
       "std       5773.647028     30.75359   1011.951046                         NaN   \n",
       "\n",
       "       online_order    list_price  standard_cost  product_first_sold_date  \n",
       "count  19640.000000  20000.000000   19803.000000             19803.000000  \n",
       "mean       0.500458   1107.829449     556.046951             38199.776549  \n",
       "min        0.000000     12.010000       7.210000             33259.000000  \n",
       "25%        0.000000    575.270000     215.140000             35667.000000  \n",
       "50%        1.000000   1163.890000     507.580000             38216.000000  \n",
       "75%        1.000000   1635.300000     795.100000             40672.000000  \n",
       "max        1.000000   2091.470000    1759.850000             42710.000000  \n",
       "std        0.500013    582.825242     405.955660              2875.201110  "
      ]
     },
     "execution_count": 7,
     "metadata": {},
     "output_type": "execute_result"
    }
   ],
   "source": [
    "transaction.describe()"
   ]
  },
  {
   "cell_type": "code",
   "execution_count": 8,
   "id": "1d75e342",
   "metadata": {},
   "outputs": [
    {
     "data": {
      "text/plain": [
       "brand\n",
       "Solex             4253\n",
       "Giant Bicycles    3312\n",
       "WeareA2B          3295\n",
       "OHM Cycles        3043\n",
       "Trek Bicycles     2990\n",
       "Norco Bicycles    2910\n",
       "Name: count, dtype: int64"
      ]
     },
     "execution_count": 8,
     "metadata": {},
     "output_type": "execute_result"
    }
   ],
   "source": [
    "transaction.brand.value_counts()"
   ]
  },
  {
   "cell_type": "markdown",
   "id": "c9d0e8d6",
   "metadata": {},
   "source": [
    "#### checking null values in the transaction data frame"
   ]
  },
  {
   "cell_type": "code",
   "execution_count": 9,
   "id": "eca65d6b",
   "metadata": {},
   "outputs": [
    {
     "data": {
      "text/plain": [
       "transaction_id               0\n",
       "product_id                   0\n",
       "customer_id                  0\n",
       "transaction_date             0\n",
       "online_order               360\n",
       "order_status                 0\n",
       "brand                      197\n",
       "product_line               197\n",
       "product_class              197\n",
       "product_size               197\n",
       "list_price                   0\n",
       "standard_cost              197\n",
       "product_first_sold_date    197\n",
       "dtype: int64"
      ]
     },
     "execution_count": 9,
     "metadata": {},
     "output_type": "execute_result"
    }
   ],
   "source": [
    "transaction.isnull().sum()"
   ]
  },
  {
   "cell_type": "markdown",
   "id": "0f34e489",
   "metadata": {},
   "source": [
    "#### Checking for Brand Column"
   ]
  },
  {
   "cell_type": "code",
   "execution_count": 10,
   "id": "1a6731ff",
   "metadata": {},
   "outputs": [
    {
     "data": {
      "text/plain": [
       "brand\n",
       "Solex             4253\n",
       "Giant Bicycles    3312\n",
       "WeareA2B          3295\n",
       "OHM Cycles        3043\n",
       "Trek Bicycles     2990\n",
       "Norco Bicycles    2910\n",
       "Name: count, dtype: int64"
      ]
     },
     "execution_count": 10,
     "metadata": {},
     "output_type": "execute_result"
    }
   ],
   "source": [
    "transaction.brand.value_counts()"
   ]
  },
  {
   "cell_type": "markdown",
   "id": "42d19113",
   "metadata": {},
   "source": [
    "#### Dropping brand null value\n"
   ]
  },
  {
   "cell_type": "code",
   "execution_count": 11,
   "id": "67426583",
   "metadata": {},
   "outputs": [],
   "source": [
    "transaction_1 = transaction[transaction['brand'].isnull()]"
   ]
  },
  {
   "cell_type": "code",
   "execution_count": 12,
   "id": "60fa46c8",
   "metadata": {},
   "outputs": [],
   "source": [
    "transaction.drop(transaction_1.index,inplace = True)"
   ]
  },
  {
   "cell_type": "markdown",
   "id": "7fbf9fa9",
   "metadata": {},
   "source": [
    "#### Finding mode for order_online \n"
   ]
  },
  {
   "cell_type": "code",
   "execution_count": 13,
   "id": "51c65ec8",
   "metadata": {},
   "outputs": [
    {
     "data": {
      "text/plain": [
       "1.0"
      ]
     },
     "execution_count": 13,
     "metadata": {},
     "output_type": "execute_result"
    }
   ],
   "source": [
    "mode_online_data =  transaction.online_order.mode()[0]\n",
    "mode_online_data"
   ]
  },
  {
   "cell_type": "markdown",
   "id": "6e607777",
   "metadata": {},
   "source": [
    "#### Replacing the null value with mode_online_data"
   ]
  },
  {
   "cell_type": "code",
   "execution_count": 14,
   "id": "b12c6755",
   "metadata": {},
   "outputs": [],
   "source": [
    "transaction['online_order'] = transaction['online_order'].fillna(mode_online_data)"
   ]
  },
  {
   "cell_type": "markdown",
   "id": "ce47af26",
   "metadata": {},
   "source": [
    "#### Checking null value \n"
   ]
  },
  {
   "cell_type": "code",
   "execution_count": 15,
   "id": "a7c07378",
   "metadata": {},
   "outputs": [
    {
     "data": {
      "text/plain": [
       "transaction_id             0\n",
       "product_id                 0\n",
       "customer_id                0\n",
       "transaction_date           0\n",
       "online_order               0\n",
       "order_status               0\n",
       "brand                      0\n",
       "product_line               0\n",
       "product_class              0\n",
       "product_size               0\n",
       "list_price                 0\n",
       "standard_cost              0\n",
       "product_first_sold_date    0\n",
       "dtype: int64"
      ]
     },
     "execution_count": 15,
     "metadata": {},
     "output_type": "execute_result"
    }
   ],
   "source": [
    "transaction.isnull().sum()"
   ]
  },
  {
   "cell_type": "markdown",
   "id": "7668c980",
   "metadata": {},
   "source": [
    "#### ------------------------------------------------------------------------------------------------------------------------------------------------------------------------------------------------------------------"
   ]
  },
  {
   "cell_type": "markdown",
   "id": "ec1d6046",
   "metadata": {},
   "source": [
    "### lets check CustomerDemographic data frame"
   ]
  },
  {
   "cell_type": "code",
   "execution_count": 16,
   "id": "c4eba752",
   "metadata": {},
   "outputs": [
    {
     "data": {
      "text/html": [
       "<div>\n",
       "<style scoped>\n",
       "    .dataframe tbody tr th:only-of-type {\n",
       "        vertical-align: middle;\n",
       "    }\n",
       "\n",
       "    .dataframe tbody tr th {\n",
       "        vertical-align: top;\n",
       "    }\n",
       "\n",
       "    .dataframe thead th {\n",
       "        text-align: right;\n",
       "    }\n",
       "</style>\n",
       "<table border=\"1\" class=\"dataframe\">\n",
       "  <thead>\n",
       "    <tr style=\"text-align: right;\">\n",
       "      <th></th>\n",
       "      <th>customer_id</th>\n",
       "      <th>first_name</th>\n",
       "      <th>last_name</th>\n",
       "      <th>gender</th>\n",
       "      <th>past_3_years_bike_related_purchases</th>\n",
       "      <th>DOB</th>\n",
       "      <th>job_title</th>\n",
       "      <th>job_industry_category</th>\n",
       "      <th>wealth_segment</th>\n",
       "      <th>deceased_indicator</th>\n",
       "      <th>default</th>\n",
       "      <th>owns_car</th>\n",
       "      <th>tenure</th>\n",
       "    </tr>\n",
       "  </thead>\n",
       "  <tbody>\n",
       "    <tr>\n",
       "      <th>0</th>\n",
       "      <td>1</td>\n",
       "      <td>Laraine</td>\n",
       "      <td>Medendorp</td>\n",
       "      <td>F</td>\n",
       "      <td>93</td>\n",
       "      <td>1953-10-12 00:00:00</td>\n",
       "      <td>Executive Secretary</td>\n",
       "      <td>Health</td>\n",
       "      <td>Mass Customer</td>\n",
       "      <td>N</td>\n",
       "      <td>\"'</td>\n",
       "      <td>Yes</td>\n",
       "      <td>11.0</td>\n",
       "    </tr>\n",
       "    <tr>\n",
       "      <th>1</th>\n",
       "      <td>2</td>\n",
       "      <td>Eli</td>\n",
       "      <td>Bockman</td>\n",
       "      <td>Male</td>\n",
       "      <td>81</td>\n",
       "      <td>1980-12-16 00:00:00</td>\n",
       "      <td>Administrative Officer</td>\n",
       "      <td>Financial Services</td>\n",
       "      <td>Mass Customer</td>\n",
       "      <td>N</td>\n",
       "      <td>&lt;script&gt;alert('hi')&lt;/script&gt;</td>\n",
       "      <td>Yes</td>\n",
       "      <td>16.0</td>\n",
       "    </tr>\n",
       "    <tr>\n",
       "      <th>2</th>\n",
       "      <td>3</td>\n",
       "      <td>Arlin</td>\n",
       "      <td>Dearle</td>\n",
       "      <td>Male</td>\n",
       "      <td>61</td>\n",
       "      <td>1954-01-20 00:00:00</td>\n",
       "      <td>Recruiting Manager</td>\n",
       "      <td>Property</td>\n",
       "      <td>Mass Customer</td>\n",
       "      <td>N</td>\n",
       "      <td>2018-02-01 00:00:00</td>\n",
       "      <td>Yes</td>\n",
       "      <td>15.0</td>\n",
       "    </tr>\n",
       "    <tr>\n",
       "      <th>3</th>\n",
       "      <td>4</td>\n",
       "      <td>Talbot</td>\n",
       "      <td>NaN</td>\n",
       "      <td>Male</td>\n",
       "      <td>33</td>\n",
       "      <td>1961-10-03 00:00:00</td>\n",
       "      <td>NaN</td>\n",
       "      <td>IT</td>\n",
       "      <td>Mass Customer</td>\n",
       "      <td>N</td>\n",
       "      <td>() { _; } &gt;_[$($())] { touch /tmp/blns.shellsh...</td>\n",
       "      <td>No</td>\n",
       "      <td>7.0</td>\n",
       "    </tr>\n",
       "    <tr>\n",
       "      <th>4</th>\n",
       "      <td>5</td>\n",
       "      <td>Sheila-kathryn</td>\n",
       "      <td>Calton</td>\n",
       "      <td>Female</td>\n",
       "      <td>56</td>\n",
       "      <td>1977-05-13 00:00:00</td>\n",
       "      <td>Senior Editor</td>\n",
       "      <td>NaN</td>\n",
       "      <td>Affluent Customer</td>\n",
       "      <td>N</td>\n",
       "      <td>NIL</td>\n",
       "      <td>Yes</td>\n",
       "      <td>8.0</td>\n",
       "    </tr>\n",
       "  </tbody>\n",
       "</table>\n",
       "</div>"
      ],
      "text/plain": [
       "   customer_id      first_name  last_name  gender  \\\n",
       "0            1         Laraine  Medendorp       F   \n",
       "1            2             Eli    Bockman    Male   \n",
       "2            3           Arlin     Dearle    Male   \n",
       "3            4          Talbot        NaN    Male   \n",
       "4            5  Sheila-kathryn     Calton  Female   \n",
       "\n",
       "   past_3_years_bike_related_purchases                  DOB  \\\n",
       "0                                   93  1953-10-12 00:00:00   \n",
       "1                                   81  1980-12-16 00:00:00   \n",
       "2                                   61  1954-01-20 00:00:00   \n",
       "3                                   33  1961-10-03 00:00:00   \n",
       "4                                   56  1977-05-13 00:00:00   \n",
       "\n",
       "                job_title job_industry_category     wealth_segment  \\\n",
       "0     Executive Secretary                Health      Mass Customer   \n",
       "1  Administrative Officer    Financial Services      Mass Customer   \n",
       "2      Recruiting Manager              Property      Mass Customer   \n",
       "3                     NaN                    IT      Mass Customer   \n",
       "4           Senior Editor                   NaN  Affluent Customer   \n",
       "\n",
       "  deceased_indicator                                            default  \\\n",
       "0                  N                                                 \"'   \n",
       "1                  N                       <script>alert('hi')</script>   \n",
       "2                  N                                2018-02-01 00:00:00   \n",
       "3                  N  () { _; } >_[$($())] { touch /tmp/blns.shellsh...   \n",
       "4                  N                                                NIL   \n",
       "\n",
       "  owns_car  tenure  \n",
       "0      Yes    11.0  \n",
       "1      Yes    16.0  \n",
       "2      Yes    15.0  \n",
       "3       No     7.0  \n",
       "4      Yes     8.0  "
      ]
     },
     "execution_count": 16,
     "metadata": {},
     "output_type": "execute_result"
    }
   ],
   "source": [
    "CustomerDemographic.head()"
   ]
  },
  {
   "cell_type": "code",
   "execution_count": 17,
   "id": "376508c5",
   "metadata": {},
   "outputs": [
    {
     "data": {
      "text/plain": [
       "Index(['customer_id', 'first_name', 'last_name', 'gender',\n",
       "       'past_3_years_bike_related_purchases', 'DOB', 'job_title',\n",
       "       'job_industry_category', 'wealth_segment', 'deceased_indicator',\n",
       "       'default', 'owns_car', 'tenure'],\n",
       "      dtype='object')"
      ]
     },
     "execution_count": 17,
     "metadata": {},
     "output_type": "execute_result"
    }
   ],
   "source": [
    "CustomerDemographic.columns"
   ]
  },
  {
   "cell_type": "code",
   "execution_count": 18,
   "id": "94ecafb6",
   "metadata": {},
   "outputs": [
    {
     "name": "stdout",
     "output_type": "stream",
     "text": [
      "<class 'pandas.core.frame.DataFrame'>\n",
      "RangeIndex: 4000 entries, 0 to 3999\n",
      "Data columns (total 13 columns):\n",
      " #   Column                               Non-Null Count  Dtype  \n",
      "---  ------                               --------------  -----  \n",
      " 0   customer_id                          4000 non-null   int64  \n",
      " 1   first_name                           4000 non-null   object \n",
      " 2   last_name                            3875 non-null   object \n",
      " 3   gender                               4000 non-null   object \n",
      " 4   past_3_years_bike_related_purchases  4000 non-null   int64  \n",
      " 5   DOB                                  3913 non-null   object \n",
      " 6   job_title                            3494 non-null   object \n",
      " 7   job_industry_category                3344 non-null   object \n",
      " 8   wealth_segment                       4000 non-null   object \n",
      " 9   deceased_indicator                   4000 non-null   object \n",
      " 10  default                              3698 non-null   object \n",
      " 11  owns_car                             4000 non-null   object \n",
      " 12  tenure                               3913 non-null   float64\n",
      "dtypes: float64(1), int64(2), object(10)\n",
      "memory usage: 406.4+ KB\n"
     ]
    }
   ],
   "source": [
    "CustomerDemographic.info()"
   ]
  },
  {
   "cell_type": "code",
   "execution_count": 19,
   "id": "9f175d1b",
   "metadata": {},
   "outputs": [
    {
     "data": {
      "text/plain": [
       "(4000, 13)"
      ]
     },
     "execution_count": 19,
     "metadata": {},
     "output_type": "execute_result"
    }
   ],
   "source": [
    "CustomerDemographic.shape"
   ]
  },
  {
   "cell_type": "code",
   "execution_count": 20,
   "id": "0bc3ee4e",
   "metadata": {},
   "outputs": [
    {
     "data": {
      "text/html": [
       "<div>\n",
       "<style scoped>\n",
       "    .dataframe tbody tr th:only-of-type {\n",
       "        vertical-align: middle;\n",
       "    }\n",
       "\n",
       "    .dataframe tbody tr th {\n",
       "        vertical-align: top;\n",
       "    }\n",
       "\n",
       "    .dataframe thead th {\n",
       "        text-align: right;\n",
       "    }\n",
       "</style>\n",
       "<table border=\"1\" class=\"dataframe\">\n",
       "  <thead>\n",
       "    <tr style=\"text-align: right;\">\n",
       "      <th></th>\n",
       "      <th>customer_id</th>\n",
       "      <th>past_3_years_bike_related_purchases</th>\n",
       "      <th>tenure</th>\n",
       "    </tr>\n",
       "  </thead>\n",
       "  <tbody>\n",
       "    <tr>\n",
       "      <th>count</th>\n",
       "      <td>4000.000000</td>\n",
       "      <td>4000.000000</td>\n",
       "      <td>3913.000000</td>\n",
       "    </tr>\n",
       "    <tr>\n",
       "      <th>mean</th>\n",
       "      <td>2000.500000</td>\n",
       "      <td>48.890000</td>\n",
       "      <td>10.657041</td>\n",
       "    </tr>\n",
       "    <tr>\n",
       "      <th>std</th>\n",
       "      <td>1154.844867</td>\n",
       "      <td>28.715005</td>\n",
       "      <td>5.660146</td>\n",
       "    </tr>\n",
       "    <tr>\n",
       "      <th>min</th>\n",
       "      <td>1.000000</td>\n",
       "      <td>0.000000</td>\n",
       "      <td>1.000000</td>\n",
       "    </tr>\n",
       "    <tr>\n",
       "      <th>25%</th>\n",
       "      <td>1000.750000</td>\n",
       "      <td>24.000000</td>\n",
       "      <td>6.000000</td>\n",
       "    </tr>\n",
       "    <tr>\n",
       "      <th>50%</th>\n",
       "      <td>2000.500000</td>\n",
       "      <td>48.000000</td>\n",
       "      <td>11.000000</td>\n",
       "    </tr>\n",
       "    <tr>\n",
       "      <th>75%</th>\n",
       "      <td>3000.250000</td>\n",
       "      <td>73.000000</td>\n",
       "      <td>15.000000</td>\n",
       "    </tr>\n",
       "    <tr>\n",
       "      <th>max</th>\n",
       "      <td>4000.000000</td>\n",
       "      <td>99.000000</td>\n",
       "      <td>22.000000</td>\n",
       "    </tr>\n",
       "  </tbody>\n",
       "</table>\n",
       "</div>"
      ],
      "text/plain": [
       "       customer_id  past_3_years_bike_related_purchases       tenure\n",
       "count  4000.000000                          4000.000000  3913.000000\n",
       "mean   2000.500000                            48.890000    10.657041\n",
       "std    1154.844867                            28.715005     5.660146\n",
       "min       1.000000                             0.000000     1.000000\n",
       "25%    1000.750000                            24.000000     6.000000\n",
       "50%    2000.500000                            48.000000    11.000000\n",
       "75%    3000.250000                            73.000000    15.000000\n",
       "max    4000.000000                            99.000000    22.000000"
      ]
     },
     "execution_count": 20,
     "metadata": {},
     "output_type": "execute_result"
    }
   ],
   "source": [
    "CustomerDemographic.describe()"
   ]
  },
  {
   "cell_type": "markdown",
   "id": "c501fdae",
   "metadata": {},
   "source": [
    "#### Lets Check unique value"
   ]
  },
  {
   "cell_type": "code",
   "execution_count": 21,
   "id": "b261c674",
   "metadata": {},
   "outputs": [
    {
     "data": {
      "text/plain": [
       "array(['F', 'Male', 'Female', 'U', 'Femal', 'M'], dtype=object)"
      ]
     },
     "execution_count": 21,
     "metadata": {},
     "output_type": "execute_result"
    }
   ],
   "source": [
    "CustomerDemographic.gender.unique()"
   ]
  },
  {
   "cell_type": "markdown",
   "id": "16d54cbd",
   "metadata": {},
   "source": [
    "#### Lets correct the column"
   ]
  },
  {
   "cell_type": "code",
   "execution_count": 22,
   "id": "59f5029f",
   "metadata": {},
   "outputs": [],
   "source": [
    "CustomerDemographic['gender'] = CustomerDemographic['gender'].map(lambda x : 'Female' if x == 'F' or x == \"Femal\" else ('Male' if x == 'M' else ( \"Unspecified\" if x == 'U' else x)))"
   ]
  },
  {
   "cell_type": "markdown",
   "id": "b07555f7",
   "metadata": {},
   "source": [
    "#### checking the gender column\n"
   ]
  },
  {
   "cell_type": "code",
   "execution_count": 23,
   "id": "53403c50",
   "metadata": {},
   "outputs": [
    {
     "data": {
      "text/plain": [
       "gender\n",
       "Female         2039\n",
       "Male           1873\n",
       "Unspecified      88\n",
       "Name: count, dtype: int64"
      ]
     },
     "execution_count": 23,
     "metadata": {},
     "output_type": "execute_result"
    }
   ],
   "source": [
    "CustomerDemographic[\"gender\"].value_counts()"
   ]
  },
  {
   "cell_type": "markdown",
   "id": "52295e73",
   "metadata": {},
   "source": [
    "#### Lets Check the null value"
   ]
  },
  {
   "cell_type": "code",
   "execution_count": 24,
   "id": "61ff66c8",
   "metadata": {},
   "outputs": [
    {
     "data": {
      "text/plain": [
       "customer_id                              0\n",
       "first_name                               0\n",
       "last_name                              125\n",
       "gender                                   0\n",
       "past_3_years_bike_related_purchases      0\n",
       "DOB                                     87\n",
       "job_title                              506\n",
       "job_industry_category                  656\n",
       "wealth_segment                           0\n",
       "deceased_indicator                       0\n",
       "default                                302\n",
       "owns_car                                 0\n",
       "tenure                                  87\n",
       "dtype: int64"
      ]
     },
     "execution_count": 24,
     "metadata": {},
     "output_type": "execute_result"
    }
   ],
   "source": [
    "CustomerDemographic.isnull().sum()"
   ]
  },
  {
   "cell_type": "markdown",
   "id": "0281ccf9",
   "metadata": {},
   "source": [
    "#### Lets remove Default from data set "
   ]
  },
  {
   "cell_type": "code",
   "execution_count": 25,
   "id": "642e634b",
   "metadata": {},
   "outputs": [],
   "source": [
    "CustomerDemographic.drop('default',axis = 1,inplace = True)"
   ]
  },
  {
   "cell_type": "markdown",
   "id": "123dccaa",
   "metadata": {},
   "source": [
    "#### Examining the data set"
   ]
  },
  {
   "cell_type": "code",
   "execution_count": 26,
   "id": "30beae0e",
   "metadata": {},
   "outputs": [
    {
     "data": {
      "text/plain": [
       "customer_id                              0\n",
       "first_name                               0\n",
       "last_name                              125\n",
       "gender                                   0\n",
       "past_3_years_bike_related_purchases      0\n",
       "DOB                                     87\n",
       "job_title                              506\n",
       "job_industry_category                  656\n",
       "wealth_segment                           0\n",
       "deceased_indicator                       0\n",
       "owns_car                                 0\n",
       "tenure                                  87\n",
       "dtype: int64"
      ]
     },
     "execution_count": 26,
     "metadata": {},
     "output_type": "execute_result"
    }
   ],
   "source": [
    "CustomerDemographic.isnull().sum()"
   ]
  },
  {
   "cell_type": "markdown",
   "id": "0c6893bd",
   "metadata": {},
   "source": [
    "#### Examining  the deceased_indicator column"
   ]
  },
  {
   "cell_type": "code",
   "execution_count": 27,
   "id": "31464684",
   "metadata": {},
   "outputs": [
    {
     "data": {
      "text/plain": [
       "deceased_indicator\n",
       "N    3998\n",
       "Y       2\n",
       "Name: count, dtype: int64"
      ]
     },
     "execution_count": 27,
     "metadata": {},
     "output_type": "execute_result"
    }
   ],
   "source": [
    "CustomerDemographic.deceased_indicator.value_counts()"
   ]
  },
  {
   "cell_type": "code",
   "execution_count": 28,
   "id": "a5be4e5d",
   "metadata": {},
   "outputs": [],
   "source": [
    "# Create a data frame for deceased customer"
   ]
  },
  {
   "cell_type": "code",
   "execution_count": 29,
   "id": "1ea24f0b",
   "metadata": {},
   "outputs": [],
   "source": [
    "Deceased = CustomerDemographic[CustomerDemographic['deceased_indicator']== 'Y']"
   ]
  },
  {
   "cell_type": "code",
   "execution_count": 30,
   "id": "75ab7523",
   "metadata": {},
   "outputs": [
    {
     "data": {
      "text/html": [
       "<div>\n",
       "<style scoped>\n",
       "    .dataframe tbody tr th:only-of-type {\n",
       "        vertical-align: middle;\n",
       "    }\n",
       "\n",
       "    .dataframe tbody tr th {\n",
       "        vertical-align: top;\n",
       "    }\n",
       "\n",
       "    .dataframe thead th {\n",
       "        text-align: right;\n",
       "    }\n",
       "</style>\n",
       "<table border=\"1\" class=\"dataframe\">\n",
       "  <thead>\n",
       "    <tr style=\"text-align: right;\">\n",
       "      <th></th>\n",
       "      <th>customer_id</th>\n",
       "      <th>first_name</th>\n",
       "      <th>last_name</th>\n",
       "      <th>gender</th>\n",
       "      <th>past_3_years_bike_related_purchases</th>\n",
       "      <th>DOB</th>\n",
       "      <th>job_title</th>\n",
       "      <th>job_industry_category</th>\n",
       "      <th>wealth_segment</th>\n",
       "      <th>deceased_indicator</th>\n",
       "      <th>owns_car</th>\n",
       "      <th>tenure</th>\n",
       "    </tr>\n",
       "  </thead>\n",
       "  <tbody>\n",
       "    <tr>\n",
       "      <th>752</th>\n",
       "      <td>753</td>\n",
       "      <td>Josy</td>\n",
       "      <td>St. Quentin</td>\n",
       "      <td>Female</td>\n",
       "      <td>82</td>\n",
       "      <td>1970-03-07 00:00:00</td>\n",
       "      <td>Food Chemist</td>\n",
       "      <td>Health</td>\n",
       "      <td>Affluent Customer</td>\n",
       "      <td>Y</td>\n",
       "      <td>Yes</td>\n",
       "      <td>6.0</td>\n",
       "    </tr>\n",
       "    <tr>\n",
       "      <th>3789</th>\n",
       "      <td>3790</td>\n",
       "      <td>Kurtis</td>\n",
       "      <td>Morson</td>\n",
       "      <td>Male</td>\n",
       "      <td>91</td>\n",
       "      <td>1959-05-31 00:00:00</td>\n",
       "      <td>Senior Editor</td>\n",
       "      <td>Retail</td>\n",
       "      <td>Mass Customer</td>\n",
       "      <td>Y</td>\n",
       "      <td>Yes</td>\n",
       "      <td>9.0</td>\n",
       "    </tr>\n",
       "  </tbody>\n",
       "</table>\n",
       "</div>"
      ],
      "text/plain": [
       "      customer_id first_name    last_name  gender  \\\n",
       "752           753       Josy  St. Quentin  Female   \n",
       "3789         3790     Kurtis       Morson    Male   \n",
       "\n",
       "      past_3_years_bike_related_purchases                  DOB      job_title  \\\n",
       "752                                    82  1970-03-07 00:00:00   Food Chemist   \n",
       "3789                                   91  1959-05-31 00:00:00  Senior Editor   \n",
       "\n",
       "     job_industry_category     wealth_segment deceased_indicator owns_car  \\\n",
       "752                 Health  Affluent Customer                  Y      Yes   \n",
       "3789                Retail      Mass Customer                  Y      Yes   \n",
       "\n",
       "      tenure  \n",
       "752      6.0  \n",
       "3789     9.0  "
      ]
     },
     "execution_count": 30,
     "metadata": {},
     "output_type": "execute_result"
    }
   ],
   "source": [
    "Deceased.head()"
   ]
  },
  {
   "cell_type": "markdown",
   "id": "8ab390da",
   "metadata": {},
   "source": [
    "##### droping the Deceased index\n"
   ]
  },
  {
   "cell_type": "code",
   "execution_count": 31,
   "id": "708f419c",
   "metadata": {},
   "outputs": [],
   "source": [
    "CustomerDemographic.drop(Deceased.index,axis = 0,inplace = True)"
   ]
  },
  {
   "cell_type": "markdown",
   "id": "da5a97eb",
   "metadata": {},
   "source": [
    "#### checking the value count of deceased indicator "
   ]
  },
  {
   "cell_type": "code",
   "execution_count": 32,
   "id": "eea6ce83",
   "metadata": {},
   "outputs": [
    {
     "data": {
      "text/plain": [
       "deceased_indicator\n",
       "N    3998\n",
       "Name: count, dtype: int64"
      ]
     },
     "execution_count": 32,
     "metadata": {},
     "output_type": "execute_result"
    }
   ],
   "source": [
    "CustomerDemographic['deceased_indicator'].value_counts()"
   ]
  },
  {
   "cell_type": "markdown",
   "id": "7cc88674",
   "metadata": {},
   "source": [
    "#### Examining the job_industry_category column\n"
   ]
  },
  {
   "cell_type": "code",
   "execution_count": 33,
   "id": "cadb57b8",
   "metadata": {},
   "outputs": [
    {
     "data": {
      "text/plain": [
       "job_industry_category\n",
       "Manufacturing         799\n",
       "Financial Services    774\n",
       "Health                601\n",
       "Retail                357\n",
       "Property              267\n",
       "IT                    223\n",
       "Entertainment         136\n",
       "Argiculture           113\n",
       "Telecommunications     72\n",
       "Name: count, dtype: int64"
      ]
     },
     "execution_count": 33,
     "metadata": {},
     "output_type": "execute_result"
    }
   ],
   "source": [
    "CustomerDemographic.job_industry_category.value_counts()"
   ]
  },
  {
   "cell_type": "markdown",
   "id": "c9af4c4f",
   "metadata": {},
   "source": [
    "#### Correct the Agriculture spelling Mistake"
   ]
  },
  {
   "cell_type": "code",
   "execution_count": 34,
   "id": "132f09dc",
   "metadata": {},
   "outputs": [],
   "source": [
    "CustomerDemographic['job_industry_category'] = CustomerDemographic['job_industry_category'].replace('Argiculture','Agriculture')"
   ]
  },
  {
   "cell_type": "markdown",
   "id": "c5e00205",
   "metadata": {},
   "source": [
    "#### Lets check the job_industry_category Column"
   ]
  },
  {
   "cell_type": "code",
   "execution_count": 35,
   "id": "43c65a34",
   "metadata": {},
   "outputs": [
    {
     "data": {
      "text/plain": [
       "job_industry_category\n",
       "Manufacturing         799\n",
       "Financial Services    774\n",
       "Health                601\n",
       "Retail                357\n",
       "Property              267\n",
       "IT                    223\n",
       "Entertainment         136\n",
       "Agriculture           113\n",
       "Telecommunications     72\n",
       "Name: count, dtype: int64"
      ]
     },
     "execution_count": 35,
     "metadata": {},
     "output_type": "execute_result"
    }
   ],
   "source": [
    "CustomerDemographic.job_industry_category.value_counts()"
   ]
  },
  {
   "cell_type": "code",
   "execution_count": 36,
   "id": "4eeb3aa9",
   "metadata": {},
   "outputs": [
    {
     "data": {
      "text/plain": [
       "job_industry_category\n",
       "Manufacturing         23.907840\n",
       "Financial Services    23.159785\n",
       "Health                17.983244\n",
       "Retail                10.682226\n",
       "Property               7.989228\n",
       "IT                     6.672651\n",
       "Entertainment          4.069420\n",
       "Agriculture            3.381209\n",
       "Telecommunications     2.154399\n",
       "Name: proportion, dtype: float64"
      ]
     },
     "execution_count": 36,
     "metadata": {},
     "output_type": "execute_result"
    }
   ],
   "source": [
    "CustomerDemographic.job_industry_category.value_counts(normalize = True)*100"
   ]
  },
  {
   "cell_type": "markdown",
   "id": "1c86026e",
   "metadata": {},
   "source": [
    "#### Here we need to foucus on top for data values\n",
    "1. Manufacturing         23.907840\n",
    "2. Financial Services    23.159785\n",
    "3. Health                17.983244\n",
    "4. Retail                10.682226\n",
    "\n",
    "#### So we can fill  the data with these values  "
   ]
  },
  {
   "cell_type": "markdown",
   "id": "3a2132d3",
   "metadata": {},
   "source": [
    "#### Lets check the percentage of null value in job_industry_category"
   ]
  },
  {
   "cell_type": "code",
   "execution_count": 37,
   "id": "0d90f06e",
   "metadata": {},
   "outputs": [
    {
     "data": {
      "text/plain": [
       "16.408204102051023"
      ]
     },
     "execution_count": 37,
     "metadata": {},
     "output_type": "execute_result"
    }
   ],
   "source": [
    "CustomerDemographic.job_industry_category.isnull().mean()*100"
   ]
  },
  {
   "cell_type": "markdown",
   "id": "657ade5b",
   "metadata": {},
   "source": [
    "#### As per value count and percentage of the missing value we can use following method :\n",
    "1. As the percentage for  Manufacturing  is 23.907840 and is Financial Services  23.159785 \n",
    "2. So we can fill 246 rows with Manufacturing and other 246 with Financial Services   \n",
    "3. Remaining 164 we can split the half with Health and Retail"
   ]
  },
  {
   "cell_type": "markdown",
   "id": "b105401e",
   "metadata": {},
   "source": [
    "#### Lets create a new data frame for null rows of job_industry_category "
   ]
  },
  {
   "cell_type": "code",
   "execution_count": 38,
   "id": "80b0280b",
   "metadata": {},
   "outputs": [],
   "source": [
    "Customer_null =  CustomerDemographic[CustomerDemographic.job_industry_category.isnull()]"
   ]
  },
  {
   "cell_type": "markdown",
   "id": "001322a5",
   "metadata": {},
   "source": [
    "#### Lets check the data frame Customer_null"
   ]
  },
  {
   "cell_type": "code",
   "execution_count": 39,
   "id": "92340e08",
   "metadata": {},
   "outputs": [
    {
     "data": {
      "text/plain": [
       "customer_id                              0.000000\n",
       "first_name                               0.000000\n",
       "last_name                                3.810976\n",
       "gender                                   0.000000\n",
       "past_3_years_bike_related_purchases      0.000000\n",
       "DOB                                      0.000000\n",
       "job_title                               16.006098\n",
       "job_industry_category                  100.000000\n",
       "wealth_segment                           0.000000\n",
       "deceased_indicator                       0.000000\n",
       "owns_car                                 0.000000\n",
       "tenure                                   0.000000\n",
       "dtype: float64"
      ]
     },
     "execution_count": 39,
     "metadata": {},
     "output_type": "execute_result"
    }
   ],
   "source": [
    "Customer_null.isnull().mean()*100"
   ]
  },
  {
   "cell_type": "markdown",
   "id": "5fbe20cc",
   "metadata": {},
   "source": [
    "#### Lets  fill the data with our approach"
   ]
  },
  {
   "cell_type": "markdown",
   "id": "7cffc49c",
   "metadata": {},
   "source": [
    "##### Create a list of values to fill\n",
    "\n"
   ]
  },
  {
   "cell_type": "code",
   "execution_count": 40,
   "id": "489cb71e",
   "metadata": {},
   "outputs": [],
   "source": [
    "#Top 4 Job Industry Category in terms of frequency:\n",
    "#job_industry_category\n",
    "#Manufacturing         799\n",
    "#Financial Services    774\n",
    "#Health                601\n",
    "#Retail                357\n",
    "#Total Frequency Count = (799+774+601 +357) = 2531\n",
    "#Total null values present in Job Industry Category = 656\n",
    "#For Manufacturing: 799/2531 *100  = 31.56%, equivalent to .3156 * 656 = 207\n",
    "#For Financial Services = 774/2531 *100 = 30.58 %, equivalent to .3058 * 656 = 201\n",
    "#For Health: 601/2531*100 = 23.74%, equivalent to .2374 * 656 = 156\n",
    "#For Retail: 656 - (207+201+156) = 92\n",
    "\n",
    "# Above: Used the mode to impute null values in job industy category field but with slight change, i.e. with the %age frequency of top 4 job industry category"
   ]
  },
  {
   "cell_type": "code",
   "execution_count": 41,
   "id": "a7ef0ad2",
   "metadata": {},
   "outputs": [],
   "source": [
    "fill_values = ['Manufacturing'] * 207 + ['Financial Services'] * 201 + ['Health'] * 156 + ['Retail'] * 92"
   ]
  },
  {
   "cell_type": "markdown",
   "id": "6d08da4a",
   "metadata": {},
   "source": [
    "##### Fill the null values\n",
    "\n",
    "\n"
   ]
  },
  {
   "cell_type": "code",
   "execution_count": 42,
   "id": "c4ea4a0c",
   "metadata": {},
   "outputs": [],
   "source": [
    "Customer_null['job_industry_category'].fillna(value=pd.Series(fill_values, index=Customer_null.index), inplace=True)"
   ]
  },
  {
   "cell_type": "markdown",
   "id": "078e6a3f",
   "metadata": {},
   "source": [
    "##### Verify the count of null values is zero\n"
   ]
  },
  {
   "cell_type": "code",
   "execution_count": 43,
   "id": "b8dda0e3",
   "metadata": {},
   "outputs": [
    {
     "data": {
      "text/plain": [
       "customer_id                              0\n",
       "first_name                               0\n",
       "last_name                               25\n",
       "gender                                   0\n",
       "past_3_years_bike_related_purchases      0\n",
       "DOB                                      0\n",
       "job_title                              105\n",
       "job_industry_category                    0\n",
       "wealth_segment                           0\n",
       "deceased_indicator                       0\n",
       "owns_car                                 0\n",
       "tenure                                   0\n",
       "dtype: int64"
      ]
     },
     "execution_count": 43,
     "metadata": {},
     "output_type": "execute_result"
    }
   ],
   "source": [
    "Customer_null.isnull().sum()"
   ]
  },
  {
   "cell_type": "markdown",
   "id": "20f448f4",
   "metadata": {},
   "source": [
    "#### Lets Drop Customer_null from main data frame\n"
   ]
  },
  {
   "cell_type": "code",
   "execution_count": 44,
   "id": "a3280846",
   "metadata": {},
   "outputs": [],
   "source": [
    "CustomerDemographic = pd.concat([CustomerDemographic, Customer_null], ignore_index=True)"
   ]
  },
  {
   "cell_type": "markdown",
   "id": "2eeadf74",
   "metadata": {},
   "source": [
    "#### Lets Check the shape"
   ]
  },
  {
   "cell_type": "code",
   "execution_count": 45,
   "id": "c17fadf4",
   "metadata": {},
   "outputs": [
    {
     "data": {
      "text/plain": [
       "(4654, 12)"
      ]
     },
     "execution_count": 45,
     "metadata": {},
     "output_type": "execute_result"
    }
   ],
   "source": [
    "CustomerDemographic.shape"
   ]
  },
  {
   "cell_type": "markdown",
   "id": "c2ba8119",
   "metadata": {},
   "source": [
    "#### Lets Append the Customer_null in the data frame "
   ]
  },
  {
   "cell_type": "code",
   "execution_count": 46,
   "id": "f921623f",
   "metadata": {},
   "outputs": [],
   "source": [
    "CustomerDemographic = pd.concat([CustomerDemographic, Customer_null], ignore_index=True)"
   ]
  },
  {
   "cell_type": "markdown",
   "id": "a1cb87e3",
   "metadata": {},
   "source": [
    "#### Lets Recheck the data frame"
   ]
  },
  {
   "cell_type": "code",
   "execution_count": 47,
   "id": "c6f508e3",
   "metadata": {},
   "outputs": [
    {
     "data": {
      "text/plain": [
       "(5310, 12)"
      ]
     },
     "execution_count": 47,
     "metadata": {},
     "output_type": "execute_result"
    }
   ],
   "source": [
    "CustomerDemographic.shape"
   ]
  },
  {
   "cell_type": "markdown",
   "id": "d617e6f8",
   "metadata": {},
   "source": [
    "#### Lets Fill Tenure Column "
   ]
  },
  {
   "cell_type": "markdown",
   "id": "944a14d9",
   "metadata": {},
   "source": [
    "##### filling the tenure data set with  median\n"
   ]
  },
  {
   "cell_type": "code",
   "execution_count": 48,
   "id": "ebbd553e",
   "metadata": {},
   "outputs": [],
   "source": [
    "tenure_median = CustomerDemographic['tenure'].median()"
   ]
  },
  {
   "cell_type": "code",
   "execution_count": 49,
   "id": "38c2a37c",
   "metadata": {},
   "outputs": [],
   "source": [
    "CustomerDemographic['tenure'].fillna(tenure_median,inplace = True)"
   ]
  },
  {
   "cell_type": "markdown",
   "id": "736f2d69",
   "metadata": {},
   "source": [
    "#### Examine the data set"
   ]
  },
  {
   "cell_type": "code",
   "execution_count": 50,
   "id": "49116679",
   "metadata": {},
   "outputs": [
    {
     "data": {
      "text/plain": [
       "customer_id                              0\n",
       "first_name                               0\n",
       "last_name                              175\n",
       "gender                                   0\n",
       "past_3_years_bike_related_purchases      0\n",
       "DOB                                     87\n",
       "job_title                              716\n",
       "job_industry_category                  656\n",
       "wealth_segment                           0\n",
       "deceased_indicator                       0\n",
       "owns_car                                 0\n",
       "tenure                                   0\n",
       "dtype: int64"
      ]
     },
     "execution_count": 50,
     "metadata": {},
     "output_type": "execute_result"
    }
   ],
   "source": [
    "CustomerDemographic.isnull().sum()"
   ]
  },
  {
   "cell_type": "markdown",
   "id": "e93b1db2",
   "metadata": {},
   "source": [
    "####  Dropping  the null job_title rows"
   ]
  },
  {
   "cell_type": "code",
   "execution_count": 51,
   "id": "a0d4b78f",
   "metadata": {},
   "outputs": [
    {
     "data": {
      "text/plain": [
       "0          Executive Secretary\n",
       "1       Administrative Officer\n",
       "2           Recruiting Manager\n",
       "3                          NaN\n",
       "4                Senior Editor\n",
       "                 ...          \n",
       "5305               Geologist I\n",
       "5306          Technical Writer\n",
       "5307          Internal Auditor\n",
       "5308          Graphic Designer\n",
       "5309      Software Engineer IV\n",
       "Name: job_title, Length: 5310, dtype: object"
      ]
     },
     "execution_count": 51,
     "metadata": {},
     "output_type": "execute_result"
    }
   ],
   "source": [
    "CustomerDemographic['job_title']"
   ]
  },
  {
   "cell_type": "markdown",
   "id": "b3d28722",
   "metadata": {},
   "source": [
    "#### -------------------------------------------------------------------------------------------------------------------------------------------------------------------------------------------------------"
   ]
  },
  {
   "cell_type": "markdown",
   "id": "e767e36d",
   "metadata": {},
   "source": [
    "#### Lets check the CustomerAddress data frame"
   ]
  },
  {
   "cell_type": "code",
   "execution_count": 52,
   "id": "e87a8696",
   "metadata": {},
   "outputs": [
    {
     "data": {
      "text/html": [
       "<div>\n",
       "<style scoped>\n",
       "    .dataframe tbody tr th:only-of-type {\n",
       "        vertical-align: middle;\n",
       "    }\n",
       "\n",
       "    .dataframe tbody tr th {\n",
       "        vertical-align: top;\n",
       "    }\n",
       "\n",
       "    .dataframe thead th {\n",
       "        text-align: right;\n",
       "    }\n",
       "</style>\n",
       "<table border=\"1\" class=\"dataframe\">\n",
       "  <thead>\n",
       "    <tr style=\"text-align: right;\">\n",
       "      <th></th>\n",
       "      <th>customer_id</th>\n",
       "      <th>address</th>\n",
       "      <th>postcode</th>\n",
       "      <th>state</th>\n",
       "      <th>country</th>\n",
       "      <th>property_valuation</th>\n",
       "    </tr>\n",
       "  </thead>\n",
       "  <tbody>\n",
       "    <tr>\n",
       "      <th>0</th>\n",
       "      <td>1</td>\n",
       "      <td>060 Morning Avenue</td>\n",
       "      <td>2016</td>\n",
       "      <td>New South Wales</td>\n",
       "      <td>Australia</td>\n",
       "      <td>10</td>\n",
       "    </tr>\n",
       "    <tr>\n",
       "      <th>1</th>\n",
       "      <td>2</td>\n",
       "      <td>6 Meadow Vale Court</td>\n",
       "      <td>2153</td>\n",
       "      <td>New South Wales</td>\n",
       "      <td>Australia</td>\n",
       "      <td>10</td>\n",
       "    </tr>\n",
       "    <tr>\n",
       "      <th>2</th>\n",
       "      <td>4</td>\n",
       "      <td>0 Holy Cross Court</td>\n",
       "      <td>4211</td>\n",
       "      <td>QLD</td>\n",
       "      <td>Australia</td>\n",
       "      <td>9</td>\n",
       "    </tr>\n",
       "    <tr>\n",
       "      <th>3</th>\n",
       "      <td>5</td>\n",
       "      <td>17979 Del Mar Point</td>\n",
       "      <td>2448</td>\n",
       "      <td>New South Wales</td>\n",
       "      <td>Australia</td>\n",
       "      <td>4</td>\n",
       "    </tr>\n",
       "    <tr>\n",
       "      <th>4</th>\n",
       "      <td>6</td>\n",
       "      <td>9 Oakridge Court</td>\n",
       "      <td>3216</td>\n",
       "      <td>VIC</td>\n",
       "      <td>Australia</td>\n",
       "      <td>9</td>\n",
       "    </tr>\n",
       "  </tbody>\n",
       "</table>\n",
       "</div>"
      ],
      "text/plain": [
       "   customer_id              address  postcode            state    country  \\\n",
       "0            1   060 Morning Avenue      2016  New South Wales  Australia   \n",
       "1            2  6 Meadow Vale Court      2153  New South Wales  Australia   \n",
       "2            4   0 Holy Cross Court      4211              QLD  Australia   \n",
       "3            5  17979 Del Mar Point      2448  New South Wales  Australia   \n",
       "4            6     9 Oakridge Court      3216              VIC  Australia   \n",
       "\n",
       "   property_valuation  \n",
       "0                  10  \n",
       "1                  10  \n",
       "2                   9  \n",
       "3                   4  \n",
       "4                   9  "
      ]
     },
     "execution_count": 52,
     "metadata": {},
     "output_type": "execute_result"
    }
   ],
   "source": [
    "CustomerAddress.head()"
   ]
  },
  {
   "cell_type": "markdown",
   "id": "c65444a3",
   "metadata": {},
   "source": [
    "#### Examine the data set"
   ]
  },
  {
   "cell_type": "code",
   "execution_count": 53,
   "id": "2d8dcaa1",
   "metadata": {},
   "outputs": [
    {
     "data": {
      "text/plain": [
       "(3999, 6)"
      ]
     },
     "execution_count": 53,
     "metadata": {},
     "output_type": "execute_result"
    }
   ],
   "source": [
    "\n",
    "CustomerAddress.shape"
   ]
  },
  {
   "cell_type": "code",
   "execution_count": 54,
   "id": "de38da15",
   "metadata": {},
   "outputs": [
    {
     "name": "stdout",
     "output_type": "stream",
     "text": [
      "<class 'pandas.core.frame.DataFrame'>\n",
      "RangeIndex: 3999 entries, 0 to 3998\n",
      "Data columns (total 6 columns):\n",
      " #   Column              Non-Null Count  Dtype \n",
      "---  ------              --------------  ----- \n",
      " 0   customer_id         3999 non-null   int64 \n",
      " 1   address             3999 non-null   object\n",
      " 2   postcode            3999 non-null   int64 \n",
      " 3   state               3999 non-null   object\n",
      " 4   country             3999 non-null   object\n",
      " 5   property_valuation  3999 non-null   int64 \n",
      "dtypes: int64(3), object(3)\n",
      "memory usage: 187.6+ KB\n"
     ]
    }
   ],
   "source": [
    "CustomerAddress.info()"
   ]
  },
  {
   "cell_type": "code",
   "execution_count": 55,
   "id": "24be20af",
   "metadata": {},
   "outputs": [
    {
     "data": {
      "text/html": [
       "<div>\n",
       "<style scoped>\n",
       "    .dataframe tbody tr th:only-of-type {\n",
       "        vertical-align: middle;\n",
       "    }\n",
       "\n",
       "    .dataframe tbody tr th {\n",
       "        vertical-align: top;\n",
       "    }\n",
       "\n",
       "    .dataframe thead th {\n",
       "        text-align: right;\n",
       "    }\n",
       "</style>\n",
       "<table border=\"1\" class=\"dataframe\">\n",
       "  <thead>\n",
       "    <tr style=\"text-align: right;\">\n",
       "      <th></th>\n",
       "      <th>customer_id</th>\n",
       "      <th>postcode</th>\n",
       "      <th>property_valuation</th>\n",
       "    </tr>\n",
       "  </thead>\n",
       "  <tbody>\n",
       "    <tr>\n",
       "      <th>count</th>\n",
       "      <td>3999.000000</td>\n",
       "      <td>3999.000000</td>\n",
       "      <td>3999.000000</td>\n",
       "    </tr>\n",
       "    <tr>\n",
       "      <th>mean</th>\n",
       "      <td>2003.987997</td>\n",
       "      <td>2985.755939</td>\n",
       "      <td>7.514379</td>\n",
       "    </tr>\n",
       "    <tr>\n",
       "      <th>std</th>\n",
       "      <td>1154.576912</td>\n",
       "      <td>844.878364</td>\n",
       "      <td>2.824663</td>\n",
       "    </tr>\n",
       "    <tr>\n",
       "      <th>min</th>\n",
       "      <td>1.000000</td>\n",
       "      <td>2000.000000</td>\n",
       "      <td>1.000000</td>\n",
       "    </tr>\n",
       "    <tr>\n",
       "      <th>25%</th>\n",
       "      <td>1004.500000</td>\n",
       "      <td>2200.000000</td>\n",
       "      <td>6.000000</td>\n",
       "    </tr>\n",
       "    <tr>\n",
       "      <th>50%</th>\n",
       "      <td>2004.000000</td>\n",
       "      <td>2768.000000</td>\n",
       "      <td>8.000000</td>\n",
       "    </tr>\n",
       "    <tr>\n",
       "      <th>75%</th>\n",
       "      <td>3003.500000</td>\n",
       "      <td>3750.000000</td>\n",
       "      <td>10.000000</td>\n",
       "    </tr>\n",
       "    <tr>\n",
       "      <th>max</th>\n",
       "      <td>4003.000000</td>\n",
       "      <td>4883.000000</td>\n",
       "      <td>12.000000</td>\n",
       "    </tr>\n",
       "  </tbody>\n",
       "</table>\n",
       "</div>"
      ],
      "text/plain": [
       "       customer_id     postcode  property_valuation\n",
       "count  3999.000000  3999.000000         3999.000000\n",
       "mean   2003.987997  2985.755939            7.514379\n",
       "std    1154.576912   844.878364            2.824663\n",
       "min       1.000000  2000.000000            1.000000\n",
       "25%    1004.500000  2200.000000            6.000000\n",
       "50%    2004.000000  2768.000000            8.000000\n",
       "75%    3003.500000  3750.000000           10.000000\n",
       "max    4003.000000  4883.000000           12.000000"
      ]
     },
     "execution_count": 55,
     "metadata": {},
     "output_type": "execute_result"
    }
   ],
   "source": [
    "CustomerAddress.describe()"
   ]
  },
  {
   "cell_type": "markdown",
   "id": "79fe8aea",
   "metadata": {},
   "source": [
    "#### Lets check null values"
   ]
  },
  {
   "cell_type": "code",
   "execution_count": 56,
   "id": "828617c3",
   "metadata": {},
   "outputs": [
    {
     "data": {
      "text/plain": [
       "customer_id           0\n",
       "address               0\n",
       "postcode              0\n",
       "state                 0\n",
       "country               0\n",
       "property_valuation    0\n",
       "dtype: int64"
      ]
     },
     "execution_count": 56,
     "metadata": {},
     "output_type": "execute_result"
    }
   ],
   "source": [
    "CustomerAddress.isnull().sum()"
   ]
  },
  {
   "cell_type": "markdown",
   "id": "c503f8d2",
   "metadata": {},
   "source": [
    "#### Lets Check unique values"
   ]
  },
  {
   "cell_type": "code",
   "execution_count": 57,
   "id": "fd3b108f",
   "metadata": {},
   "outputs": [
    {
     "data": {
      "text/plain": [
       "array(['060 Morning Avenue', '6 Meadow Vale Court', '0 Holy Cross Court',\n",
       "       ..., '87 Crescent Oaks Alley', '8194 Lien Street',\n",
       "       '320 Acker Drive'], dtype=object)"
      ]
     },
     "execution_count": 57,
     "metadata": {},
     "output_type": "execute_result"
    }
   ],
   "source": [
    "CustomerAddress['address'].unique()"
   ]
  },
  {
   "cell_type": "code",
   "execution_count": 58,
   "id": "6ee7f1c5",
   "metadata": {},
   "outputs": [
    {
     "data": {
      "text/plain": [
       "array(['New South Wales', 'QLD', 'VIC', 'NSW', 'Victoria'], dtype=object)"
      ]
     },
     "execution_count": 58,
     "metadata": {},
     "output_type": "execute_result"
    }
   ],
   "source": [
    "CustomerAddress['state'].unique()"
   ]
  },
  {
   "cell_type": "markdown",
   "id": "b2b36e0b",
   "metadata": {},
   "source": [
    "#### Lets replace the values"
   ]
  },
  {
   "cell_type": "code",
   "execution_count": 59,
   "id": "f863012f",
   "metadata": {},
   "outputs": [],
   "source": [
    "CustomerAddress['state'].replace('QLD','Queensland',inplace = True)\n",
    "CustomerAddress['state'].replace('VIC','Victoria',inplace = True)\n",
    "CustomerAddress['state'].replace('NSW','New South Wales',inplace = True)"
   ]
  },
  {
   "cell_type": "markdown",
   "id": "0745ad2f",
   "metadata": {},
   "source": [
    "#### Lets check the data set"
   ]
  },
  {
   "cell_type": "code",
   "execution_count": 60,
   "id": "c1b4f1e7",
   "metadata": {},
   "outputs": [
    {
     "data": {
      "text/plain": [
       "array(['New South Wales', 'Queensland', 'Victoria'], dtype=object)"
      ]
     },
     "execution_count": 60,
     "metadata": {},
     "output_type": "execute_result"
    }
   ],
   "source": [
    "CustomerAddress['state'].unique()"
   ]
  },
  {
   "cell_type": "code",
   "execution_count": 61,
   "id": "232072ec",
   "metadata": {},
   "outputs": [
    {
     "data": {
      "text/plain": [
       "array(['Australia'], dtype=object)"
      ]
     },
     "execution_count": 61,
     "metadata": {},
     "output_type": "execute_result"
    }
   ],
   "source": [
    "CustomerAddress['country'].unique()"
   ]
  },
  {
   "cell_type": "markdown",
   "id": "195b37ef",
   "metadata": {},
   "source": [
    "#### Exporting dataframe to csv file in local system\n"
   ]
  },
  {
   "cell_type": "code",
   "execution_count": 62,
   "id": "8ad56ba9",
   "metadata": {},
   "outputs": [],
   "source": [
    "# Dropping Column: job title\n",
    "CustomerDemographic.drop('job_title', axis = 1, inplace = True)"
   ]
  },
  {
   "cell_type": "code",
   "execution_count": 63,
   "id": "106c7861",
   "metadata": {},
   "outputs": [
    {
     "data": {
      "text/html": [
       "<div>\n",
       "<style scoped>\n",
       "    .dataframe tbody tr th:only-of-type {\n",
       "        vertical-align: middle;\n",
       "    }\n",
       "\n",
       "    .dataframe tbody tr th {\n",
       "        vertical-align: top;\n",
       "    }\n",
       "\n",
       "    .dataframe thead th {\n",
       "        text-align: right;\n",
       "    }\n",
       "</style>\n",
       "<table border=\"1\" class=\"dataframe\">\n",
       "  <thead>\n",
       "    <tr style=\"text-align: right;\">\n",
       "      <th></th>\n",
       "      <th>customer_id</th>\n",
       "      <th>first_name</th>\n",
       "      <th>last_name</th>\n",
       "      <th>gender</th>\n",
       "      <th>past_3_years_bike_related_purchases</th>\n",
       "      <th>DOB</th>\n",
       "      <th>job_industry_category</th>\n",
       "      <th>wealth_segment</th>\n",
       "      <th>deceased_indicator</th>\n",
       "      <th>owns_car</th>\n",
       "      <th>tenure</th>\n",
       "    </tr>\n",
       "  </thead>\n",
       "  <tbody>\n",
       "    <tr>\n",
       "      <th>0</th>\n",
       "      <td>1</td>\n",
       "      <td>Laraine</td>\n",
       "      <td>Medendorp</td>\n",
       "      <td>Female</td>\n",
       "      <td>93</td>\n",
       "      <td>1953-10-12 00:00:00</td>\n",
       "      <td>Health</td>\n",
       "      <td>Mass Customer</td>\n",
       "      <td>N</td>\n",
       "      <td>Yes</td>\n",
       "      <td>11.0</td>\n",
       "    </tr>\n",
       "    <tr>\n",
       "      <th>1</th>\n",
       "      <td>2</td>\n",
       "      <td>Eli</td>\n",
       "      <td>Bockman</td>\n",
       "      <td>Male</td>\n",
       "      <td>81</td>\n",
       "      <td>1980-12-16 00:00:00</td>\n",
       "      <td>Financial Services</td>\n",
       "      <td>Mass Customer</td>\n",
       "      <td>N</td>\n",
       "      <td>Yes</td>\n",
       "      <td>16.0</td>\n",
       "    </tr>\n",
       "    <tr>\n",
       "      <th>2</th>\n",
       "      <td>3</td>\n",
       "      <td>Arlin</td>\n",
       "      <td>Dearle</td>\n",
       "      <td>Male</td>\n",
       "      <td>61</td>\n",
       "      <td>1954-01-20 00:00:00</td>\n",
       "      <td>Property</td>\n",
       "      <td>Mass Customer</td>\n",
       "      <td>N</td>\n",
       "      <td>Yes</td>\n",
       "      <td>15.0</td>\n",
       "    </tr>\n",
       "    <tr>\n",
       "      <th>3</th>\n",
       "      <td>4</td>\n",
       "      <td>Talbot</td>\n",
       "      <td>NaN</td>\n",
       "      <td>Male</td>\n",
       "      <td>33</td>\n",
       "      <td>1961-10-03 00:00:00</td>\n",
       "      <td>IT</td>\n",
       "      <td>Mass Customer</td>\n",
       "      <td>N</td>\n",
       "      <td>No</td>\n",
       "      <td>7.0</td>\n",
       "    </tr>\n",
       "    <tr>\n",
       "      <th>4</th>\n",
       "      <td>5</td>\n",
       "      <td>Sheila-kathryn</td>\n",
       "      <td>Calton</td>\n",
       "      <td>Female</td>\n",
       "      <td>56</td>\n",
       "      <td>1977-05-13 00:00:00</td>\n",
       "      <td>NaN</td>\n",
       "      <td>Affluent Customer</td>\n",
       "      <td>N</td>\n",
       "      <td>Yes</td>\n",
       "      <td>8.0</td>\n",
       "    </tr>\n",
       "  </tbody>\n",
       "</table>\n",
       "</div>"
      ],
      "text/plain": [
       "   customer_id      first_name  last_name  gender  \\\n",
       "0            1         Laraine  Medendorp  Female   \n",
       "1            2             Eli    Bockman    Male   \n",
       "2            3           Arlin     Dearle    Male   \n",
       "3            4          Talbot        NaN    Male   \n",
       "4            5  Sheila-kathryn     Calton  Female   \n",
       "\n",
       "   past_3_years_bike_related_purchases                  DOB  \\\n",
       "0                                   93  1953-10-12 00:00:00   \n",
       "1                                   81  1980-12-16 00:00:00   \n",
       "2                                   61  1954-01-20 00:00:00   \n",
       "3                                   33  1961-10-03 00:00:00   \n",
       "4                                   56  1977-05-13 00:00:00   \n",
       "\n",
       "  job_industry_category     wealth_segment deceased_indicator owns_car  tenure  \n",
       "0                Health      Mass Customer                  N      Yes    11.0  \n",
       "1    Financial Services      Mass Customer                  N      Yes    16.0  \n",
       "2              Property      Mass Customer                  N      Yes    15.0  \n",
       "3                    IT      Mass Customer                  N       No     7.0  \n",
       "4                   NaN  Affluent Customer                  N      Yes     8.0  "
      ]
     },
     "execution_count": 63,
     "metadata": {},
     "output_type": "execute_result"
    }
   ],
   "source": [
    "CustomerDemographic.head()"
   ]
  },
  {
   "cell_type": "markdown",
   "id": "52bdd6e5",
   "metadata": {},
   "source": [
    "## OUTLIERS"
   ]
  },
  {
   "cell_type": "code",
   "execution_count": 64,
   "id": "cacaea06",
   "metadata": {},
   "outputs": [
    {
     "data": {
      "text/html": [
       "<div>\n",
       "<style scoped>\n",
       "    .dataframe tbody tr th:only-of-type {\n",
       "        vertical-align: middle;\n",
       "    }\n",
       "\n",
       "    .dataframe tbody tr th {\n",
       "        vertical-align: top;\n",
       "    }\n",
       "\n",
       "    .dataframe thead th {\n",
       "        text-align: right;\n",
       "    }\n",
       "</style>\n",
       "<table border=\"1\" class=\"dataframe\">\n",
       "  <thead>\n",
       "    <tr style=\"text-align: right;\">\n",
       "      <th></th>\n",
       "      <th>transaction_id</th>\n",
       "      <th>product_id</th>\n",
       "      <th>customer_id</th>\n",
       "      <th>transaction_date</th>\n",
       "      <th>online_order</th>\n",
       "      <th>list_price</th>\n",
       "      <th>standard_cost</th>\n",
       "      <th>product_first_sold_date</th>\n",
       "    </tr>\n",
       "  </thead>\n",
       "  <tbody>\n",
       "    <tr>\n",
       "      <th>count</th>\n",
       "      <td>19803.000000</td>\n",
       "      <td>19803.000000</td>\n",
       "      <td>19803.000000</td>\n",
       "      <td>19803</td>\n",
       "      <td>19803.000000</td>\n",
       "      <td>19803.000000</td>\n",
       "      <td>19803.000000</td>\n",
       "      <td>19803.000000</td>\n",
       "    </tr>\n",
       "    <tr>\n",
       "      <th>mean</th>\n",
       "      <td>9993.979650</td>\n",
       "      <td>45.815937</td>\n",
       "      <td>1739.294955</td>\n",
       "      <td>2017-07-01 15:40:43.811543552</td>\n",
       "      <td>0.509872</td>\n",
       "      <td>1107.997866</td>\n",
       "      <td>556.046951</td>\n",
       "      <td>38199.776549</td>\n",
       "    </tr>\n",
       "    <tr>\n",
       "      <th>min</th>\n",
       "      <td>1.000000</td>\n",
       "      <td>0.000000</td>\n",
       "      <td>1.000000</td>\n",
       "      <td>2017-01-01 00:00:00</td>\n",
       "      <td>0.000000</td>\n",
       "      <td>12.010000</td>\n",
       "      <td>7.210000</td>\n",
       "      <td>33259.000000</td>\n",
       "    </tr>\n",
       "    <tr>\n",
       "      <th>25%</th>\n",
       "      <td>4988.500000</td>\n",
       "      <td>18.000000</td>\n",
       "      <td>858.000000</td>\n",
       "      <td>2017-04-01 00:00:00</td>\n",
       "      <td>0.000000</td>\n",
       "      <td>575.270000</td>\n",
       "      <td>215.140000</td>\n",
       "      <td>35667.000000</td>\n",
       "    </tr>\n",
       "    <tr>\n",
       "      <th>50%</th>\n",
       "      <td>9995.000000</td>\n",
       "      <td>45.000000</td>\n",
       "      <td>1738.000000</td>\n",
       "      <td>2017-07-03 00:00:00</td>\n",
       "      <td>1.000000</td>\n",
       "      <td>1163.890000</td>\n",
       "      <td>507.580000</td>\n",
       "      <td>38216.000000</td>\n",
       "    </tr>\n",
       "    <tr>\n",
       "      <th>75%</th>\n",
       "      <td>15000.500000</td>\n",
       "      <td>72.000000</td>\n",
       "      <td>2615.000000</td>\n",
       "      <td>2017-10-02 00:00:00</td>\n",
       "      <td>1.000000</td>\n",
       "      <td>1635.300000</td>\n",
       "      <td>795.100000</td>\n",
       "      <td>40672.000000</td>\n",
       "    </tr>\n",
       "    <tr>\n",
       "      <th>max</th>\n",
       "      <td>20000.000000</td>\n",
       "      <td>100.000000</td>\n",
       "      <td>5034.000000</td>\n",
       "      <td>2017-12-30 00:00:00</td>\n",
       "      <td>1.000000</td>\n",
       "      <td>2091.470000</td>\n",
       "      <td>1759.850000</td>\n",
       "      <td>42710.000000</td>\n",
       "    </tr>\n",
       "    <tr>\n",
       "      <th>std</th>\n",
       "      <td>5776.499961</td>\n",
       "      <td>30.569841</td>\n",
       "      <td>1011.946353</td>\n",
       "      <td>NaN</td>\n",
       "      <td>0.499915</td>\n",
       "      <td>582.770460</td>\n",
       "      <td>405.955660</td>\n",
       "      <td>2875.201110</td>\n",
       "    </tr>\n",
       "  </tbody>\n",
       "</table>\n",
       "</div>"
      ],
      "text/plain": [
       "       transaction_id    product_id   customer_id  \\\n",
       "count    19803.000000  19803.000000  19803.000000   \n",
       "mean      9993.979650     45.815937   1739.294955   \n",
       "min          1.000000      0.000000      1.000000   \n",
       "25%       4988.500000     18.000000    858.000000   \n",
       "50%       9995.000000     45.000000   1738.000000   \n",
       "75%      15000.500000     72.000000   2615.000000   \n",
       "max      20000.000000    100.000000   5034.000000   \n",
       "std       5776.499961     30.569841   1011.946353   \n",
       "\n",
       "                    transaction_date  online_order    list_price  \\\n",
       "count                          19803  19803.000000  19803.000000   \n",
       "mean   2017-07-01 15:40:43.811543552      0.509872   1107.997866   \n",
       "min              2017-01-01 00:00:00      0.000000     12.010000   \n",
       "25%              2017-04-01 00:00:00      0.000000    575.270000   \n",
       "50%              2017-07-03 00:00:00      1.000000   1163.890000   \n",
       "75%              2017-10-02 00:00:00      1.000000   1635.300000   \n",
       "max              2017-12-30 00:00:00      1.000000   2091.470000   \n",
       "std                              NaN      0.499915    582.770460   \n",
       "\n",
       "       standard_cost  product_first_sold_date  \n",
       "count   19803.000000             19803.000000  \n",
       "mean      556.046951             38199.776549  \n",
       "min         7.210000             33259.000000  \n",
       "25%       215.140000             35667.000000  \n",
       "50%       507.580000             38216.000000  \n",
       "75%       795.100000             40672.000000  \n",
       "max      1759.850000             42710.000000  \n",
       "std       405.955660              2875.201110  "
      ]
     },
     "execution_count": 64,
     "metadata": {},
     "output_type": "execute_result"
    }
   ],
   "source": [
    "transaction.describe()"
   ]
  },
  {
   "cell_type": "code",
   "execution_count": 65,
   "id": "53b8e224",
   "metadata": {},
   "outputs": [
    {
     "data": {
      "text/html": [
       "<div>\n",
       "<style scoped>\n",
       "    .dataframe tbody tr th:only-of-type {\n",
       "        vertical-align: middle;\n",
       "    }\n",
       "\n",
       "    .dataframe tbody tr th {\n",
       "        vertical-align: top;\n",
       "    }\n",
       "\n",
       "    .dataframe thead th {\n",
       "        text-align: right;\n",
       "    }\n",
       "</style>\n",
       "<table border=\"1\" class=\"dataframe\">\n",
       "  <thead>\n",
       "    <tr style=\"text-align: right;\">\n",
       "      <th></th>\n",
       "      <th>transaction_id</th>\n",
       "      <th>product_id</th>\n",
       "      <th>customer_id</th>\n",
       "      <th>transaction_date</th>\n",
       "      <th>online_order</th>\n",
       "      <th>order_status</th>\n",
       "      <th>brand</th>\n",
       "      <th>product_line</th>\n",
       "      <th>product_class</th>\n",
       "      <th>product_size</th>\n",
       "      <th>list_price</th>\n",
       "      <th>standard_cost</th>\n",
       "      <th>product_first_sold_date</th>\n",
       "    </tr>\n",
       "  </thead>\n",
       "  <tbody>\n",
       "    <tr>\n",
       "      <th>0</th>\n",
       "      <td>1</td>\n",
       "      <td>2</td>\n",
       "      <td>2950</td>\n",
       "      <td>2017-02-25</td>\n",
       "      <td>0.0</td>\n",
       "      <td>Approved</td>\n",
       "      <td>Solex</td>\n",
       "      <td>Standard</td>\n",
       "      <td>medium</td>\n",
       "      <td>medium</td>\n",
       "      <td>71.49</td>\n",
       "      <td>53.62</td>\n",
       "      <td>41245.0</td>\n",
       "    </tr>\n",
       "    <tr>\n",
       "      <th>1</th>\n",
       "      <td>2</td>\n",
       "      <td>3</td>\n",
       "      <td>3120</td>\n",
       "      <td>2017-05-21</td>\n",
       "      <td>1.0</td>\n",
       "      <td>Approved</td>\n",
       "      <td>Trek Bicycles</td>\n",
       "      <td>Standard</td>\n",
       "      <td>medium</td>\n",
       "      <td>large</td>\n",
       "      <td>2091.47</td>\n",
       "      <td>388.92</td>\n",
       "      <td>41701.0</td>\n",
       "    </tr>\n",
       "    <tr>\n",
       "      <th>2</th>\n",
       "      <td>3</td>\n",
       "      <td>37</td>\n",
       "      <td>402</td>\n",
       "      <td>2017-10-16</td>\n",
       "      <td>0.0</td>\n",
       "      <td>Approved</td>\n",
       "      <td>OHM Cycles</td>\n",
       "      <td>Standard</td>\n",
       "      <td>low</td>\n",
       "      <td>medium</td>\n",
       "      <td>1793.43</td>\n",
       "      <td>248.82</td>\n",
       "      <td>36361.0</td>\n",
       "    </tr>\n",
       "    <tr>\n",
       "      <th>3</th>\n",
       "      <td>4</td>\n",
       "      <td>88</td>\n",
       "      <td>3135</td>\n",
       "      <td>2017-08-31</td>\n",
       "      <td>0.0</td>\n",
       "      <td>Approved</td>\n",
       "      <td>Norco Bicycles</td>\n",
       "      <td>Standard</td>\n",
       "      <td>medium</td>\n",
       "      <td>medium</td>\n",
       "      <td>1198.46</td>\n",
       "      <td>381.10</td>\n",
       "      <td>36145.0</td>\n",
       "    </tr>\n",
       "    <tr>\n",
       "      <th>4</th>\n",
       "      <td>5</td>\n",
       "      <td>78</td>\n",
       "      <td>787</td>\n",
       "      <td>2017-10-01</td>\n",
       "      <td>1.0</td>\n",
       "      <td>Approved</td>\n",
       "      <td>Giant Bicycles</td>\n",
       "      <td>Standard</td>\n",
       "      <td>medium</td>\n",
       "      <td>large</td>\n",
       "      <td>1765.30</td>\n",
       "      <td>709.48</td>\n",
       "      <td>42226.0</td>\n",
       "    </tr>\n",
       "  </tbody>\n",
       "</table>\n",
       "</div>"
      ],
      "text/plain": [
       "   transaction_id  product_id  customer_id transaction_date  online_order  \\\n",
       "0               1           2         2950       2017-02-25           0.0   \n",
       "1               2           3         3120       2017-05-21           1.0   \n",
       "2               3          37          402       2017-10-16           0.0   \n",
       "3               4          88         3135       2017-08-31           0.0   \n",
       "4               5          78          787       2017-10-01           1.0   \n",
       "\n",
       "  order_status           brand product_line product_class product_size  \\\n",
       "0     Approved           Solex     Standard        medium       medium   \n",
       "1     Approved   Trek Bicycles     Standard        medium        large   \n",
       "2     Approved      OHM Cycles     Standard           low       medium   \n",
       "3     Approved  Norco Bicycles     Standard        medium       medium   \n",
       "4     Approved  Giant Bicycles     Standard        medium        large   \n",
       "\n",
       "   list_price  standard_cost  product_first_sold_date  \n",
       "0       71.49          53.62                  41245.0  \n",
       "1     2091.47         388.92                  41701.0  \n",
       "2     1793.43         248.82                  36361.0  \n",
       "3     1198.46         381.10                  36145.0  \n",
       "4     1765.30         709.48                  42226.0  "
      ]
     },
     "execution_count": 65,
     "metadata": {},
     "output_type": "execute_result"
    }
   ],
   "source": [
    "transaction.head()"
   ]
  },
  {
   "cell_type": "code",
   "execution_count": null,
   "id": "3fcb6d9b",
   "metadata": {},
   "outputs": [],
   "source": []
  },
  {
   "cell_type": "code",
   "execution_count": 66,
   "id": "fc32a9a8",
   "metadata": {},
   "outputs": [],
   "source": [
    "# Creating UDF for treating Outliers"
   ]
  },
  {
   "cell_type": "code",
   "execution_count": 67,
   "id": "63389696",
   "metadata": {},
   "outputs": [],
   "source": [
    "def find_outliers_IQR(df):\n",
    "\n",
    "   q1=df.quantile(0.25)\n",
    "\n",
    "   q3=df.quantile(0.75)\n",
    "\n",
    "   IQR=q3-q1\n",
    "   upper_fence = q3+1.5*IQR\n",
    "   lower_fence = q1-1.5*IQR\n",
    "\n",
    "\n",
    "\n",
    "   outliers = [((df<(q1-1.5*IQR)) | (df>(q3+1.5*IQR)))]\n",
    "\n",
    "   print(\" q1 value:\", q1,\"\\n\",\\\n",
    "         \"q3:\",q3,\"\\n\",\n",
    "         \"IQR :\",IQR,\"\\n\",\\\n",
    "         \"Lower Fence :\",\\\n",
    "         lower_fence,\"\\n\",\\\n",
    "         \"upper_fence: \", upper_fence)"
   ]
  },
  {
   "cell_type": "code",
   "execution_count": 68,
   "id": "8c3fff1a",
   "metadata": {},
   "outputs": [],
   "source": [
    "# Miscellaneous Analysis:"
   ]
  },
  {
   "cell_type": "code",
   "execution_count": 69,
   "id": "1ee8fd73",
   "metadata": {},
   "outputs": [],
   "source": [
    "from datetime import datetime"
   ]
  },
  {
   "cell_type": "code",
   "execution_count": 70,
   "id": "0ae2b1c3",
   "metadata": {},
   "outputs": [],
   "source": [
    "#converting dates to datetime in pandas\n",
    "def convert_data_time(num):\n",
    "    det = datetime.fromordinal(datetime(1900,1,1).toordinal() + num -2 )\n",
    "    return det"
   ]
  },
  {
   "cell_type": "code",
   "execution_count": 71,
   "id": "c99e1224",
   "metadata": {},
   "outputs": [
    {
     "data": {
      "text/html": [
       "<div>\n",
       "<style scoped>\n",
       "    .dataframe tbody tr th:only-of-type {\n",
       "        vertical-align: middle;\n",
       "    }\n",
       "\n",
       "    .dataframe tbody tr th {\n",
       "        vertical-align: top;\n",
       "    }\n",
       "\n",
       "    .dataframe thead th {\n",
       "        text-align: right;\n",
       "    }\n",
       "</style>\n",
       "<table border=\"1\" class=\"dataframe\">\n",
       "  <thead>\n",
       "    <tr style=\"text-align: right;\">\n",
       "      <th></th>\n",
       "      <th>transaction_id</th>\n",
       "      <th>product_id</th>\n",
       "      <th>customer_id</th>\n",
       "      <th>transaction_date</th>\n",
       "      <th>online_order</th>\n",
       "      <th>order_status</th>\n",
       "      <th>brand</th>\n",
       "      <th>product_line</th>\n",
       "      <th>product_class</th>\n",
       "      <th>product_size</th>\n",
       "      <th>list_price</th>\n",
       "      <th>standard_cost</th>\n",
       "      <th>product_first_sold_date</th>\n",
       "    </tr>\n",
       "  </thead>\n",
       "  <tbody>\n",
       "    <tr>\n",
       "      <th>0</th>\n",
       "      <td>1</td>\n",
       "      <td>2</td>\n",
       "      <td>2950</td>\n",
       "      <td>2017-02-25</td>\n",
       "      <td>0.0</td>\n",
       "      <td>Approved</td>\n",
       "      <td>Solex</td>\n",
       "      <td>Standard</td>\n",
       "      <td>medium</td>\n",
       "      <td>medium</td>\n",
       "      <td>71.49</td>\n",
       "      <td>53.62</td>\n",
       "      <td>2012-12-02</td>\n",
       "    </tr>\n",
       "    <tr>\n",
       "      <th>1</th>\n",
       "      <td>2</td>\n",
       "      <td>3</td>\n",
       "      <td>3120</td>\n",
       "      <td>2017-05-21</td>\n",
       "      <td>1.0</td>\n",
       "      <td>Approved</td>\n",
       "      <td>Trek Bicycles</td>\n",
       "      <td>Standard</td>\n",
       "      <td>medium</td>\n",
       "      <td>large</td>\n",
       "      <td>2091.47</td>\n",
       "      <td>388.92</td>\n",
       "      <td>2014-03-03</td>\n",
       "    </tr>\n",
       "    <tr>\n",
       "      <th>2</th>\n",
       "      <td>3</td>\n",
       "      <td>37</td>\n",
       "      <td>402</td>\n",
       "      <td>2017-10-16</td>\n",
       "      <td>0.0</td>\n",
       "      <td>Approved</td>\n",
       "      <td>OHM Cycles</td>\n",
       "      <td>Standard</td>\n",
       "      <td>low</td>\n",
       "      <td>medium</td>\n",
       "      <td>1793.43</td>\n",
       "      <td>248.82</td>\n",
       "      <td>1999-07-20</td>\n",
       "    </tr>\n",
       "    <tr>\n",
       "      <th>3</th>\n",
       "      <td>4</td>\n",
       "      <td>88</td>\n",
       "      <td>3135</td>\n",
       "      <td>2017-08-31</td>\n",
       "      <td>0.0</td>\n",
       "      <td>Approved</td>\n",
       "      <td>Norco Bicycles</td>\n",
       "      <td>Standard</td>\n",
       "      <td>medium</td>\n",
       "      <td>medium</td>\n",
       "      <td>1198.46</td>\n",
       "      <td>381.10</td>\n",
       "      <td>1998-12-16</td>\n",
       "    </tr>\n",
       "    <tr>\n",
       "      <th>4</th>\n",
       "      <td>5</td>\n",
       "      <td>78</td>\n",
       "      <td>787</td>\n",
       "      <td>2017-10-01</td>\n",
       "      <td>1.0</td>\n",
       "      <td>Approved</td>\n",
       "      <td>Giant Bicycles</td>\n",
       "      <td>Standard</td>\n",
       "      <td>medium</td>\n",
       "      <td>large</td>\n",
       "      <td>1765.30</td>\n",
       "      <td>709.48</td>\n",
       "      <td>2015-08-10</td>\n",
       "    </tr>\n",
       "  </tbody>\n",
       "</table>\n",
       "</div>"
      ],
      "text/plain": [
       "   transaction_id  product_id  customer_id transaction_date  online_order  \\\n",
       "0               1           2         2950       2017-02-25           0.0   \n",
       "1               2           3         3120       2017-05-21           1.0   \n",
       "2               3          37          402       2017-10-16           0.0   \n",
       "3               4          88         3135       2017-08-31           0.0   \n",
       "4               5          78          787       2017-10-01           1.0   \n",
       "\n",
       "  order_status           brand product_line product_class product_size  \\\n",
       "0     Approved           Solex     Standard        medium       medium   \n",
       "1     Approved   Trek Bicycles     Standard        medium        large   \n",
       "2     Approved      OHM Cycles     Standard           low       medium   \n",
       "3     Approved  Norco Bicycles     Standard        medium       medium   \n",
       "4     Approved  Giant Bicycles     Standard        medium        large   \n",
       "\n",
       "   list_price  standard_cost product_first_sold_date  \n",
       "0       71.49          53.62              2012-12-02  \n",
       "1     2091.47         388.92              2014-03-03  \n",
       "2     1793.43         248.82              1999-07-20  \n",
       "3     1198.46         381.10              1998-12-16  \n",
       "4     1765.30         709.48              2015-08-10  "
      ]
     },
     "execution_count": 71,
     "metadata": {},
     "output_type": "execute_result"
    }
   ],
   "source": [
    "transaction['product_first_sold_date']=transaction['product_first_sold_date'].astype('int').apply(convert_data_time)\n",
    "transaction.head()"
   ]
  },
  {
   "cell_type": "code",
   "execution_count": 72,
   "id": "0400b4ef",
   "metadata": {},
   "outputs": [
    {
     "name": "stdout",
     "output_type": "stream",
     "text": [
      " q1 value: 575.27 \n",
      " q3: 1635.3 \n",
      " IQR : 1060.03 \n",
      " Lower Fence : -1014.7750000000001 \n",
      " upper_fence:  3225.3450000000003\n"
     ]
    }
   ],
   "source": [
    "# Checking Outliers for list_price field\n",
    "data = find_outliers_IQR(transaction['list_price'])\n",
    "data"
   ]
  },
  {
   "cell_type": "code",
   "execution_count": 73,
   "id": "361e7211",
   "metadata": {},
   "outputs": [
    {
     "data": {
      "text/plain": [
       "<Axes: xlabel='list_price', ylabel='brand'>"
      ]
     },
     "execution_count": 73,
     "metadata": {},
     "output_type": "execute_result"
    },
    {
     "data": {
      "image/png": "[encoded data removed]",
      "text/plain": [
       "<Figure size 640x480 with 1 Axes>"
      ]
     },
     "metadata": {},
     "output_type": "display_data"
    }
   ],
   "source": [
    "# Visual Check for Outliers in list_price field\n",
    "sns.barplot(data = transaction, x = 'list_price', y = 'brand',estimator='sum',ci = None)"
   ]
  },
  {
   "cell_type": "code",
   "execution_count": 74,
   "id": "5acd8724",
   "metadata": {},
   "outputs": [
    {
     "data": {
      "text/plain": [
       "12.01"
      ]
     },
     "execution_count": 74,
     "metadata": {},
     "output_type": "execute_result"
    }
   ],
   "source": [
    "# Summary Statistic Check over list_price\n",
    "transaction['list_price'].min()"
   ]
  },
  {
   "cell_type": "code",
   "execution_count": 75,
   "id": "781dea70",
   "metadata": {},
   "outputs": [
    {
     "name": "stdout",
     "output_type": "stream",
     "text": [
      "count    19803.000000\n",
      "mean      1107.997866\n",
      "std        582.770460\n",
      "min         12.010000\n",
      "25%        575.270000\n",
      "50%       1163.890000\n",
      "75%       1635.300000\n",
      "max       2091.470000\n",
      "Name: list_price, dtype: float64\n"
     ]
    }
   ],
   "source": [
    "print(transaction['list_price'].describe())"
   ]
  },
  {
   "cell_type": "code",
   "execution_count": 76,
   "id": "a833df86",
   "metadata": {},
   "outputs": [
    {
     "data": {
      "text/plain": [
       "list_price\n",
       "2091.47    465\n",
       "Name: count, dtype: int64"
      ]
     },
     "execution_count": 76,
     "metadata": {},
     "output_type": "execute_result"
    }
   ],
   "source": [
    "transaction[transaction['list_price'] == 2091.47]['list_price'].value_counts()"
   ]
  },
  {
   "cell_type": "markdown",
   "id": "f10c7cc6",
   "metadata": {},
   "source": [
    "## standard_cost outliers"
   ]
  },
  {
   "cell_type": "code",
   "execution_count": 77,
   "id": "d7463b0c",
   "metadata": {},
   "outputs": [
    {
     "name": "stdout",
     "output_type": "stream",
     "text": [
      " q1 value: 215.14 \n",
      " q3: 795.1 \n",
      " IQR : 579.96 \n",
      " Lower Fence : -654.8000000000001 \n",
      " upper_fence:  1665.04\n"
     ]
    }
   ],
   "source": [
    "# Checking Outliers\n",
    "data = find_outliers_IQR(transaction['standard_cost'])\n",
    "data"
   ]
  },
  {
   "cell_type": "code",
   "execution_count": 78,
   "id": "c29fd0ae",
   "metadata": {},
   "outputs": [
    {
     "data": {
      "text/plain": [
       "count    19803.000000\n",
       "mean       556.046951\n",
       "std        405.955660\n",
       "min          7.210000\n",
       "25%        215.140000\n",
       "50%        507.580000\n",
       "75%        795.100000\n",
       "max       1759.850000\n",
       "Name: standard_cost, dtype: float64"
      ]
     },
     "execution_count": 78,
     "metadata": {},
     "output_type": "execute_result"
    }
   ],
   "source": [
    "# Summary Statistic\n",
    "transaction['standard_cost'].describe()"
   ]
  },
  {
   "cell_type": "code",
   "execution_count": 79,
   "id": "ca876dd5",
   "metadata": {},
   "outputs": [],
   "source": [
    "# Treating Outliers\n",
    "transaction['standard_cost'] = transaction['standard_cost'].apply(lambda x : 1665.04 if x >= 1665.04 else  x )"
   ]
  },
  {
   "cell_type": "code",
   "execution_count": 80,
   "id": "94c3eaa0",
   "metadata": {},
   "outputs": [
    {
     "data": {
      "text/plain": [
       "count    19803.000000\n",
       "mean       555.113358\n",
       "std        403.286258\n",
       "min          7.210000\n",
       "25%        215.140000\n",
       "50%        507.580000\n",
       "75%        795.100000\n",
       "max       1665.040000\n",
       "Name: standard_cost, dtype: float64"
      ]
     },
     "execution_count": 80,
     "metadata": {},
     "output_type": "execute_result"
    }
   ],
   "source": [
    "# Chceking summary statistic for Outliers (after treatment):\n",
    "transaction['standard_cost'].describe()"
   ]
  },
  {
   "cell_type": "code",
   "execution_count": null,
   "id": "dee327da",
   "metadata": {},
   "outputs": [],
   "source": []
  },
  {
   "cell_type": "markdown",
   "id": "0478dc25",
   "metadata": {},
   "source": [
    "## Outliers for CustomerDemographic"
   ]
  },
  {
   "cell_type": "code",
   "execution_count": 81,
   "id": "25a1d8da",
   "metadata": {},
   "outputs": [
    {
     "data": {
      "text/html": [
       "<div>\n",
       "<style scoped>\n",
       "    .dataframe tbody tr th:only-of-type {\n",
       "        vertical-align: middle;\n",
       "    }\n",
       "\n",
       "    .dataframe tbody tr th {\n",
       "        vertical-align: top;\n",
       "    }\n",
       "\n",
       "    .dataframe thead th {\n",
       "        text-align: right;\n",
       "    }\n",
       "</style>\n",
       "<table border=\"1\" class=\"dataframe\">\n",
       "  <thead>\n",
       "    <tr style=\"text-align: right;\">\n",
       "      <th></th>\n",
       "      <th>customer_id</th>\n",
       "      <th>first_name</th>\n",
       "      <th>last_name</th>\n",
       "      <th>gender</th>\n",
       "      <th>past_3_years_bike_related_purchases</th>\n",
       "      <th>DOB</th>\n",
       "      <th>job_industry_category</th>\n",
       "      <th>wealth_segment</th>\n",
       "      <th>deceased_indicator</th>\n",
       "      <th>owns_car</th>\n",
       "      <th>tenure</th>\n",
       "    </tr>\n",
       "  </thead>\n",
       "  <tbody>\n",
       "    <tr>\n",
       "      <th>0</th>\n",
       "      <td>1</td>\n",
       "      <td>Laraine</td>\n",
       "      <td>Medendorp</td>\n",
       "      <td>Female</td>\n",
       "      <td>93</td>\n",
       "      <td>1953-10-12 00:00:00</td>\n",
       "      <td>Health</td>\n",
       "      <td>Mass Customer</td>\n",
       "      <td>N</td>\n",
       "      <td>Yes</td>\n",
       "      <td>11.0</td>\n",
       "    </tr>\n",
       "    <tr>\n",
       "      <th>1</th>\n",
       "      <td>2</td>\n",
       "      <td>Eli</td>\n",
       "      <td>Bockman</td>\n",
       "      <td>Male</td>\n",
       "      <td>81</td>\n",
       "      <td>1980-12-16 00:00:00</td>\n",
       "      <td>Financial Services</td>\n",
       "      <td>Mass Customer</td>\n",
       "      <td>N</td>\n",
       "      <td>Yes</td>\n",
       "      <td>16.0</td>\n",
       "    </tr>\n",
       "    <tr>\n",
       "      <th>2</th>\n",
       "      <td>3</td>\n",
       "      <td>Arlin</td>\n",
       "      <td>Dearle</td>\n",
       "      <td>Male</td>\n",
       "      <td>61</td>\n",
       "      <td>1954-01-20 00:00:00</td>\n",
       "      <td>Property</td>\n",
       "      <td>Mass Customer</td>\n",
       "      <td>N</td>\n",
       "      <td>Yes</td>\n",
       "      <td>15.0</td>\n",
       "    </tr>\n",
       "    <tr>\n",
       "      <th>3</th>\n",
       "      <td>4</td>\n",
       "      <td>Talbot</td>\n",
       "      <td>NaN</td>\n",
       "      <td>Male</td>\n",
       "      <td>33</td>\n",
       "      <td>1961-10-03 00:00:00</td>\n",
       "      <td>IT</td>\n",
       "      <td>Mass Customer</td>\n",
       "      <td>N</td>\n",
       "      <td>No</td>\n",
       "      <td>7.0</td>\n",
       "    </tr>\n",
       "    <tr>\n",
       "      <th>4</th>\n",
       "      <td>5</td>\n",
       "      <td>Sheila-kathryn</td>\n",
       "      <td>Calton</td>\n",
       "      <td>Female</td>\n",
       "      <td>56</td>\n",
       "      <td>1977-05-13 00:00:00</td>\n",
       "      <td>NaN</td>\n",
       "      <td>Affluent Customer</td>\n",
       "      <td>N</td>\n",
       "      <td>Yes</td>\n",
       "      <td>8.0</td>\n",
       "    </tr>\n",
       "  </tbody>\n",
       "</table>\n",
       "</div>"
      ],
      "text/plain": [
       "   customer_id      first_name  last_name  gender  \\\n",
       "0            1         Laraine  Medendorp  Female   \n",
       "1            2             Eli    Bockman    Male   \n",
       "2            3           Arlin     Dearle    Male   \n",
       "3            4          Talbot        NaN    Male   \n",
       "4            5  Sheila-kathryn     Calton  Female   \n",
       "\n",
       "   past_3_years_bike_related_purchases                  DOB  \\\n",
       "0                                   93  1953-10-12 00:00:00   \n",
       "1                                   81  1980-12-16 00:00:00   \n",
       "2                                   61  1954-01-20 00:00:00   \n",
       "3                                   33  1961-10-03 00:00:00   \n",
       "4                                   56  1977-05-13 00:00:00   \n",
       "\n",
       "  job_industry_category     wealth_segment deceased_indicator owns_car  tenure  \n",
       "0                Health      Mass Customer                  N      Yes    11.0  \n",
       "1    Financial Services      Mass Customer                  N      Yes    16.0  \n",
       "2              Property      Mass Customer                  N      Yes    15.0  \n",
       "3                    IT      Mass Customer                  N       No     7.0  \n",
       "4                   NaN  Affluent Customer                  N      Yes     8.0  "
      ]
     },
     "execution_count": 81,
     "metadata": {},
     "output_type": "execute_result"
    }
   ],
   "source": [
    "# Exploring the dataset\n",
    "CustomerDemographic.head()"
   ]
  },
  {
   "cell_type": "code",
   "execution_count": 82,
   "id": "c1072fcd",
   "metadata": {},
   "outputs": [
    {
     "data": {
      "text/html": [
       "<div>\n",
       "<style scoped>\n",
       "    .dataframe tbody tr th:only-of-type {\n",
       "        vertical-align: middle;\n",
       "    }\n",
       "\n",
       "    .dataframe tbody tr th {\n",
       "        vertical-align: top;\n",
       "    }\n",
       "\n",
       "    .dataframe thead th {\n",
       "        text-align: right;\n",
       "    }\n",
       "</style>\n",
       "<table border=\"1\" class=\"dataframe\">\n",
       "  <thead>\n",
       "    <tr style=\"text-align: right;\">\n",
       "      <th></th>\n",
       "      <th>customer_id</th>\n",
       "      <th>past_3_years_bike_related_purchases</th>\n",
       "      <th>tenure</th>\n",
       "    </tr>\n",
       "  </thead>\n",
       "  <tbody>\n",
       "    <tr>\n",
       "      <th>count</th>\n",
       "      <td>5310.000000</td>\n",
       "      <td>5310.000000</td>\n",
       "      <td>5310.000000</td>\n",
       "    </tr>\n",
       "    <tr>\n",
       "      <th>mean</th>\n",
       "      <td>2017.304143</td>\n",
       "      <td>48.911299</td>\n",
       "      <td>10.566855</td>\n",
       "    </tr>\n",
       "    <tr>\n",
       "      <th>std</th>\n",
       "      <td>1153.551656</td>\n",
       "      <td>28.738437</td>\n",
       "      <td>5.578761</td>\n",
       "    </tr>\n",
       "    <tr>\n",
       "      <th>min</th>\n",
       "      <td>1.000000</td>\n",
       "      <td>0.000000</td>\n",
       "      <td>1.000000</td>\n",
       "    </tr>\n",
       "    <tr>\n",
       "      <th>25%</th>\n",
       "      <td>1027.250000</td>\n",
       "      <td>23.000000</td>\n",
       "      <td>6.000000</td>\n",
       "    </tr>\n",
       "    <tr>\n",
       "      <th>50%</th>\n",
       "      <td>2026.500000</td>\n",
       "      <td>48.000000</td>\n",
       "      <td>10.000000</td>\n",
       "    </tr>\n",
       "    <tr>\n",
       "      <th>75%</th>\n",
       "      <td>3015.750000</td>\n",
       "      <td>73.000000</td>\n",
       "      <td>15.000000</td>\n",
       "    </tr>\n",
       "    <tr>\n",
       "      <th>max</th>\n",
       "      <td>4000.000000</td>\n",
       "      <td>99.000000</td>\n",
       "      <td>22.000000</td>\n",
       "    </tr>\n",
       "  </tbody>\n",
       "</table>\n",
       "</div>"
      ],
      "text/plain": [
       "       customer_id  past_3_years_bike_related_purchases       tenure\n",
       "count  5310.000000                          5310.000000  5310.000000\n",
       "mean   2017.304143                            48.911299    10.566855\n",
       "std    1153.551656                            28.738437     5.578761\n",
       "min       1.000000                             0.000000     1.000000\n",
       "25%    1027.250000                            23.000000     6.000000\n",
       "50%    2026.500000                            48.000000    10.000000\n",
       "75%    3015.750000                            73.000000    15.000000\n",
       "max    4000.000000                            99.000000    22.000000"
      ]
     },
     "execution_count": 82,
     "metadata": {},
     "output_type": "execute_result"
    }
   ],
   "source": [
    "# Summary Statistic\n",
    "CustomerDemographic.describe()"
   ]
  },
  {
   "cell_type": "code",
   "execution_count": 83,
   "id": "c86bdd57",
   "metadata": {},
   "outputs": [
    {
     "name": "stdout",
     "output_type": "stream",
     "text": [
      " q1 value: 6.0 \n",
      " q3: 15.0 \n",
      " IQR : 9.0 \n",
      " Lower Fence : -7.5 \n",
      " upper_fence:  28.5\n"
     ]
    }
   ],
   "source": [
    "# Checking Outlier\n",
    "data = find_outliers_IQR(CustomerDemographic['tenure'])\n",
    "data"
   ]
  },
  {
   "cell_type": "code",
   "execution_count": 84,
   "id": "b4ac526d",
   "metadata": {},
   "outputs": [
    {
     "name": "stdout",
     "output_type": "stream",
     "text": [
      " q1 value: 23.0 \n",
      " q3: 73.0 \n",
      " IQR : 50.0 \n",
      " Lower Fence : -52.0 \n",
      " upper_fence:  148.0\n"
     ]
    }
   ],
   "source": [
    "# Checking Outlier\n",
    "data = find_outliers_IQR(CustomerDemographic['past_3_years_bike_related_purchases'])\n",
    "data"
   ]
  },
  {
   "cell_type": "markdown",
   "id": "ee829c86",
   "metadata": {},
   "source": [
    "## Customer address Outliers"
   ]
  },
  {
   "cell_type": "code",
   "execution_count": 85,
   "id": "2b8167bb",
   "metadata": {},
   "outputs": [
    {
     "data": {
      "text/html": [
       "<div>\n",
       "<style scoped>\n",
       "    .dataframe tbody tr th:only-of-type {\n",
       "        vertical-align: middle;\n",
       "    }\n",
       "\n",
       "    .dataframe tbody tr th {\n",
       "        vertical-align: top;\n",
       "    }\n",
       "\n",
       "    .dataframe thead th {\n",
       "        text-align: right;\n",
       "    }\n",
       "</style>\n",
       "<table border=\"1\" class=\"dataframe\">\n",
       "  <thead>\n",
       "    <tr style=\"text-align: right;\">\n",
       "      <th></th>\n",
       "      <th>customer_id</th>\n",
       "      <th>postcode</th>\n",
       "      <th>property_valuation</th>\n",
       "    </tr>\n",
       "  </thead>\n",
       "  <tbody>\n",
       "    <tr>\n",
       "      <th>count</th>\n",
       "      <td>3999.000000</td>\n",
       "      <td>3999.000000</td>\n",
       "      <td>3999.000000</td>\n",
       "    </tr>\n",
       "    <tr>\n",
       "      <th>mean</th>\n",
       "      <td>2003.987997</td>\n",
       "      <td>2985.755939</td>\n",
       "      <td>7.514379</td>\n",
       "    </tr>\n",
       "    <tr>\n",
       "      <th>std</th>\n",
       "      <td>1154.576912</td>\n",
       "      <td>844.878364</td>\n",
       "      <td>2.824663</td>\n",
       "    </tr>\n",
       "    <tr>\n",
       "      <th>min</th>\n",
       "      <td>1.000000</td>\n",
       "      <td>2000.000000</td>\n",
       "      <td>1.000000</td>\n",
       "    </tr>\n",
       "    <tr>\n",
       "      <th>25%</th>\n",
       "      <td>1004.500000</td>\n",
       "      <td>2200.000000</td>\n",
       "      <td>6.000000</td>\n",
       "    </tr>\n",
       "    <tr>\n",
       "      <th>50%</th>\n",
       "      <td>2004.000000</td>\n",
       "      <td>2768.000000</td>\n",
       "      <td>8.000000</td>\n",
       "    </tr>\n",
       "    <tr>\n",
       "      <th>75%</th>\n",
       "      <td>3003.500000</td>\n",
       "      <td>3750.000000</td>\n",
       "      <td>10.000000</td>\n",
       "    </tr>\n",
       "    <tr>\n",
       "      <th>max</th>\n",
       "      <td>4003.000000</td>\n",
       "      <td>4883.000000</td>\n",
       "      <td>12.000000</td>\n",
       "    </tr>\n",
       "  </tbody>\n",
       "</table>\n",
       "</div>"
      ],
      "text/plain": [
       "       customer_id     postcode  property_valuation\n",
       "count  3999.000000  3999.000000         3999.000000\n",
       "mean   2003.987997  2985.755939            7.514379\n",
       "std    1154.576912   844.878364            2.824663\n",
       "min       1.000000  2000.000000            1.000000\n",
       "25%    1004.500000  2200.000000            6.000000\n",
       "50%    2004.000000  2768.000000            8.000000\n",
       "75%    3003.500000  3750.000000           10.000000\n",
       "max    4003.000000  4883.000000           12.000000"
      ]
     },
     "execution_count": 85,
     "metadata": {},
     "output_type": "execute_result"
    }
   ],
   "source": [
    "# Summary Statistic\n",
    "CustomerAddress.describe()"
   ]
  },
  {
   "cell_type": "code",
   "execution_count": 86,
   "id": "f3fe902f",
   "metadata": {},
   "outputs": [
    {
     "name": "stdout",
     "output_type": "stream",
     "text": [
      " q1 value: 6.0 \n",
      " q3: 10.0 \n",
      " IQR : 4.0 \n",
      " Lower Fence : 0.0 \n",
      " upper_fence:  16.0\n"
     ]
    }
   ],
   "source": [
    "# Checking Outlier\n",
    "data = find_outliers_IQR(CustomerAddress['property_valuation'])\n",
    "data"
   ]
  },
  {
   "cell_type": "code",
   "execution_count": null,
   "id": "7800ffd5",
   "metadata": {},
   "outputs": [],
   "source": []
  },
  {
   "cell_type": "markdown",
   "id": "1f175aac",
   "metadata": {},
   "source": [
    "##  Adding Profit Column in Transaction Dataframe "
   ]
  },
  {
   "cell_type": "code",
   "execution_count": 87,
   "id": "ac329e7d",
   "metadata": {},
   "outputs": [
    {
     "data": {
      "text/html": [
       "<div>\n",
       "<style scoped>\n",
       "    .dataframe tbody tr th:only-of-type {\n",
       "        vertical-align: middle;\n",
       "    }\n",
       "\n",
       "    .dataframe tbody tr th {\n",
       "        vertical-align: top;\n",
       "    }\n",
       "\n",
       "    .dataframe thead th {\n",
       "        text-align: right;\n",
       "    }\n",
       "</style>\n",
       "<table border=\"1\" class=\"dataframe\">\n",
       "  <thead>\n",
       "    <tr style=\"text-align: right;\">\n",
       "      <th></th>\n",
       "      <th>transaction_id</th>\n",
       "      <th>product_id</th>\n",
       "      <th>customer_id</th>\n",
       "      <th>transaction_date</th>\n",
       "      <th>online_order</th>\n",
       "      <th>order_status</th>\n",
       "      <th>brand</th>\n",
       "      <th>product_line</th>\n",
       "      <th>product_class</th>\n",
       "      <th>product_size</th>\n",
       "      <th>list_price</th>\n",
       "      <th>standard_cost</th>\n",
       "      <th>product_first_sold_date</th>\n",
       "    </tr>\n",
       "  </thead>\n",
       "  <tbody>\n",
       "    <tr>\n",
       "      <th>0</th>\n",
       "      <td>1</td>\n",
       "      <td>2</td>\n",
       "      <td>2950</td>\n",
       "      <td>2017-02-25</td>\n",
       "      <td>0.0</td>\n",
       "      <td>Approved</td>\n",
       "      <td>Solex</td>\n",
       "      <td>Standard</td>\n",
       "      <td>medium</td>\n",
       "      <td>medium</td>\n",
       "      <td>71.49</td>\n",
       "      <td>53.62</td>\n",
       "      <td>2012-12-02</td>\n",
       "    </tr>\n",
       "    <tr>\n",
       "      <th>1</th>\n",
       "      <td>2</td>\n",
       "      <td>3</td>\n",
       "      <td>3120</td>\n",
       "      <td>2017-05-21</td>\n",
       "      <td>1.0</td>\n",
       "      <td>Approved</td>\n",
       "      <td>Trek Bicycles</td>\n",
       "      <td>Standard</td>\n",
       "      <td>medium</td>\n",
       "      <td>large</td>\n",
       "      <td>2091.47</td>\n",
       "      <td>388.92</td>\n",
       "      <td>2014-03-03</td>\n",
       "    </tr>\n",
       "    <tr>\n",
       "      <th>2</th>\n",
       "      <td>3</td>\n",
       "      <td>37</td>\n",
       "      <td>402</td>\n",
       "      <td>2017-10-16</td>\n",
       "      <td>0.0</td>\n",
       "      <td>Approved</td>\n",
       "      <td>OHM Cycles</td>\n",
       "      <td>Standard</td>\n",
       "      <td>low</td>\n",
       "      <td>medium</td>\n",
       "      <td>1793.43</td>\n",
       "      <td>248.82</td>\n",
       "      <td>1999-07-20</td>\n",
       "    </tr>\n",
       "    <tr>\n",
       "      <th>3</th>\n",
       "      <td>4</td>\n",
       "      <td>88</td>\n",
       "      <td>3135</td>\n",
       "      <td>2017-08-31</td>\n",
       "      <td>0.0</td>\n",
       "      <td>Approved</td>\n",
       "      <td>Norco Bicycles</td>\n",
       "      <td>Standard</td>\n",
       "      <td>medium</td>\n",
       "      <td>medium</td>\n",
       "      <td>1198.46</td>\n",
       "      <td>381.10</td>\n",
       "      <td>1998-12-16</td>\n",
       "    </tr>\n",
       "    <tr>\n",
       "      <th>4</th>\n",
       "      <td>5</td>\n",
       "      <td>78</td>\n",
       "      <td>787</td>\n",
       "      <td>2017-10-01</td>\n",
       "      <td>1.0</td>\n",
       "      <td>Approved</td>\n",
       "      <td>Giant Bicycles</td>\n",
       "      <td>Standard</td>\n",
       "      <td>medium</td>\n",
       "      <td>large</td>\n",
       "      <td>1765.30</td>\n",
       "      <td>709.48</td>\n",
       "      <td>2015-08-10</td>\n",
       "    </tr>\n",
       "  </tbody>\n",
       "</table>\n",
       "</div>"
      ],
      "text/plain": [
       "   transaction_id  product_id  customer_id transaction_date  online_order  \\\n",
       "0               1           2         2950       2017-02-25           0.0   \n",
       "1               2           3         3120       2017-05-21           1.0   \n",
       "2               3          37          402       2017-10-16           0.0   \n",
       "3               4          88         3135       2017-08-31           0.0   \n",
       "4               5          78          787       2017-10-01           1.0   \n",
       "\n",
       "  order_status           brand product_line product_class product_size  \\\n",
       "0     Approved           Solex     Standard        medium       medium   \n",
       "1     Approved   Trek Bicycles     Standard        medium        large   \n",
       "2     Approved      OHM Cycles     Standard           low       medium   \n",
       "3     Approved  Norco Bicycles     Standard        medium       medium   \n",
       "4     Approved  Giant Bicycles     Standard        medium        large   \n",
       "\n",
       "   list_price  standard_cost product_first_sold_date  \n",
       "0       71.49          53.62              2012-12-02  \n",
       "1     2091.47         388.92              2014-03-03  \n",
       "2     1793.43         248.82              1999-07-20  \n",
       "3     1198.46         381.10              1998-12-16  \n",
       "4     1765.30         709.48              2015-08-10  "
      ]
     },
     "execution_count": 87,
     "metadata": {},
     "output_type": "execute_result"
    }
   ],
   "source": [
    "# Exploring dataset\n",
    "transaction.head()"
   ]
  },
  {
   "cell_type": "code",
   "execution_count": 88,
   "id": "5c62792e",
   "metadata": {},
   "outputs": [
    {
     "data": {
      "text/plain": [
       "0          17.87\n",
       "1        1702.55\n",
       "2        1544.61\n",
       "3         817.36\n",
       "4        1055.82\n",
       "          ...   \n",
       "19995     802.26\n",
       "19996     104.24\n",
       "19997    1592.19\n",
       "19998      91.15\n",
       "19999     195.34\n",
       "Length: 19803, dtype: float64"
      ]
     },
     "execution_count": 88,
     "metadata": {},
     "output_type": "execute_result"
    }
   ],
   "source": [
    "# Finding Profit\n",
    "Profit =transaction['list_price'] - transaction['standard_cost']\n",
    "Profit"
   ]
  },
  {
   "cell_type": "code",
   "execution_count": 89,
   "id": "17cb1ee0",
   "metadata": {},
   "outputs": [],
   "source": [
    "# Adding Profit inside dataframe: transaction\n",
    "transaction.insert(13,'Profit',Profit,True)"
   ]
  },
  {
   "cell_type": "code",
   "execution_count": 90,
   "id": "b5ffda4b",
   "metadata": {},
   "outputs": [
    {
     "data": {
      "text/html": [
       "<div>\n",
       "<style scoped>\n",
       "    .dataframe tbody tr th:only-of-type {\n",
       "        vertical-align: middle;\n",
       "    }\n",
       "\n",
       "    .dataframe tbody tr th {\n",
       "        vertical-align: top;\n",
       "    }\n",
       "\n",
       "    .dataframe thead th {\n",
       "        text-align: right;\n",
       "    }\n",
       "</style>\n",
       "<table border=\"1\" class=\"dataframe\">\n",
       "  <thead>\n",
       "    <tr style=\"text-align: right;\">\n",
       "      <th></th>\n",
       "      <th>transaction_id</th>\n",
       "      <th>product_id</th>\n",
       "      <th>customer_id</th>\n",
       "      <th>transaction_date</th>\n",
       "      <th>online_order</th>\n",
       "      <th>order_status</th>\n",
       "      <th>brand</th>\n",
       "      <th>product_line</th>\n",
       "      <th>product_class</th>\n",
       "      <th>product_size</th>\n",
       "      <th>list_price</th>\n",
       "      <th>standard_cost</th>\n",
       "      <th>product_first_sold_date</th>\n",
       "      <th>Profit</th>\n",
       "    </tr>\n",
       "  </thead>\n",
       "  <tbody>\n",
       "    <tr>\n",
       "      <th>0</th>\n",
       "      <td>1</td>\n",
       "      <td>2</td>\n",
       "      <td>2950</td>\n",
       "      <td>2017-02-25</td>\n",
       "      <td>0.0</td>\n",
       "      <td>Approved</td>\n",
       "      <td>Solex</td>\n",
       "      <td>Standard</td>\n",
       "      <td>medium</td>\n",
       "      <td>medium</td>\n",
       "      <td>71.49</td>\n",
       "      <td>53.62</td>\n",
       "      <td>2012-12-02</td>\n",
       "      <td>17.87</td>\n",
       "    </tr>\n",
       "    <tr>\n",
       "      <th>1</th>\n",
       "      <td>2</td>\n",
       "      <td>3</td>\n",
       "      <td>3120</td>\n",
       "      <td>2017-05-21</td>\n",
       "      <td>1.0</td>\n",
       "      <td>Approved</td>\n",
       "      <td>Trek Bicycles</td>\n",
       "      <td>Standard</td>\n",
       "      <td>medium</td>\n",
       "      <td>large</td>\n",
       "      <td>2091.47</td>\n",
       "      <td>388.92</td>\n",
       "      <td>2014-03-03</td>\n",
       "      <td>1702.55</td>\n",
       "    </tr>\n",
       "    <tr>\n",
       "      <th>2</th>\n",
       "      <td>3</td>\n",
       "      <td>37</td>\n",
       "      <td>402</td>\n",
       "      <td>2017-10-16</td>\n",
       "      <td>0.0</td>\n",
       "      <td>Approved</td>\n",
       "      <td>OHM Cycles</td>\n",
       "      <td>Standard</td>\n",
       "      <td>low</td>\n",
       "      <td>medium</td>\n",
       "      <td>1793.43</td>\n",
       "      <td>248.82</td>\n",
       "      <td>1999-07-20</td>\n",
       "      <td>1544.61</td>\n",
       "    </tr>\n",
       "    <tr>\n",
       "      <th>3</th>\n",
       "      <td>4</td>\n",
       "      <td>88</td>\n",
       "      <td>3135</td>\n",
       "      <td>2017-08-31</td>\n",
       "      <td>0.0</td>\n",
       "      <td>Approved</td>\n",
       "      <td>Norco Bicycles</td>\n",
       "      <td>Standard</td>\n",
       "      <td>medium</td>\n",
       "      <td>medium</td>\n",
       "      <td>1198.46</td>\n",
       "      <td>381.10</td>\n",
       "      <td>1998-12-16</td>\n",
       "      <td>817.36</td>\n",
       "    </tr>\n",
       "    <tr>\n",
       "      <th>4</th>\n",
       "      <td>5</td>\n",
       "      <td>78</td>\n",
       "      <td>787</td>\n",
       "      <td>2017-10-01</td>\n",
       "      <td>1.0</td>\n",
       "      <td>Approved</td>\n",
       "      <td>Giant Bicycles</td>\n",
       "      <td>Standard</td>\n",
       "      <td>medium</td>\n",
       "      <td>large</td>\n",
       "      <td>1765.30</td>\n",
       "      <td>709.48</td>\n",
       "      <td>2015-08-10</td>\n",
       "      <td>1055.82</td>\n",
       "    </tr>\n",
       "  </tbody>\n",
       "</table>\n",
       "</div>"
      ],
      "text/plain": [
       "   transaction_id  product_id  customer_id transaction_date  online_order  \\\n",
       "0               1           2         2950       2017-02-25           0.0   \n",
       "1               2           3         3120       2017-05-21           1.0   \n",
       "2               3          37          402       2017-10-16           0.0   \n",
       "3               4          88         3135       2017-08-31           0.0   \n",
       "4               5          78          787       2017-10-01           1.0   \n",
       "\n",
       "  order_status           brand product_line product_class product_size  \\\n",
       "0     Approved           Solex     Standard        medium       medium   \n",
       "1     Approved   Trek Bicycles     Standard        medium        large   \n",
       "2     Approved      OHM Cycles     Standard           low       medium   \n",
       "3     Approved  Norco Bicycles     Standard        medium       medium   \n",
       "4     Approved  Giant Bicycles     Standard        medium        large   \n",
       "\n",
       "   list_price  standard_cost product_first_sold_date   Profit  \n",
       "0       71.49          53.62              2012-12-02    17.87  \n",
       "1     2091.47         388.92              2014-03-03  1702.55  \n",
       "2     1793.43         248.82              1999-07-20  1544.61  \n",
       "3     1198.46         381.10              1998-12-16   817.36  \n",
       "4     1765.30         709.48              2015-08-10  1055.82  "
      ]
     },
     "execution_count": 90,
     "metadata": {},
     "output_type": "execute_result"
    }
   ],
   "source": [
    "transaction.head()"
   ]
  },
  {
   "cell_type": "markdown",
   "id": "96f5f19b",
   "metadata": {},
   "source": [
    "## Adding Age Field in Customer Demographic Dataframe"
   ]
  },
  {
   "cell_type": "code",
   "execution_count": 91,
   "id": "50a74e65",
   "metadata": {},
   "outputs": [
    {
     "data": {
      "text/html": [
       "<div>\n",
       "<style scoped>\n",
       "    .dataframe tbody tr th:only-of-type {\n",
       "        vertical-align: middle;\n",
       "    }\n",
       "\n",
       "    .dataframe tbody tr th {\n",
       "        vertical-align: top;\n",
       "    }\n",
       "\n",
       "    .dataframe thead th {\n",
       "        text-align: right;\n",
       "    }\n",
       "</style>\n",
       "<table border=\"1\" class=\"dataframe\">\n",
       "  <thead>\n",
       "    <tr style=\"text-align: right;\">\n",
       "      <th></th>\n",
       "      <th>customer_id</th>\n",
       "      <th>first_name</th>\n",
       "      <th>last_name</th>\n",
       "      <th>gender</th>\n",
       "      <th>past_3_years_bike_related_purchases</th>\n",
       "      <th>DOB</th>\n",
       "      <th>job_industry_category</th>\n",
       "      <th>wealth_segment</th>\n",
       "      <th>deceased_indicator</th>\n",
       "      <th>owns_car</th>\n",
       "      <th>tenure</th>\n",
       "    </tr>\n",
       "  </thead>\n",
       "  <tbody>\n",
       "    <tr>\n",
       "      <th>0</th>\n",
       "      <td>1</td>\n",
       "      <td>Laraine</td>\n",
       "      <td>Medendorp</td>\n",
       "      <td>Female</td>\n",
       "      <td>93</td>\n",
       "      <td>1953-10-12 00:00:00</td>\n",
       "      <td>Health</td>\n",
       "      <td>Mass Customer</td>\n",
       "      <td>N</td>\n",
       "      <td>Yes</td>\n",
       "      <td>11.0</td>\n",
       "    </tr>\n",
       "    <tr>\n",
       "      <th>1</th>\n",
       "      <td>2</td>\n",
       "      <td>Eli</td>\n",
       "      <td>Bockman</td>\n",
       "      <td>Male</td>\n",
       "      <td>81</td>\n",
       "      <td>1980-12-16 00:00:00</td>\n",
       "      <td>Financial Services</td>\n",
       "      <td>Mass Customer</td>\n",
       "      <td>N</td>\n",
       "      <td>Yes</td>\n",
       "      <td>16.0</td>\n",
       "    </tr>\n",
       "    <tr>\n",
       "      <th>2</th>\n",
       "      <td>3</td>\n",
       "      <td>Arlin</td>\n",
       "      <td>Dearle</td>\n",
       "      <td>Male</td>\n",
       "      <td>61</td>\n",
       "      <td>1954-01-20 00:00:00</td>\n",
       "      <td>Property</td>\n",
       "      <td>Mass Customer</td>\n",
       "      <td>N</td>\n",
       "      <td>Yes</td>\n",
       "      <td>15.0</td>\n",
       "    </tr>\n",
       "    <tr>\n",
       "      <th>3</th>\n",
       "      <td>4</td>\n",
       "      <td>Talbot</td>\n",
       "      <td>NaN</td>\n",
       "      <td>Male</td>\n",
       "      <td>33</td>\n",
       "      <td>1961-10-03 00:00:00</td>\n",
       "      <td>IT</td>\n",
       "      <td>Mass Customer</td>\n",
       "      <td>N</td>\n",
       "      <td>No</td>\n",
       "      <td>7.0</td>\n",
       "    </tr>\n",
       "    <tr>\n",
       "      <th>4</th>\n",
       "      <td>5</td>\n",
       "      <td>Sheila-kathryn</td>\n",
       "      <td>Calton</td>\n",
       "      <td>Female</td>\n",
       "      <td>56</td>\n",
       "      <td>1977-05-13 00:00:00</td>\n",
       "      <td>NaN</td>\n",
       "      <td>Affluent Customer</td>\n",
       "      <td>N</td>\n",
       "      <td>Yes</td>\n",
       "      <td>8.0</td>\n",
       "    </tr>\n",
       "  </tbody>\n",
       "</table>\n",
       "</div>"
      ],
      "text/plain": [
       "   customer_id      first_name  last_name  gender  \\\n",
       "0            1         Laraine  Medendorp  Female   \n",
       "1            2             Eli    Bockman    Male   \n",
       "2            3           Arlin     Dearle    Male   \n",
       "3            4          Talbot        NaN    Male   \n",
       "4            5  Sheila-kathryn     Calton  Female   \n",
       "\n",
       "   past_3_years_bike_related_purchases                  DOB  \\\n",
       "0                                   93  1953-10-12 00:00:00   \n",
       "1                                   81  1980-12-16 00:00:00   \n",
       "2                                   61  1954-01-20 00:00:00   \n",
       "3                                   33  1961-10-03 00:00:00   \n",
       "4                                   56  1977-05-13 00:00:00   \n",
       "\n",
       "  job_industry_category     wealth_segment deceased_indicator owns_car  tenure  \n",
       "0                Health      Mass Customer                  N      Yes    11.0  \n",
       "1    Financial Services      Mass Customer                  N      Yes    16.0  \n",
       "2              Property      Mass Customer                  N      Yes    15.0  \n",
       "3                    IT      Mass Customer                  N       No     7.0  \n",
       "4                   NaN  Affluent Customer                  N      Yes     8.0  "
      ]
     },
     "execution_count": 91,
     "metadata": {},
     "output_type": "execute_result"
    }
   ],
   "source": [
    "# Exploring dataset\n",
    "CustomerDemographic.head()"
   ]
  },
  {
   "cell_type": "code",
   "execution_count": 92,
   "id": "7db7ce2a",
   "metadata": {},
   "outputs": [
    {
     "data": {
      "text/plain": [
       "dtype('O')"
      ]
     },
     "execution_count": 92,
     "metadata": {},
     "output_type": "execute_result"
    }
   ],
   "source": [
    "# Checking DOB data type\n",
    "CustomerDemographic['DOB'].dtype"
   ]
  },
  {
   "cell_type": "code",
   "execution_count": 93,
   "id": "82040fdc",
   "metadata": {},
   "outputs": [],
   "source": [
    "# Extracting Year of Birth and then adding it in the dataframe\n",
    "CustomerDemographic['yyyy'] = pd.to_datetime(CustomerDemographic['DOB']).dt.strftime('%Y')"
   ]
  },
  {
   "cell_type": "code",
   "execution_count": 94,
   "id": "181dfbf2",
   "metadata": {},
   "outputs": [
    {
     "data": {
      "text/plain": [
       "1977.0"
      ]
     },
     "execution_count": 94,
     "metadata": {},
     "output_type": "execute_result"
    }
   ],
   "source": [
    "# Finding the median value for the year of birth: to later impute the null values in that field with it\n",
    "_m = CustomerDemographic['yyyy'].median()\n",
    "_m"
   ]
  },
  {
   "cell_type": "code",
   "execution_count": 95,
   "id": "92ae78d0",
   "metadata": {},
   "outputs": [],
   "source": [
    "# Imputing the nul values in the year of birth column with the median found above\n",
    "CustomerDemographic['yyyy'] = CustomerDemographic['yyyy'].fillna(_m)"
   ]
  },
  {
   "cell_type": "code",
   "execution_count": 96,
   "id": "a0c3a482",
   "metadata": {},
   "outputs": [],
   "source": [
    "# Changing the data type of year of birth column into integer\n",
    "CustomerDemographic['yyyy'] = CustomerDemographic['yyyy'].astype('int64')"
   ]
  },
  {
   "cell_type": "code",
   "execution_count": 97,
   "id": "7bf1c158",
   "metadata": {},
   "outputs": [],
   "source": [
    "# Finally Finding the Age by Subtracting the year of birth from the present date of this dataset (which is 2017) \n",
    "CustomerDemographic['AGE']= 2017 - CustomerDemographic['yyyy']"
   ]
  },
  {
   "cell_type": "code",
   "execution_count": 98,
   "id": "4856991c",
   "metadata": {
    "scrolled": true
   },
   "outputs": [
    {
     "data": {
      "text/html": [
       "<div>\n",
       "<style scoped>\n",
       "    .dataframe tbody tr th:only-of-type {\n",
       "        vertical-align: middle;\n",
       "    }\n",
       "\n",
       "    .dataframe tbody tr th {\n",
       "        vertical-align: top;\n",
       "    }\n",
       "\n",
       "    .dataframe thead th {\n",
       "        text-align: right;\n",
       "    }\n",
       "</style>\n",
       "<table border=\"1\" class=\"dataframe\">\n",
       "  <thead>\n",
       "    <tr style=\"text-align: right;\">\n",
       "      <th></th>\n",
       "      <th>customer_id</th>\n",
       "      <th>first_name</th>\n",
       "      <th>last_name</th>\n",
       "      <th>gender</th>\n",
       "      <th>past_3_years_bike_related_purchases</th>\n",
       "      <th>DOB</th>\n",
       "      <th>job_industry_category</th>\n",
       "      <th>wealth_segment</th>\n",
       "      <th>deceased_indicator</th>\n",
       "      <th>owns_car</th>\n",
       "      <th>tenure</th>\n",
       "      <th>yyyy</th>\n",
       "      <th>AGE</th>\n",
       "    </tr>\n",
       "  </thead>\n",
       "  <tbody>\n",
       "    <tr>\n",
       "      <th>0</th>\n",
       "      <td>1</td>\n",
       "      <td>Laraine</td>\n",
       "      <td>Medendorp</td>\n",
       "      <td>Female</td>\n",
       "      <td>93</td>\n",
       "      <td>1953-10-12 00:00:00</td>\n",
       "      <td>Health</td>\n",
       "      <td>Mass Customer</td>\n",
       "      <td>N</td>\n",
       "      <td>Yes</td>\n",
       "      <td>11.0</td>\n",
       "      <td>1953</td>\n",
       "      <td>64</td>\n",
       "    </tr>\n",
       "    <tr>\n",
       "      <th>1</th>\n",
       "      <td>2</td>\n",
       "      <td>Eli</td>\n",
       "      <td>Bockman</td>\n",
       "      <td>Male</td>\n",
       "      <td>81</td>\n",
       "      <td>1980-12-16 00:00:00</td>\n",
       "      <td>Financial Services</td>\n",
       "      <td>Mass Customer</td>\n",
       "      <td>N</td>\n",
       "      <td>Yes</td>\n",
       "      <td>16.0</td>\n",
       "      <td>1980</td>\n",
       "      <td>37</td>\n",
       "    </tr>\n",
       "    <tr>\n",
       "      <th>2</th>\n",
       "      <td>3</td>\n",
       "      <td>Arlin</td>\n",
       "      <td>Dearle</td>\n",
       "      <td>Male</td>\n",
       "      <td>61</td>\n",
       "      <td>1954-01-20 00:00:00</td>\n",
       "      <td>Property</td>\n",
       "      <td>Mass Customer</td>\n",
       "      <td>N</td>\n",
       "      <td>Yes</td>\n",
       "      <td>15.0</td>\n",
       "      <td>1954</td>\n",
       "      <td>63</td>\n",
       "    </tr>\n",
       "    <tr>\n",
       "      <th>3</th>\n",
       "      <td>4</td>\n",
       "      <td>Talbot</td>\n",
       "      <td>NaN</td>\n",
       "      <td>Male</td>\n",
       "      <td>33</td>\n",
       "      <td>1961-10-03 00:00:00</td>\n",
       "      <td>IT</td>\n",
       "      <td>Mass Customer</td>\n",
       "      <td>N</td>\n",
       "      <td>No</td>\n",
       "      <td>7.0</td>\n",
       "      <td>1961</td>\n",
       "      <td>56</td>\n",
       "    </tr>\n",
       "    <tr>\n",
       "      <th>4</th>\n",
       "      <td>5</td>\n",
       "      <td>Sheila-kathryn</td>\n",
       "      <td>Calton</td>\n",
       "      <td>Female</td>\n",
       "      <td>56</td>\n",
       "      <td>1977-05-13 00:00:00</td>\n",
       "      <td>NaN</td>\n",
       "      <td>Affluent Customer</td>\n",
       "      <td>N</td>\n",
       "      <td>Yes</td>\n",
       "      <td>8.0</td>\n",
       "      <td>1977</td>\n",
       "      <td>40</td>\n",
       "    </tr>\n",
       "  </tbody>\n",
       "</table>\n",
       "</div>"
      ],
      "text/plain": [
       "   customer_id      first_name  last_name  gender  \\\n",
       "0            1         Laraine  Medendorp  Female   \n",
       "1            2             Eli    Bockman    Male   \n",
       "2            3           Arlin     Dearle    Male   \n",
       "3            4          Talbot        NaN    Male   \n",
       "4            5  Sheila-kathryn     Calton  Female   \n",
       "\n",
       "   past_3_years_bike_related_purchases                  DOB  \\\n",
       "0                                   93  1953-10-12 00:00:00   \n",
       "1                                   81  1980-12-16 00:00:00   \n",
       "2                                   61  1954-01-20 00:00:00   \n",
       "3                                   33  1961-10-03 00:00:00   \n",
       "4                                   56  1977-05-13 00:00:00   \n",
       "\n",
       "  job_industry_category     wealth_segment deceased_indicator owns_car  \\\n",
       "0                Health      Mass Customer                  N      Yes   \n",
       "1    Financial Services      Mass Customer                  N      Yes   \n",
       "2              Property      Mass Customer                  N      Yes   \n",
       "3                    IT      Mass Customer                  N       No   \n",
       "4                   NaN  Affluent Customer                  N      Yes   \n",
       "\n",
       "   tenure  yyyy  AGE  \n",
       "0    11.0  1953   64  \n",
       "1    16.0  1980   37  \n",
       "2    15.0  1954   63  \n",
       "3     7.0  1961   56  \n",
       "4     8.0  1977   40  "
      ]
     },
     "execution_count": 98,
     "metadata": {},
     "output_type": "execute_result"
    }
   ],
   "source": [
    "CustomerDemographic.head()"
   ]
  },
  {
   "cell_type": "code",
   "execution_count": 99,
   "id": "c1488bb1",
   "metadata": {},
   "outputs": [],
   "source": [
    "# Dropping the DOB field now: (Redundant now: We won't be using it further for our analysis): \n",
    "CustomerDemographic.drop('DOB',axis = 1, inplace = True)"
   ]
  },
  {
   "cell_type": "code",
   "execution_count": 100,
   "id": "ce9959d1",
   "metadata": {},
   "outputs": [
    {
     "data": {
      "text/plain": [
       "count    5310.000000\n",
       "mean       40.107156\n",
       "std        12.656822\n",
       "min        15.000000\n",
       "25%        31.000000\n",
       "50%        40.000000\n",
       "75%        49.000000\n",
       "max       174.000000\n",
       "Name: AGE, dtype: float64"
      ]
     },
     "execution_count": 100,
     "metadata": {},
     "output_type": "execute_result"
    }
   ],
   "source": [
    "# Summary Statistic of AGE column:\n",
    "CustomerDemographic.AGE.describe()"
   ]
  },
  {
   "cell_type": "code",
   "execution_count": 101,
   "id": "62089e37",
   "metadata": {},
   "outputs": [
    {
     "name": "stdout",
     "output_type": "stream",
     "text": [
      " q1 value: 31.0 \n",
      " q3: 49.0 \n",
      " IQR : 18.0 \n",
      " Lower Fence : 4.0 \n",
      " upper_fence:  76.0\n"
     ]
    }
   ],
   "source": [
    "# Checking Outliers in the AGE fied\n",
    "data = find_outliers_IQR(CustomerDemographic['AGE'])\n",
    "data"
   ]
  },
  {
   "cell_type": "code",
   "execution_count": 102,
   "id": "b065d8b9",
   "metadata": {},
   "outputs": [],
   "source": [
    "# Treating Outliers in AGE field:\n",
    "CustomerDemographic['AGE'] = CustomerDemographic['AGE'].apply(lambda x : 76 if x > 76  else x)"
   ]
  },
  {
   "cell_type": "code",
   "execution_count": 103,
   "id": "e8edbb7b",
   "metadata": {},
   "outputs": [
    {
     "data": {
      "text/plain": [
       "count    5310.000000\n",
       "mean       40.085499\n",
       "std        12.522176\n",
       "min        15.000000\n",
       "25%        31.000000\n",
       "50%        40.000000\n",
       "75%        49.000000\n",
       "max        76.000000\n",
       "Name: AGE, dtype: float64"
      ]
     },
     "execution_count": 103,
     "metadata": {},
     "output_type": "execute_result"
    }
   ],
   "source": [
    "# Summary Statistic of AGE column: (for checking post outlier treatment effect):\n",
    "CustomerDemographic['AGE'].describe()"
   ]
  },
  {
   "cell_type": "code",
   "execution_count": 104,
   "id": "635b2308",
   "metadata": {},
   "outputs": [],
   "source": [
    "# Categorising the AGE field and storing it in new Column: Group:\n",
    "CustomerDemographic['Group'] = pd.cut(CustomerDemographic['AGE'], bins=[0, 18, 25, 35, 45, 55, 65,76] ,labels=['<18', '18-25', '26-35', '36-45', '46-55', '56-65','65+'])"
   ]
  },
  {
   "cell_type": "code",
   "execution_count": 105,
   "id": "752fd0a4",
   "metadata": {},
   "outputs": [
    {
     "data": {
      "text/html": [
       "<div>\n",
       "<style scoped>\n",
       "    .dataframe tbody tr th:only-of-type {\n",
       "        vertical-align: middle;\n",
       "    }\n",
       "\n",
       "    .dataframe tbody tr th {\n",
       "        vertical-align: top;\n",
       "    }\n",
       "\n",
       "    .dataframe thead th {\n",
       "        text-align: right;\n",
       "    }\n",
       "</style>\n",
       "<table border=\"1\" class=\"dataframe\">\n",
       "  <thead>\n",
       "    <tr style=\"text-align: right;\">\n",
       "      <th></th>\n",
       "      <th>customer_id</th>\n",
       "      <th>first_name</th>\n",
       "      <th>last_name</th>\n",
       "      <th>gender</th>\n",
       "      <th>past_3_years_bike_related_purchases</th>\n",
       "      <th>job_industry_category</th>\n",
       "      <th>wealth_segment</th>\n",
       "      <th>deceased_indicator</th>\n",
       "      <th>owns_car</th>\n",
       "      <th>tenure</th>\n",
       "      <th>yyyy</th>\n",
       "      <th>AGE</th>\n",
       "      <th>Group</th>\n",
       "    </tr>\n",
       "  </thead>\n",
       "  <tbody>\n",
       "    <tr>\n",
       "      <th>33</th>\n",
       "      <td>34</td>\n",
       "      <td>Jephthah</td>\n",
       "      <td>Bachmann</td>\n",
       "      <td>Unspecified</td>\n",
       "      <td>59</td>\n",
       "      <td>IT</td>\n",
       "      <td>Affluent Customer</td>\n",
       "      <td>N</td>\n",
       "      <td>No</td>\n",
       "      <td>20.0</td>\n",
       "      <td>1843</td>\n",
       "      <td>76</td>\n",
       "      <td>65+</td>\n",
       "    </tr>\n",
       "    <tr>\n",
       "      <th>657</th>\n",
       "      <td>658</td>\n",
       "      <td>Donn</td>\n",
       "      <td>Bonnell</td>\n",
       "      <td>Male</td>\n",
       "      <td>38</td>\n",
       "      <td>Manufacturing</td>\n",
       "      <td>Affluent Customer</td>\n",
       "      <td>N</td>\n",
       "      <td>Yes</td>\n",
       "      <td>8.0</td>\n",
       "      <td>1944</td>\n",
       "      <td>73</td>\n",
       "      <td>65+</td>\n",
       "    </tr>\n",
       "    <tr>\n",
       "      <th>719</th>\n",
       "      <td>720</td>\n",
       "      <td>Darrel</td>\n",
       "      <td>Canet</td>\n",
       "      <td>Male</td>\n",
       "      <td>67</td>\n",
       "      <td>Retail</td>\n",
       "      <td>Affluent Customer</td>\n",
       "      <td>N</td>\n",
       "      <td>No</td>\n",
       "      <td>6.0</td>\n",
       "      <td>1931</td>\n",
       "      <td>76</td>\n",
       "      <td>65+</td>\n",
       "    </tr>\n",
       "    <tr>\n",
       "      <th>1090</th>\n",
       "      <td>1092</td>\n",
       "      <td>Katlin</td>\n",
       "      <td>Creddon</td>\n",
       "      <td>Female</td>\n",
       "      <td>56</td>\n",
       "      <td>Retail</td>\n",
       "      <td>Mass Customer</td>\n",
       "      <td>N</td>\n",
       "      <td>No</td>\n",
       "      <td>5.0</td>\n",
       "      <td>1935</td>\n",
       "      <td>76</td>\n",
       "      <td>65+</td>\n",
       "    </tr>\n",
       "    <tr>\n",
       "      <th>2411</th>\n",
       "      <td>2413</td>\n",
       "      <td>Abbey</td>\n",
       "      <td>Murrow</td>\n",
       "      <td>Male</td>\n",
       "      <td>27</td>\n",
       "      <td>Manufacturing</td>\n",
       "      <td>High Net Worth</td>\n",
       "      <td>N</td>\n",
       "      <td>Yes</td>\n",
       "      <td>17.0</td>\n",
       "      <td>1943</td>\n",
       "      <td>74</td>\n",
       "      <td>65+</td>\n",
       "    </tr>\n",
       "    <tr>\n",
       "      <th>3408</th>\n",
       "      <td>3410</td>\n",
       "      <td>Merrili</td>\n",
       "      <td>Brittin</td>\n",
       "      <td>Female</td>\n",
       "      <td>93</td>\n",
       "      <td>Property</td>\n",
       "      <td>Mass Customer</td>\n",
       "      <td>N</td>\n",
       "      <td>No</td>\n",
       "      <td>16.0</td>\n",
       "      <td>1940</td>\n",
       "      <td>76</td>\n",
       "      <td>65+</td>\n",
       "    </tr>\n",
       "  </tbody>\n",
       "</table>\n",
       "</div>"
      ],
      "text/plain": [
       "      customer_id first_name last_name       gender  \\\n",
       "33             34   Jephthah  Bachmann  Unspecified   \n",
       "657           658       Donn   Bonnell         Male   \n",
       "719           720     Darrel     Canet         Male   \n",
       "1090         1092     Katlin   Creddon       Female   \n",
       "2411         2413      Abbey    Murrow         Male   \n",
       "3408         3410    Merrili   Brittin       Female   \n",
       "\n",
       "      past_3_years_bike_related_purchases job_industry_category  \\\n",
       "33                                     59                    IT   \n",
       "657                                    38         Manufacturing   \n",
       "719                                    67                Retail   \n",
       "1090                                   56                Retail   \n",
       "2411                                   27         Manufacturing   \n",
       "3408                                   93              Property   \n",
       "\n",
       "         wealth_segment deceased_indicator owns_car  tenure  yyyy  AGE Group  \n",
       "33    Affluent Customer                  N       No    20.0  1843   76   65+  \n",
       "657   Affluent Customer                  N      Yes     8.0  1944   73   65+  \n",
       "719   Affluent Customer                  N       No     6.0  1931   76   65+  \n",
       "1090      Mass Customer                  N       No     5.0  1935   76   65+  \n",
       "2411     High Net Worth                  N      Yes    17.0  1943   74   65+  \n",
       "3408      Mass Customer                  N       No    16.0  1940   76   65+  "
      ]
     },
     "execution_count": 105,
     "metadata": {},
     "output_type": "execute_result"
    }
   ],
   "source": [
    "# Checking the Dataset:\n",
    "CustomerDemographic[CustomerDemographic['Group'] == '65+']"
   ]
  },
  {
   "cell_type": "code",
   "execution_count": 106,
   "id": "26364ab8",
   "metadata": {},
   "outputs": [],
   "source": [
    "# Merging all the datasets to be used for modelling later on... "
   ]
  },
  {
   "cell_type": "code",
   "execution_count": 107,
   "id": "6272f592",
   "metadata": {},
   "outputs": [],
   "source": [
    "a = transaction.merge(CustomerAddress, how='inner', on = \"customer_id\")\n",
    "b = CustomerDemographic.merge(a,how='inner', on = \"customer_id\")"
   ]
  },
  {
   "cell_type": "code",
   "execution_count": 108,
   "id": "7f3a365e",
   "metadata": {},
   "outputs": [],
   "source": [
    "#!pip install XlsxWriter"
   ]
  },
  {
   "cell_type": "code",
   "execution_count": 109,
   "id": "235faa88",
   "metadata": {},
   "outputs": [],
   "source": [
    "# Exporting the Dataset\n",
    "with pd.ExcelWriter('D:\\\\modelling\\\\New folder\\\\final files\\\\b.xlsx', engine='xlsxwriter') as writer:\n",
    "    b.to_excel(writer, sheet_name='Sheet1', index=False)"
   ]
  },
  {
   "cell_type": "code",
   "execution_count": null,
   "id": "270c7e32",
   "metadata": {},
   "outputs": [],
   "source": []
  },
  {
   "cell_type": "code",
   "execution_count": 110,
   "id": "800eaad5",
   "metadata": {},
   "outputs": [
    {
     "data": {
      "text/plain": [
       "Index(['customer_id', 'first_name', 'last_name', 'gender',\n",
       "       'past_3_years_bike_related_purchases', 'job_industry_category',\n",
       "       'wealth_segment', 'deceased_indicator', 'owns_car', 'tenure', 'yyyy',\n",
       "       'AGE', 'Group', 'transaction_id', 'product_id', 'transaction_date',\n",
       "       'online_order', 'order_status', 'brand', 'product_line',\n",
       "       'product_class', 'product_size', 'list_price', 'standard_cost',\n",
       "       'product_first_sold_date', 'Profit', 'address', 'postcode', 'state',\n",
       "       'country', 'property_valuation'],\n",
       "      dtype='object')"
      ]
     },
     "execution_count": 110,
     "metadata": {},
     "output_type": "execute_result"
    }
   ],
   "source": [
    "# Checking the merged dataset:\n",
    "b.columns"
   ]
  },
  {
   "cell_type": "code",
   "execution_count": 111,
   "id": "4e5d421b",
   "metadata": {},
   "outputs": [
    {
     "data": {
      "text/html": [
       "<div>\n",
       "<style scoped>\n",
       "    .dataframe tbody tr th:only-of-type {\n",
       "        vertical-align: middle;\n",
       "    }\n",
       "\n",
       "    .dataframe tbody tr th {\n",
       "        vertical-align: top;\n",
       "    }\n",
       "\n",
       "    .dataframe thead th {\n",
       "        text-align: right;\n",
       "    }\n",
       "</style>\n",
       "<table border=\"1\" class=\"dataframe\">\n",
       "  <thead>\n",
       "    <tr style=\"text-align: right;\">\n",
       "      <th></th>\n",
       "      <th>customer_id</th>\n",
       "      <th>first_name</th>\n",
       "      <th>last_name</th>\n",
       "      <th>gender</th>\n",
       "      <th>past_3_years_bike_related_purchases</th>\n",
       "      <th>job_industry_category</th>\n",
       "      <th>wealth_segment</th>\n",
       "      <th>deceased_indicator</th>\n",
       "      <th>owns_car</th>\n",
       "      <th>tenure</th>\n",
       "      <th>...</th>\n",
       "      <th>product_size</th>\n",
       "      <th>list_price</th>\n",
       "      <th>standard_cost</th>\n",
       "      <th>product_first_sold_date</th>\n",
       "      <th>Profit</th>\n",
       "      <th>address</th>\n",
       "      <th>postcode</th>\n",
       "      <th>state</th>\n",
       "      <th>country</th>\n",
       "      <th>property_valuation</th>\n",
       "    </tr>\n",
       "  </thead>\n",
       "  <tbody>\n",
       "    <tr>\n",
       "      <th>0</th>\n",
       "      <td>1</td>\n",
       "      <td>Laraine</td>\n",
       "      <td>Medendorp</td>\n",
       "      <td>Female</td>\n",
       "      <td>93</td>\n",
       "      <td>Health</td>\n",
       "      <td>Mass Customer</td>\n",
       "      <td>N</td>\n",
       "      <td>Yes</td>\n",
       "      <td>11.0</td>\n",
       "      <td>...</td>\n",
       "      <td>medium</td>\n",
       "      <td>235.63</td>\n",
       "      <td>125.07</td>\n",
       "      <td>2005-05-10</td>\n",
       "      <td>110.56</td>\n",
       "      <td>060 Morning Avenue</td>\n",
       "      <td>2016</td>\n",
       "      <td>New South Wales</td>\n",
       "      <td>Australia</td>\n",
       "      <td>10</td>\n",
       "    </tr>\n",
       "    <tr>\n",
       "      <th>1</th>\n",
       "      <td>1</td>\n",
       "      <td>Laraine</td>\n",
       "      <td>Medendorp</td>\n",
       "      <td>Female</td>\n",
       "      <td>93</td>\n",
       "      <td>Health</td>\n",
       "      <td>Mass Customer</td>\n",
       "      <td>N</td>\n",
       "      <td>Yes</td>\n",
       "      <td>11.0</td>\n",
       "      <td>...</td>\n",
       "      <td>medium</td>\n",
       "      <td>1577.53</td>\n",
       "      <td>826.51</td>\n",
       "      <td>2008-03-19</td>\n",
       "      <td>751.02</td>\n",
       "      <td>060 Morning Avenue</td>\n",
       "      <td>2016</td>\n",
       "      <td>New South Wales</td>\n",
       "      <td>Australia</td>\n",
       "      <td>10</td>\n",
       "    </tr>\n",
       "    <tr>\n",
       "      <th>2</th>\n",
       "      <td>1</td>\n",
       "      <td>Laraine</td>\n",
       "      <td>Medendorp</td>\n",
       "      <td>Female</td>\n",
       "      <td>93</td>\n",
       "      <td>Health</td>\n",
       "      <td>Mass Customer</td>\n",
       "      <td>N</td>\n",
       "      <td>Yes</td>\n",
       "      <td>11.0</td>\n",
       "      <td>...</td>\n",
       "      <td>small</td>\n",
       "      <td>1720.70</td>\n",
       "      <td>1531.42</td>\n",
       "      <td>2003-07-21</td>\n",
       "      <td>189.28</td>\n",
       "      <td>060 Morning Avenue</td>\n",
       "      <td>2016</td>\n",
       "      <td>New South Wales</td>\n",
       "      <td>Australia</td>\n",
       "      <td>10</td>\n",
       "    </tr>\n",
       "    <tr>\n",
       "      <th>3</th>\n",
       "      <td>1</td>\n",
       "      <td>Laraine</td>\n",
       "      <td>Medendorp</td>\n",
       "      <td>Female</td>\n",
       "      <td>93</td>\n",
       "      <td>Health</td>\n",
       "      <td>Mass Customer</td>\n",
       "      <td>N</td>\n",
       "      <td>Yes</td>\n",
       "      <td>11.0</td>\n",
       "      <td>...</td>\n",
       "      <td>medium</td>\n",
       "      <td>360.40</td>\n",
       "      <td>270.30</td>\n",
       "      <td>2003-09-09</td>\n",
       "      <td>90.10</td>\n",
       "      <td>060 Morning Avenue</td>\n",
       "      <td>2016</td>\n",
       "      <td>New South Wales</td>\n",
       "      <td>Australia</td>\n",
       "      <td>10</td>\n",
       "    </tr>\n",
       "    <tr>\n",
       "      <th>4</th>\n",
       "      <td>1</td>\n",
       "      <td>Laraine</td>\n",
       "      <td>Medendorp</td>\n",
       "      <td>Female</td>\n",
       "      <td>93</td>\n",
       "      <td>Health</td>\n",
       "      <td>Mass Customer</td>\n",
       "      <td>N</td>\n",
       "      <td>Yes</td>\n",
       "      <td>11.0</td>\n",
       "      <td>...</td>\n",
       "      <td>medium</td>\n",
       "      <td>71.49</td>\n",
       "      <td>53.62</td>\n",
       "      <td>2005-08-09</td>\n",
       "      <td>17.87</td>\n",
       "      <td>060 Morning Avenue</td>\n",
       "      <td>2016</td>\n",
       "      <td>New South Wales</td>\n",
       "      <td>Australia</td>\n",
       "      <td>10</td>\n",
       "    </tr>\n",
       "  </tbody>\n",
       "</table>\n",
       "<p>5 rows × 31 columns</p>\n",
       "</div>"
      ],
      "text/plain": [
       "   customer_id first_name  last_name  gender  \\\n",
       "0            1    Laraine  Medendorp  Female   \n",
       "1            1    Laraine  Medendorp  Female   \n",
       "2            1    Laraine  Medendorp  Female   \n",
       "3            1    Laraine  Medendorp  Female   \n",
       "4            1    Laraine  Medendorp  Female   \n",
       "\n",
       "   past_3_years_bike_related_purchases job_industry_category wealth_segment  \\\n",
       "0                                   93                Health  Mass Customer   \n",
       "1                                   93                Health  Mass Customer   \n",
       "2                                   93                Health  Mass Customer   \n",
       "3                                   93                Health  Mass Customer   \n",
       "4                                   93                Health  Mass Customer   \n",
       "\n",
       "  deceased_indicator owns_car  tenure  ...  product_size  list_price  \\\n",
       "0                  N      Yes    11.0  ...        medium      235.63   \n",
       "1                  N      Yes    11.0  ...        medium     1577.53   \n",
       "2                  N      Yes    11.0  ...         small     1720.70   \n",
       "3                  N      Yes    11.0  ...        medium      360.40   \n",
       "4                  N      Yes    11.0  ...        medium       71.49   \n",
       "\n",
       "  standard_cost  product_first_sold_date  Profit             address  \\\n",
       "0        125.07               2005-05-10  110.56  060 Morning Avenue   \n",
       "1        826.51               2008-03-19  751.02  060 Morning Avenue   \n",
       "2       1531.42               2003-07-21  189.28  060 Morning Avenue   \n",
       "3        270.30               2003-09-09   90.10  060 Morning Avenue   \n",
       "4         53.62               2005-08-09   17.87  060 Morning Avenue   \n",
       "\n",
       "   postcode            state    country property_valuation  \n",
       "0      2016  New South Wales  Australia                 10  \n",
       "1      2016  New South Wales  Australia                 10  \n",
       "2      2016  New South Wales  Australia                 10  \n",
       "3      2016  New South Wales  Australia                 10  \n",
       "4      2016  New South Wales  Australia                 10  \n",
       "\n",
       "[5 rows x 31 columns]"
      ]
     },
     "execution_count": 111,
     "metadata": {},
     "output_type": "execute_result"
    }
   ],
   "source": [
    "b.head()"
   ]
  },
  {
   "cell_type": "code",
   "execution_count": null,
   "id": "fd431cbb",
   "metadata": {},
   "outputs": [],
   "source": []
  },
  {
   "cell_type": "code",
   "execution_count": null,
   "id": "47fec29e",
   "metadata": {},
   "outputs": [],
   "source": []
  },
  {
   "cell_type": "markdown",
   "id": "c09e64b4",
   "metadata": {},
   "source": [
    "## New Customer List "
   ]
  },
  {
   "cell_type": "code",
   "execution_count": 112,
   "id": "47ca8873",
   "metadata": {},
   "outputs": [],
   "source": [
    "# Transforming the Potential Customer dataset (New Customer List) for further analysis in Tableau"
   ]
  },
  {
   "cell_type": "code",
   "execution_count": 113,
   "id": "71eaf08d",
   "metadata": {},
   "outputs": [],
   "source": [
    "# Exploring the New Dataset: Potential Customers"
   ]
  },
  {
   "cell_type": "code",
   "execution_count": 114,
   "id": "837a110a",
   "metadata": {},
   "outputs": [
    {
     "data": {
      "text/html": [
       "<div>\n",
       "<style scoped>\n",
       "    .dataframe tbody tr th:only-of-type {\n",
       "        vertical-align: middle;\n",
       "    }\n",
       "\n",
       "    .dataframe tbody tr th {\n",
       "        vertical-align: top;\n",
       "    }\n",
       "\n",
       "    .dataframe thead th {\n",
       "        text-align: right;\n",
       "    }\n",
       "</style>\n",
       "<table border=\"1\" class=\"dataframe\">\n",
       "  <thead>\n",
       "    <tr style=\"text-align: right;\">\n",
       "      <th></th>\n",
       "      <th>first_name</th>\n",
       "      <th>last_name</th>\n",
       "      <th>gender</th>\n",
       "      <th>past_3_years_bike_related_purchases</th>\n",
       "      <th>DOB</th>\n",
       "      <th>job_title</th>\n",
       "      <th>job_industry_category</th>\n",
       "      <th>wealth_segment</th>\n",
       "      <th>deceased_indicator</th>\n",
       "      <th>owns_car</th>\n",
       "      <th>...</th>\n",
       "      <th>state</th>\n",
       "      <th>country</th>\n",
       "      <th>property_valuation</th>\n",
       "      <th>Unnamed: 16</th>\n",
       "      <th>Unnamed: 17</th>\n",
       "      <th>Unnamed: 18</th>\n",
       "      <th>Unnamed: 19</th>\n",
       "      <th>Unnamed: 20</th>\n",
       "      <th>Rank</th>\n",
       "      <th>Value</th>\n",
       "    </tr>\n",
       "  </thead>\n",
       "  <tbody>\n",
       "    <tr>\n",
       "      <th>0</th>\n",
       "      <td>Chickie</td>\n",
       "      <td>Brister</td>\n",
       "      <td>Male</td>\n",
       "      <td>86</td>\n",
       "      <td>1957-07-12</td>\n",
       "      <td>General Manager</td>\n",
       "      <td>Manufacturing</td>\n",
       "      <td>Mass Customer</td>\n",
       "      <td>N</td>\n",
       "      <td>Yes</td>\n",
       "      <td>...</td>\n",
       "      <td>QLD</td>\n",
       "      <td>Australia</td>\n",
       "      <td>6</td>\n",
       "      <td>0.56</td>\n",
       "      <td>0.7000</td>\n",
       "      <td>0.8750</td>\n",
       "      <td>0.743750</td>\n",
       "      <td>1</td>\n",
       "      <td>1</td>\n",
       "      <td>1.718750</td>\n",
       "    </tr>\n",
       "    <tr>\n",
       "      <th>1</th>\n",
       "      <td>Morly</td>\n",
       "      <td>Genery</td>\n",
       "      <td>Male</td>\n",
       "      <td>69</td>\n",
       "      <td>1970-03-22</td>\n",
       "      <td>Structural Engineer</td>\n",
       "      <td>Property</td>\n",
       "      <td>Mass Customer</td>\n",
       "      <td>N</td>\n",
       "      <td>No</td>\n",
       "      <td>...</td>\n",
       "      <td>NSW</td>\n",
       "      <td>Australia</td>\n",
       "      <td>11</td>\n",
       "      <td>0.89</td>\n",
       "      <td>0.8900</td>\n",
       "      <td>1.1125</td>\n",
       "      <td>0.945625</td>\n",
       "      <td>1</td>\n",
       "      <td>1</td>\n",
       "      <td>1.718750</td>\n",
       "    </tr>\n",
       "    <tr>\n",
       "      <th>2</th>\n",
       "      <td>Ardelis</td>\n",
       "      <td>Forrester</td>\n",
       "      <td>Female</td>\n",
       "      <td>10</td>\n",
       "      <td>1974-08-28 00:00:00</td>\n",
       "      <td>Senior Cost Accountant</td>\n",
       "      <td>Financial Services</td>\n",
       "      <td>Affluent Customer</td>\n",
       "      <td>N</td>\n",
       "      <td>No</td>\n",
       "      <td>...</td>\n",
       "      <td>VIC</td>\n",
       "      <td>Australia</td>\n",
       "      <td>5</td>\n",
       "      <td>1.01</td>\n",
       "      <td>1.0100</td>\n",
       "      <td>1.0100</td>\n",
       "      <td>1.010000</td>\n",
       "      <td>1</td>\n",
       "      <td>1</td>\n",
       "      <td>1.718750</td>\n",
       "    </tr>\n",
       "    <tr>\n",
       "      <th>3</th>\n",
       "      <td>Lucine</td>\n",
       "      <td>Stutt</td>\n",
       "      <td>Female</td>\n",
       "      <td>64</td>\n",
       "      <td>1979-01-28</td>\n",
       "      <td>Account Representative III</td>\n",
       "      <td>Manufacturing</td>\n",
       "      <td>Affluent Customer</td>\n",
       "      <td>N</td>\n",
       "      <td>Yes</td>\n",
       "      <td>...</td>\n",
       "      <td>QLD</td>\n",
       "      <td>Australia</td>\n",
       "      <td>1</td>\n",
       "      <td>0.87</td>\n",
       "      <td>1.0875</td>\n",
       "      <td>1.0875</td>\n",
       "      <td>1.087500</td>\n",
       "      <td>4</td>\n",
       "      <td>4</td>\n",
       "      <td>1.703125</td>\n",
       "    </tr>\n",
       "    <tr>\n",
       "      <th>4</th>\n",
       "      <td>Melinda</td>\n",
       "      <td>Hadlee</td>\n",
       "      <td>Female</td>\n",
       "      <td>34</td>\n",
       "      <td>1965-09-21</td>\n",
       "      <td>Financial Analyst</td>\n",
       "      <td>Financial Services</td>\n",
       "      <td>Affluent Customer</td>\n",
       "      <td>N</td>\n",
       "      <td>No</td>\n",
       "      <td>...</td>\n",
       "      <td>NSW</td>\n",
       "      <td>Australia</td>\n",
       "      <td>9</td>\n",
       "      <td>0.52</td>\n",
       "      <td>0.5200</td>\n",
       "      <td>0.6500</td>\n",
       "      <td>0.650000</td>\n",
       "      <td>4</td>\n",
       "      <td>4</td>\n",
       "      <td>1.703125</td>\n",
       "    </tr>\n",
       "  </tbody>\n",
       "</table>\n",
       "<p>5 rows × 23 columns</p>\n",
       "</div>"
      ],
      "text/plain": [
       "  first_name  last_name  gender  past_3_years_bike_related_purchases  \\\n",
       "0    Chickie    Brister    Male                                   86   \n",
       "1      Morly     Genery    Male                                   69   \n",
       "2    Ardelis  Forrester  Female                                   10   \n",
       "3     Lucine      Stutt  Female                                   64   \n",
       "4    Melinda     Hadlee  Female                                   34   \n",
       "\n",
       "                   DOB                   job_title job_industry_category  \\\n",
       "0           1957-07-12             General Manager         Manufacturing   \n",
       "1           1970-03-22         Structural Engineer              Property   \n",
       "2  1974-08-28 00:00:00      Senior Cost Accountant    Financial Services   \n",
       "3           1979-01-28  Account Representative III         Manufacturing   \n",
       "4           1965-09-21           Financial Analyst    Financial Services   \n",
       "\n",
       "      wealth_segment deceased_indicator owns_car  ...  state    country  \\\n",
       "0      Mass Customer                  N      Yes  ...    QLD  Australia   \n",
       "1      Mass Customer                  N       No  ...    NSW  Australia   \n",
       "2  Affluent Customer                  N       No  ...    VIC  Australia   \n",
       "3  Affluent Customer                  N      Yes  ...    QLD  Australia   \n",
       "4  Affluent Customer                  N       No  ...    NSW  Australia   \n",
       "\n",
       "   property_valuation Unnamed: 16 Unnamed: 17  Unnamed: 18  Unnamed: 19  \\\n",
       "0                   6        0.56      0.7000       0.8750     0.743750   \n",
       "1                  11        0.89      0.8900       1.1125     0.945625   \n",
       "2                   5        1.01      1.0100       1.0100     1.010000   \n",
       "3                   1        0.87      1.0875       1.0875     1.087500   \n",
       "4                   9        0.52      0.5200       0.6500     0.650000   \n",
       "\n",
       "   Unnamed: 20  Rank     Value  \n",
       "0            1     1  1.718750  \n",
       "1            1     1  1.718750  \n",
       "2            1     1  1.718750  \n",
       "3            4     4  1.703125  \n",
       "4            4     4  1.703125  \n",
       "\n",
       "[5 rows x 23 columns]"
      ]
     },
     "execution_count": 114,
     "metadata": {},
     "output_type": "execute_result"
    }
   ],
   "source": [
    "NewCustomerlist.head()"
   ]
  },
  {
   "cell_type": "code",
   "execution_count": 115,
   "id": "ef795fcb",
   "metadata": {},
   "outputs": [
    {
     "data": {
      "text/html": [
       "<div>\n",
       "<style scoped>\n",
       "    .dataframe tbody tr th:only-of-type {\n",
       "        vertical-align: middle;\n",
       "    }\n",
       "\n",
       "    .dataframe tbody tr th {\n",
       "        vertical-align: top;\n",
       "    }\n",
       "\n",
       "    .dataframe thead th {\n",
       "        text-align: right;\n",
       "    }\n",
       "</style>\n",
       "<table border=\"1\" class=\"dataframe\">\n",
       "  <thead>\n",
       "    <tr style=\"text-align: right;\">\n",
       "      <th></th>\n",
       "      <th>past_3_years_bike_related_purchases</th>\n",
       "      <th>tenure</th>\n",
       "      <th>postcode</th>\n",
       "      <th>property_valuation</th>\n",
       "      <th>Unnamed: 16</th>\n",
       "      <th>Unnamed: 17</th>\n",
       "      <th>Unnamed: 18</th>\n",
       "      <th>Unnamed: 19</th>\n",
       "      <th>Unnamed: 20</th>\n",
       "      <th>Rank</th>\n",
       "      <th>Value</th>\n",
       "    </tr>\n",
       "  </thead>\n",
       "  <tbody>\n",
       "    <tr>\n",
       "      <th>count</th>\n",
       "      <td>1000.000000</td>\n",
       "      <td>1000.000000</td>\n",
       "      <td>1000.000000</td>\n",
       "      <td>1000.000000</td>\n",
       "      <td>1000.000000</td>\n",
       "      <td>1000.000000</td>\n",
       "      <td>1000.000000</td>\n",
       "      <td>1000.000000</td>\n",
       "      <td>1000.000000</td>\n",
       "      <td>1000.000000</td>\n",
       "      <td>1000.000000</td>\n",
       "    </tr>\n",
       "    <tr>\n",
       "      <th>mean</th>\n",
       "      <td>49.836000</td>\n",
       "      <td>11.388000</td>\n",
       "      <td>3019.227000</td>\n",
       "      <td>7.397000</td>\n",
       "      <td>0.747340</td>\n",
       "      <td>0.839005</td>\n",
       "      <td>0.942673</td>\n",
       "      <td>0.870514</td>\n",
       "      <td>498.819000</td>\n",
       "      <td>498.819000</td>\n",
       "      <td>0.881714</td>\n",
       "    </tr>\n",
       "    <tr>\n",
       "      <th>std</th>\n",
       "      <td>27.796686</td>\n",
       "      <td>5.037145</td>\n",
       "      <td>848.895767</td>\n",
       "      <td>2.758804</td>\n",
       "      <td>0.205082</td>\n",
       "      <td>0.248858</td>\n",
       "      <td>0.294832</td>\n",
       "      <td>0.280891</td>\n",
       "      <td>288.810997</td>\n",
       "      <td>288.810997</td>\n",
       "      <td>0.293525</td>\n",
       "    </tr>\n",
       "    <tr>\n",
       "      <th>min</th>\n",
       "      <td>0.000000</td>\n",
       "      <td>0.000000</td>\n",
       "      <td>2000.000000</td>\n",
       "      <td>1.000000</td>\n",
       "      <td>0.400000</td>\n",
       "      <td>0.400000</td>\n",
       "      <td>0.400000</td>\n",
       "      <td>0.340000</td>\n",
       "      <td>1.000000</td>\n",
       "      <td>1.000000</td>\n",
       "      <td>0.340000</td>\n",
       "    </tr>\n",
       "    <tr>\n",
       "      <th>25%</th>\n",
       "      <td>26.750000</td>\n",
       "      <td>7.000000</td>\n",
       "      <td>2209.000000</td>\n",
       "      <td>6.000000</td>\n",
       "      <td>0.570000</td>\n",
       "      <td>0.637500</td>\n",
       "      <td>0.712500</td>\n",
       "      <td>0.658750</td>\n",
       "      <td>250.000000</td>\n",
       "      <td>250.000000</td>\n",
       "      <td>0.649531</td>\n",
       "    </tr>\n",
       "    <tr>\n",
       "      <th>50%</th>\n",
       "      <td>51.000000</td>\n",
       "      <td>11.000000</td>\n",
       "      <td>2800.000000</td>\n",
       "      <td>8.000000</td>\n",
       "      <td>0.750000</td>\n",
       "      <td>0.820000</td>\n",
       "      <td>0.912500</td>\n",
       "      <td>0.842625</td>\n",
       "      <td>500.000000</td>\n",
       "      <td>500.000000</td>\n",
       "      <td>0.860000</td>\n",
       "    </tr>\n",
       "    <tr>\n",
       "      <th>75%</th>\n",
       "      <td>72.000000</td>\n",
       "      <td>15.000000</td>\n",
       "      <td>3845.500000</td>\n",
       "      <td>9.000000</td>\n",
       "      <td>0.920000</td>\n",
       "      <td>1.031875</td>\n",
       "      <td>1.142969</td>\n",
       "      <td>1.062500</td>\n",
       "      <td>750.250000</td>\n",
       "      <td>750.250000</td>\n",
       "      <td>1.075000</td>\n",
       "    </tr>\n",
       "    <tr>\n",
       "      <th>max</th>\n",
       "      <td>99.000000</td>\n",
       "      <td>22.000000</td>\n",
       "      <td>4879.000000</td>\n",
       "      <td>12.000000</td>\n",
       "      <td>1.100000</td>\n",
       "      <td>1.375000</td>\n",
       "      <td>1.718750</td>\n",
       "      <td>1.718750</td>\n",
       "      <td>1000.000000</td>\n",
       "      <td>1000.000000</td>\n",
       "      <td>1.718750</td>\n",
       "    </tr>\n",
       "  </tbody>\n",
       "</table>\n",
       "</div>"
      ],
      "text/plain": [
       "       past_3_years_bike_related_purchases       tenure     postcode  \\\n",
       "count                          1000.000000  1000.000000  1000.000000   \n",
       "mean                             49.836000    11.388000  3019.227000   \n",
       "std                              27.796686     5.037145   848.895767   \n",
       "min                               0.000000     0.000000  2000.000000   \n",
       "25%                              26.750000     7.000000  2209.000000   \n",
       "50%                              51.000000    11.000000  2800.000000   \n",
       "75%                              72.000000    15.000000  3845.500000   \n",
       "max                              99.000000    22.000000  4879.000000   \n",
       "\n",
       "       property_valuation  Unnamed: 16  Unnamed: 17  Unnamed: 18  Unnamed: 19  \\\n",
       "count         1000.000000  1000.000000  1000.000000  1000.000000  1000.000000   \n",
       "mean             7.397000     0.747340     0.839005     0.942673     0.870514   \n",
       "std              2.758804     0.205082     0.248858     0.294832     0.280891   \n",
       "min              1.000000     0.400000     0.400000     0.400000     0.340000   \n",
       "25%              6.000000     0.570000     0.637500     0.712500     0.658750   \n",
       "50%              8.000000     0.750000     0.820000     0.912500     0.842625   \n",
       "75%              9.000000     0.920000     1.031875     1.142969     1.062500   \n",
       "max             12.000000     1.100000     1.375000     1.718750     1.718750   \n",
       "\n",
       "       Unnamed: 20         Rank        Value  \n",
       "count  1000.000000  1000.000000  1000.000000  \n",
       "mean    498.819000   498.819000     0.881714  \n",
       "std     288.810997   288.810997     0.293525  \n",
       "min       1.000000     1.000000     0.340000  \n",
       "25%     250.000000   250.000000     0.649531  \n",
       "50%     500.000000   500.000000     0.860000  \n",
       "75%     750.250000   750.250000     1.075000  \n",
       "max    1000.000000  1000.000000     1.718750  "
      ]
     },
     "execution_count": 115,
     "metadata": {},
     "output_type": "execute_result"
    }
   ],
   "source": [
    "# Summary Statistic\n",
    "NewCustomerlist.describe()"
   ]
  },
  {
   "cell_type": "code",
   "execution_count": 116,
   "id": "2198632d",
   "metadata": {},
   "outputs": [
    {
     "name": "stdout",
     "output_type": "stream",
     "text": [
      "<class 'pandas.core.frame.DataFrame'>\n",
      "RangeIndex: 1000 entries, 0 to 999\n",
      "Data columns (total 23 columns):\n",
      " #   Column                               Non-Null Count  Dtype  \n",
      "---  ------                               --------------  -----  \n",
      " 0   first_name                           1000 non-null   object \n",
      " 1   last_name                            971 non-null    object \n",
      " 2   gender                               1000 non-null   object \n",
      " 3   past_3_years_bike_related_purchases  1000 non-null   int64  \n",
      " 4   DOB                                  983 non-null    object \n",
      " 5   job_title                            894 non-null    object \n",
      " 6   job_industry_category                835 non-null    object \n",
      " 7   wealth_segment                       1000 non-null   object \n",
      " 8   deceased_indicator                   1000 non-null   object \n",
      " 9   owns_car                             1000 non-null   object \n",
      " 10  tenure                               1000 non-null   int64  \n",
      " 11  address                              1000 non-null   object \n",
      " 12  postcode                             1000 non-null   int64  \n",
      " 13  state                                1000 non-null   object \n",
      " 14  country                              1000 non-null   object \n",
      " 15  property_valuation                   1000 non-null   int64  \n",
      " 16  Unnamed: 16                          1000 non-null   float64\n",
      " 17  Unnamed: 17                          1000 non-null   float64\n",
      " 18  Unnamed: 18                          1000 non-null   float64\n",
      " 19  Unnamed: 19                          1000 non-null   float64\n",
      " 20  Unnamed: 20                          1000 non-null   int64  \n",
      " 21  Rank                                 1000 non-null   int64  \n",
      " 22  Value                                1000 non-null   float64\n",
      "dtypes: float64(5), int64(6), object(12)\n",
      "memory usage: 179.8+ KB\n"
     ]
    }
   ],
   "source": [
    "# Checking data type\n",
    "NewCustomerlist.info()"
   ]
  },
  {
   "cell_type": "code",
   "execution_count": 117,
   "id": "36e7837b",
   "metadata": {},
   "outputs": [
    {
     "data": {
      "text/plain": [
       "Index(['first_name', 'last_name', 'gender',\n",
       "       'past_3_years_bike_related_purchases', 'DOB', 'job_title',\n",
       "       'job_industry_category', 'wealth_segment', 'deceased_indicator',\n",
       "       'owns_car', 'tenure', 'address', 'postcode', 'state', 'country',\n",
       "       'property_valuation', 'Unnamed: 16', 'Unnamed: 17', 'Unnamed: 18',\n",
       "       'Unnamed: 19', 'Unnamed: 20', 'Rank', 'Value'],\n",
       "      dtype='object')"
      ]
     },
     "execution_count": 117,
     "metadata": {},
     "output_type": "execute_result"
    }
   ],
   "source": [
    "# Checking Columns:\n",
    "NewCustomerlist.columns"
   ]
  },
  {
   "cell_type": "code",
   "execution_count": 118,
   "id": "6365dd99",
   "metadata": {},
   "outputs": [],
   "source": [
    "# Dropping unnamed columns\n",
    "NewCustomerlist.drop(NewCustomerlist.iloc[:,16:21],axis=1,inplace = True)"
   ]
  },
  {
   "cell_type": "code",
   "execution_count": 119,
   "id": "c6457411",
   "metadata": {},
   "outputs": [
    {
     "data": {
      "text/plain": [
       "first_name                               0\n",
       "last_name                               29\n",
       "gender                                   0\n",
       "past_3_years_bike_related_purchases      0\n",
       "DOB                                     17\n",
       "job_title                              106\n",
       "job_industry_category                  165\n",
       "wealth_segment                           0\n",
       "deceased_indicator                       0\n",
       "owns_car                                 0\n",
       "tenure                                   0\n",
       "address                                  0\n",
       "postcode                                 0\n",
       "state                                    0\n",
       "country                                  0\n",
       "property_valuation                       0\n",
       "Rank                                     0\n",
       "Value                                    0\n",
       "dtype: int64"
      ]
     },
     "execution_count": 119,
     "metadata": {},
     "output_type": "execute_result"
    }
   ],
   "source": [
    "# Checking the null values\n",
    "NewCustomerlist.isnull().sum()"
   ]
  },
  {
   "cell_type": "code",
   "execution_count": 120,
   "id": "1c2a9e31",
   "metadata": {},
   "outputs": [
    {
     "data": {
      "text/html": [
       "<div>\n",
       "<style scoped>\n",
       "    .dataframe tbody tr th:only-of-type {\n",
       "        vertical-align: middle;\n",
       "    }\n",
       "\n",
       "    .dataframe tbody tr th {\n",
       "        vertical-align: top;\n",
       "    }\n",
       "\n",
       "    .dataframe thead th {\n",
       "        text-align: right;\n",
       "    }\n",
       "</style>\n",
       "<table border=\"1\" class=\"dataframe\">\n",
       "  <thead>\n",
       "    <tr style=\"text-align: right;\">\n",
       "      <th></th>\n",
       "      <th>first_name</th>\n",
       "      <th>last_name</th>\n",
       "      <th>gender</th>\n",
       "      <th>past_3_years_bike_related_purchases</th>\n",
       "      <th>DOB</th>\n",
       "      <th>job_title</th>\n",
       "      <th>job_industry_category</th>\n",
       "      <th>wealth_segment</th>\n",
       "      <th>deceased_indicator</th>\n",
       "      <th>owns_car</th>\n",
       "      <th>tenure</th>\n",
       "      <th>address</th>\n",
       "      <th>postcode</th>\n",
       "      <th>state</th>\n",
       "      <th>country</th>\n",
       "      <th>property_valuation</th>\n",
       "      <th>Rank</th>\n",
       "      <th>Value</th>\n",
       "    </tr>\n",
       "  </thead>\n",
       "  <tbody>\n",
       "    <tr>\n",
       "      <th>59</th>\n",
       "      <td>Normy</td>\n",
       "      <td>Goodinge</td>\n",
       "      <td>U</td>\n",
       "      <td>5</td>\n",
       "      <td>NaN</td>\n",
       "      <td>Associate Professor</td>\n",
       "      <td>IT</td>\n",
       "      <td>Mass Customer</td>\n",
       "      <td>N</td>\n",
       "      <td>No</td>\n",
       "      <td>4</td>\n",
       "      <td>7232 Fulton Parkway</td>\n",
       "      <td>3810</td>\n",
       "      <td>VIC</td>\n",
       "      <td>Australia</td>\n",
       "      <td>5</td>\n",
       "      <td>57</td>\n",
       "      <td>1.375000</td>\n",
       "    </tr>\n",
       "    <tr>\n",
       "      <th>226</th>\n",
       "      <td>Hatti</td>\n",
       "      <td>Carletti</td>\n",
       "      <td>U</td>\n",
       "      <td>35</td>\n",
       "      <td>NaN</td>\n",
       "      <td>Legal Assistant</td>\n",
       "      <td>IT</td>\n",
       "      <td>Affluent Customer</td>\n",
       "      <td>N</td>\n",
       "      <td>Yes</td>\n",
       "      <td>11</td>\n",
       "      <td>6 Iowa Center</td>\n",
       "      <td>2519</td>\n",
       "      <td>NSW</td>\n",
       "      <td>Australia</td>\n",
       "      <td>9</td>\n",
       "      <td>226</td>\n",
       "      <td>1.112500</td>\n",
       "    </tr>\n",
       "    <tr>\n",
       "      <th>324</th>\n",
       "      <td>Rozamond</td>\n",
       "      <td>Turtle</td>\n",
       "      <td>U</td>\n",
       "      <td>69</td>\n",
       "      <td>NaN</td>\n",
       "      <td>Legal Assistant</td>\n",
       "      <td>IT</td>\n",
       "      <td>Mass Customer</td>\n",
       "      <td>N</td>\n",
       "      <td>Yes</td>\n",
       "      <td>3</td>\n",
       "      <td>57025 New Castle Street</td>\n",
       "      <td>3850</td>\n",
       "      <td>VIC</td>\n",
       "      <td>Australia</td>\n",
       "      <td>3</td>\n",
       "      <td>324</td>\n",
       "      <td>1.010000</td>\n",
       "    </tr>\n",
       "    <tr>\n",
       "      <th>358</th>\n",
       "      <td>Tamas</td>\n",
       "      <td>Swatman</td>\n",
       "      <td>U</td>\n",
       "      <td>65</td>\n",
       "      <td>NaN</td>\n",
       "      <td>Assistant Media Planner</td>\n",
       "      <td>Entertainment</td>\n",
       "      <td>Affluent Customer</td>\n",
       "      <td>N</td>\n",
       "      <td>No</td>\n",
       "      <td>5</td>\n",
       "      <td>78 Clarendon Drive</td>\n",
       "      <td>4551</td>\n",
       "      <td>QLD</td>\n",
       "      <td>Australia</td>\n",
       "      <td>8</td>\n",
       "      <td>358</td>\n",
       "      <td>0.980000</td>\n",
       "    </tr>\n",
       "    <tr>\n",
       "      <th>360</th>\n",
       "      <td>Tracy</td>\n",
       "      <td>Andrejevic</td>\n",
       "      <td>U</td>\n",
       "      <td>71</td>\n",
       "      <td>NaN</td>\n",
       "      <td>Programmer II</td>\n",
       "      <td>IT</td>\n",
       "      <td>Mass Customer</td>\n",
       "      <td>N</td>\n",
       "      <td>Yes</td>\n",
       "      <td>11</td>\n",
       "      <td>5675 Burning Wood Trail</td>\n",
       "      <td>3030</td>\n",
       "      <td>VIC</td>\n",
       "      <td>Australia</td>\n",
       "      <td>7</td>\n",
       "      <td>361</td>\n",
       "      <td>0.977500</td>\n",
       "    </tr>\n",
       "    <tr>\n",
       "      <th>374</th>\n",
       "      <td>Agneta</td>\n",
       "      <td>McAmish</td>\n",
       "      <td>U</td>\n",
       "      <td>66</td>\n",
       "      <td>NaN</td>\n",
       "      <td>Structural Analysis Engineer</td>\n",
       "      <td>IT</td>\n",
       "      <td>Mass Customer</td>\n",
       "      <td>N</td>\n",
       "      <td>No</td>\n",
       "      <td>15</td>\n",
       "      <td>5773 Acker Way</td>\n",
       "      <td>4207</td>\n",
       "      <td>QLD</td>\n",
       "      <td>Australia</td>\n",
       "      <td>6</td>\n",
       "      <td>375</td>\n",
       "      <td>0.960000</td>\n",
       "    </tr>\n",
       "    <tr>\n",
       "      <th>434</th>\n",
       "      <td>Gregg</td>\n",
       "      <td>Aimeric</td>\n",
       "      <td>U</td>\n",
       "      <td>52</td>\n",
       "      <td>NaN</td>\n",
       "      <td>Internal Auditor</td>\n",
       "      <td>IT</td>\n",
       "      <td>Mass Customer</td>\n",
       "      <td>N</td>\n",
       "      <td>No</td>\n",
       "      <td>7</td>\n",
       "      <td>72423 Surrey Street</td>\n",
       "      <td>3753</td>\n",
       "      <td>VIC</td>\n",
       "      <td>Australia</td>\n",
       "      <td>5</td>\n",
       "      <td>433</td>\n",
       "      <td>0.906250</td>\n",
       "    </tr>\n",
       "    <tr>\n",
       "      <th>439</th>\n",
       "      <td>Johna</td>\n",
       "      <td>Bunker</td>\n",
       "      <td>U</td>\n",
       "      <td>93</td>\n",
       "      <td>NaN</td>\n",
       "      <td>Tax Accountant</td>\n",
       "      <td>IT</td>\n",
       "      <td>Mass Customer</td>\n",
       "      <td>N</td>\n",
       "      <td>Yes</td>\n",
       "      <td>14</td>\n",
       "      <td>3686 Waubesa Way</td>\n",
       "      <td>3065</td>\n",
       "      <td>VIC</td>\n",
       "      <td>Australia</td>\n",
       "      <td>6</td>\n",
       "      <td>436</td>\n",
       "      <td>0.903125</td>\n",
       "    </tr>\n",
       "    <tr>\n",
       "      <th>574</th>\n",
       "      <td>Harlene</td>\n",
       "      <td>Nono</td>\n",
       "      <td>U</td>\n",
       "      <td>69</td>\n",
       "      <td>NaN</td>\n",
       "      <td>Human Resources Manager</td>\n",
       "      <td>IT</td>\n",
       "      <td>Mass Customer</td>\n",
       "      <td>N</td>\n",
       "      <td>No</td>\n",
       "      <td>12</td>\n",
       "      <td>0307 Namekagon Crossing</td>\n",
       "      <td>2170</td>\n",
       "      <td>NSW</td>\n",
       "      <td>Australia</td>\n",
       "      <td>7</td>\n",
       "      <td>575</td>\n",
       "      <td>0.796875</td>\n",
       "    </tr>\n",
       "    <tr>\n",
       "      <th>598</th>\n",
       "      <td>Gerianne</td>\n",
       "      <td>Kaysor</td>\n",
       "      <td>U</td>\n",
       "      <td>15</td>\n",
       "      <td>NaN</td>\n",
       "      <td>Project Manager</td>\n",
       "      <td>IT</td>\n",
       "      <td>Affluent Customer</td>\n",
       "      <td>N</td>\n",
       "      <td>No</td>\n",
       "      <td>5</td>\n",
       "      <td>882 Toban Lane</td>\n",
       "      <td>2121</td>\n",
       "      <td>NSW</td>\n",
       "      <td>Australia</td>\n",
       "      <td>11</td>\n",
       "      <td>599</td>\n",
       "      <td>0.775000</td>\n",
       "    </tr>\n",
       "    <tr>\n",
       "      <th>664</th>\n",
       "      <td>Chicky</td>\n",
       "      <td>Sinclar</td>\n",
       "      <td>U</td>\n",
       "      <td>43</td>\n",
       "      <td>NaN</td>\n",
       "      <td>Operator</td>\n",
       "      <td>IT</td>\n",
       "      <td>High Net Worth</td>\n",
       "      <td>N</td>\n",
       "      <td>Yes</td>\n",
       "      <td>0</td>\n",
       "      <td>5 Red Cloud Place</td>\n",
       "      <td>3222</td>\n",
       "      <td>VIC</td>\n",
       "      <td>Australia</td>\n",
       "      <td>4</td>\n",
       "      <td>662</td>\n",
       "      <td>0.711875</td>\n",
       "    </tr>\n",
       "    <tr>\n",
       "      <th>751</th>\n",
       "      <td>Adriana</td>\n",
       "      <td>Saundercock</td>\n",
       "      <td>U</td>\n",
       "      <td>20</td>\n",
       "      <td>NaN</td>\n",
       "      <td>Nurse</td>\n",
       "      <td>IT</td>\n",
       "      <td>High Net Worth</td>\n",
       "      <td>N</td>\n",
       "      <td>Yes</td>\n",
       "      <td>14</td>\n",
       "      <td>82 Gina Junction</td>\n",
       "      <td>3806</td>\n",
       "      <td>VIC</td>\n",
       "      <td>Australia</td>\n",
       "      <td>7</td>\n",
       "      <td>751</td>\n",
       "      <td>0.648125</td>\n",
       "    </tr>\n",
       "    <tr>\n",
       "      <th>775</th>\n",
       "      <td>Dmitri</td>\n",
       "      <td>Viant</td>\n",
       "      <td>U</td>\n",
       "      <td>62</td>\n",
       "      <td>NaN</td>\n",
       "      <td>Paralegal</td>\n",
       "      <td>Financial Services</td>\n",
       "      <td>Affluent Customer</td>\n",
       "      <td>N</td>\n",
       "      <td>No</td>\n",
       "      <td>5</td>\n",
       "      <td>95960 Warner Parkway</td>\n",
       "      <td>3842</td>\n",
       "      <td>VIC</td>\n",
       "      <td>Australia</td>\n",
       "      <td>1</td>\n",
       "      <td>774</td>\n",
       "      <td>0.626875</td>\n",
       "    </tr>\n",
       "    <tr>\n",
       "      <th>835</th>\n",
       "      <td>Porty</td>\n",
       "      <td>Hansed</td>\n",
       "      <td>U</td>\n",
       "      <td>88</td>\n",
       "      <td>NaN</td>\n",
       "      <td>General Manager</td>\n",
       "      <td>IT</td>\n",
       "      <td>Mass Customer</td>\n",
       "      <td>N</td>\n",
       "      <td>No</td>\n",
       "      <td>13</td>\n",
       "      <td>768 Southridge Drive</td>\n",
       "      <td>2112</td>\n",
       "      <td>NSW</td>\n",
       "      <td>Australia</td>\n",
       "      <td>11</td>\n",
       "      <td>832</td>\n",
       "      <td>0.575000</td>\n",
       "    </tr>\n",
       "    <tr>\n",
       "      <th>883</th>\n",
       "      <td>Shara</td>\n",
       "      <td>Bramhill</td>\n",
       "      <td>U</td>\n",
       "      <td>24</td>\n",
       "      <td>NaN</td>\n",
       "      <td>NaN</td>\n",
       "      <td>IT</td>\n",
       "      <td>Affluent Customer</td>\n",
       "      <td>N</td>\n",
       "      <td>No</td>\n",
       "      <td>2</td>\n",
       "      <td>01 Bunker Hill Drive</td>\n",
       "      <td>2230</td>\n",
       "      <td>NSW</td>\n",
       "      <td>Australia</td>\n",
       "      <td>10</td>\n",
       "      <td>883</td>\n",
       "      <td>0.531250</td>\n",
       "    </tr>\n",
       "    <tr>\n",
       "      <th>904</th>\n",
       "      <td>Roth</td>\n",
       "      <td>Crum</td>\n",
       "      <td>U</td>\n",
       "      <td>0</td>\n",
       "      <td>NaN</td>\n",
       "      <td>Legal Assistant</td>\n",
       "      <td>IT</td>\n",
       "      <td>Mass Customer</td>\n",
       "      <td>N</td>\n",
       "      <td>No</td>\n",
       "      <td>2</td>\n",
       "      <td>276 Anthes Court</td>\n",
       "      <td>2450</td>\n",
       "      <td>NSW</td>\n",
       "      <td>Australia</td>\n",
       "      <td>6</td>\n",
       "      <td>904</td>\n",
       "      <td>0.500000</td>\n",
       "    </tr>\n",
       "    <tr>\n",
       "      <th>984</th>\n",
       "      <td>Pauline</td>\n",
       "      <td>Dallosso</td>\n",
       "      <td>U</td>\n",
       "      <td>82</td>\n",
       "      <td>NaN</td>\n",
       "      <td>Desktop Support Technician</td>\n",
       "      <td>IT</td>\n",
       "      <td>Affluent Customer</td>\n",
       "      <td>N</td>\n",
       "      <td>Yes</td>\n",
       "      <td>0</td>\n",
       "      <td>9594 Badeau Street</td>\n",
       "      <td>2050</td>\n",
       "      <td>NSW</td>\n",
       "      <td>Australia</td>\n",
       "      <td>10</td>\n",
       "      <td>985</td>\n",
       "      <td>0.408000</td>\n",
       "    </tr>\n",
       "  </tbody>\n",
       "</table>\n",
       "</div>"
      ],
      "text/plain": [
       "    first_name    last_name gender  past_3_years_bike_related_purchases  DOB  \\\n",
       "59       Normy     Goodinge      U                                    5  NaN   \n",
       "226      Hatti     Carletti      U                                   35  NaN   \n",
       "324   Rozamond       Turtle      U                                   69  NaN   \n",
       "358      Tamas      Swatman      U                                   65  NaN   \n",
       "360      Tracy   Andrejevic      U                                   71  NaN   \n",
       "374     Agneta      McAmish      U                                   66  NaN   \n",
       "434      Gregg      Aimeric      U                                   52  NaN   \n",
       "439      Johna       Bunker      U                                   93  NaN   \n",
       "574    Harlene         Nono      U                                   69  NaN   \n",
       "598   Gerianne       Kaysor      U                                   15  NaN   \n",
       "664     Chicky      Sinclar      U                                   43  NaN   \n",
       "751    Adriana  Saundercock      U                                   20  NaN   \n",
       "775     Dmitri        Viant      U                                   62  NaN   \n",
       "835      Porty       Hansed      U                                   88  NaN   \n",
       "883      Shara     Bramhill      U                                   24  NaN   \n",
       "904       Roth         Crum      U                                    0  NaN   \n",
       "984    Pauline     Dallosso      U                                   82  NaN   \n",
       "\n",
       "                        job_title job_industry_category     wealth_segment  \\\n",
       "59            Associate Professor                    IT      Mass Customer   \n",
       "226               Legal Assistant                    IT  Affluent Customer   \n",
       "324               Legal Assistant                    IT      Mass Customer   \n",
       "358       Assistant Media Planner         Entertainment  Affluent Customer   \n",
       "360                 Programmer II                    IT      Mass Customer   \n",
       "374  Structural Analysis Engineer                    IT      Mass Customer   \n",
       "434              Internal Auditor                    IT      Mass Customer   \n",
       "439                Tax Accountant                    IT      Mass Customer   \n",
       "574       Human Resources Manager                    IT      Mass Customer   \n",
       "598               Project Manager                    IT  Affluent Customer   \n",
       "664                      Operator                    IT     High Net Worth   \n",
       "751                         Nurse                    IT     High Net Worth   \n",
       "775                     Paralegal    Financial Services  Affluent Customer   \n",
       "835               General Manager                    IT      Mass Customer   \n",
       "883                           NaN                    IT  Affluent Customer   \n",
       "904               Legal Assistant                    IT      Mass Customer   \n",
       "984    Desktop Support Technician                    IT  Affluent Customer   \n",
       "\n",
       "    deceased_indicator owns_car  tenure                  address  postcode  \\\n",
       "59                   N       No       4      7232 Fulton Parkway      3810   \n",
       "226                  N      Yes      11            6 Iowa Center      2519   \n",
       "324                  N      Yes       3  57025 New Castle Street      3850   \n",
       "358                  N       No       5       78 Clarendon Drive      4551   \n",
       "360                  N      Yes      11  5675 Burning Wood Trail      3030   \n",
       "374                  N       No      15           5773 Acker Way      4207   \n",
       "434                  N       No       7      72423 Surrey Street      3753   \n",
       "439                  N      Yes      14         3686 Waubesa Way      3065   \n",
       "574                  N       No      12  0307 Namekagon Crossing      2170   \n",
       "598                  N       No       5           882 Toban Lane      2121   \n",
       "664                  N      Yes       0        5 Red Cloud Place      3222   \n",
       "751                  N      Yes      14         82 Gina Junction      3806   \n",
       "775                  N       No       5     95960 Warner Parkway      3842   \n",
       "835                  N       No      13     768 Southridge Drive      2112   \n",
       "883                  N       No       2     01 Bunker Hill Drive      2230   \n",
       "904                  N       No       2         276 Anthes Court      2450   \n",
       "984                  N      Yes       0       9594 Badeau Street      2050   \n",
       "\n",
       "    state    country  property_valuation  Rank     Value  \n",
       "59    VIC  Australia                   5    57  1.375000  \n",
       "226   NSW  Australia                   9   226  1.112500  \n",
       "324   VIC  Australia                   3   324  1.010000  \n",
       "358   QLD  Australia                   8   358  0.980000  \n",
       "360   VIC  Australia                   7   361  0.977500  \n",
       "374   QLD  Australia                   6   375  0.960000  \n",
       "434   VIC  Australia                   5   433  0.906250  \n",
       "439   VIC  Australia                   6   436  0.903125  \n",
       "574   NSW  Australia                   7   575  0.796875  \n",
       "598   NSW  Australia                  11   599  0.775000  \n",
       "664   VIC  Australia                   4   662  0.711875  \n",
       "751   VIC  Australia                   7   751  0.648125  \n",
       "775   VIC  Australia                   1   774  0.626875  \n",
       "835   NSW  Australia                  11   832  0.575000  \n",
       "883   NSW  Australia                  10   883  0.531250  \n",
       "904   NSW  Australia                   6   904  0.500000  \n",
       "984   NSW  Australia                  10   985  0.408000  "
      ]
     },
     "execution_count": 120,
     "metadata": {},
     "output_type": "execute_result"
    }
   ],
   "source": [
    "# DOB\n",
    "## Drop null DOB values\n",
    "data = NewCustomerlist[NewCustomerlist['DOB'].isnull()]\n",
    "data"
   ]
  },
  {
   "cell_type": "code",
   "execution_count": 121,
   "id": "e38f2dcc",
   "metadata": {},
   "outputs": [],
   "source": [
    "# Dropping DOB null rows from the dataset\n",
    "NewCustomerlist.drop(data.index, inplace = True)"
   ]
  },
  {
   "cell_type": "code",
   "execution_count": 122,
   "id": "31101928",
   "metadata": {},
   "outputs": [
    {
     "data": {
      "text/plain": [
       "0      60\n",
       "1      47\n",
       "2      43\n",
       "3      38\n",
       "4      52\n",
       "       ..\n",
       "995    58\n",
       "996    16\n",
       "997    63\n",
       "998    65\n",
       "999    62\n",
       "Name: Age, Length: 983, dtype: int32"
      ]
     },
     "execution_count": 122,
     "metadata": {},
     "output_type": "execute_result"
    }
   ],
   "source": [
    "# Adding Column Age: deriving from DOB:\n",
    "NewCustomerlist['DOB'] = pd.to_datetime(NewCustomerlist['DOB'])\n",
    "NewCustomerlist['Age'] = 2017 - NewCustomerlist['DOB'].dt.year\n",
    "NewCustomerlist['Age']"
   ]
  },
  {
   "cell_type": "code",
   "execution_count": 123,
   "id": "1017cde2",
   "metadata": {},
   "outputs": [
    {
     "data": {
      "text/plain": [
       "Index(['first_name', 'last_name', 'gender',\n",
       "       'past_3_years_bike_related_purchases', 'DOB', 'job_title',\n",
       "       'job_industry_category', 'wealth_segment', 'deceased_indicator',\n",
       "       'owns_car', 'tenure', 'address', 'postcode', 'state', 'country',\n",
       "       'property_valuation', 'Rank', 'Value', 'Age'],\n",
       "      dtype='object')"
      ]
     },
     "execution_count": 123,
     "metadata": {},
     "output_type": "execute_result"
    }
   ],
   "source": [
    "# Checking added column: Age\n",
    "NewCustomerlist.columns"
   ]
  },
  {
   "cell_type": "code",
   "execution_count": 124,
   "id": "336f54a9",
   "metadata": {},
   "outputs": [
    {
     "data": {
      "text/plain": [
       "first_name                               0\n",
       "last_name                               29\n",
       "gender                                   0\n",
       "past_3_years_bike_related_purchases      0\n",
       "DOB                                      0\n",
       "job_title                              105\n",
       "job_industry_category                  165\n",
       "wealth_segment                           0\n",
       "deceased_indicator                       0\n",
       "owns_car                                 0\n",
       "tenure                                   0\n",
       "address                                  0\n",
       "postcode                                 0\n",
       "state                                    0\n",
       "country                                  0\n",
       "property_valuation                       0\n",
       "Rank                                     0\n",
       "Value                                    0\n",
       "Age                                      0\n",
       "dtype: int64"
      ]
     },
     "execution_count": 124,
     "metadata": {},
     "output_type": "execute_result"
    }
   ],
   "source": [
    "# Checking the null values\n",
    "NewCustomerlist.isnull().sum()"
   ]
  },
  {
   "cell_type": "code",
   "execution_count": 125,
   "id": "14d68c7e",
   "metadata": {},
   "outputs": [
    {
     "data": {
      "text/plain": [
       "(165, 19)"
      ]
     },
     "execution_count": 125,
     "metadata": {},
     "output_type": "execute_result"
    }
   ],
   "source": [
    "# Replace the job_industry_category with manufacturing, Financial Services , Health and retail \n",
    "New = NewCustomerlist[NewCustomerlist['job_industry_category'].isnull()]\n",
    "New.shape"
   ]
  },
  {
   "cell_type": "code",
   "execution_count": 126,
   "id": "5e2397da",
   "metadata": {},
   "outputs": [
    {
     "data": {
      "text/plain": [
       "job_industry_category\n",
       "Financial Services    202\n",
       "Manufacturing         199\n",
       "Health                152\n",
       "Retail                 78\n",
       "Property               64\n",
       "Entertainment          36\n",
       "IT                     36\n",
       "Argiculture            26\n",
       "Telecommunications     25\n",
       "Name: count, dtype: int64"
      ]
     },
     "execution_count": 126,
     "metadata": {},
     "output_type": "execute_result"
    }
   ],
   "source": [
    "NewCustomerlist['job_industry_category'].value_counts()"
   ]
  },
  {
   "cell_type": "code",
   "execution_count": 127,
   "id": "48e1f51c",
   "metadata": {},
   "outputs": [],
   "source": [
    "#Top 4 Job Industry Category in terms of frequency:\n",
    "#job_industry_category\n",
    "#Manufacturing         202\n",
    "#Financial Services    199\n",
    "#Health                152\n",
    "#Retail                78\n",
    "#Total Frequency Count = 631\n",
    "#Total null values present in Job Industry Category = 165\n",
    "#For Manufacturing: 202/631 *100  = 32.01%, equivalent to .3201 * 165 = 53\n",
    "#For Financial Services = 199/631 *100 = 31.53 %, equivalent to .3153 * 165 = 52\n",
    "#For Health: 152/631*100 = 24.08%, equivalent to .2408 * 165 = 40\n",
    "#For Retail: 165 - (53+52+40) = 20\n",
    "\n",
    "# Above: Used the mode to impute null values in job industy category field but with slight change, i.e. with the %age frequency of top 4 job industry category"
   ]
  },
  {
   "cell_type": "code",
   "execution_count": 128,
   "id": "48f27d3a",
   "metadata": {},
   "outputs": [],
   "source": [
    "# Imputing the null values in Job Industry Category column"
   ]
  },
  {
   "cell_type": "code",
   "execution_count": 129,
   "id": "762d9e76",
   "metadata": {},
   "outputs": [],
   "source": [
    "fill_values_New_Customer = ['Manufacturing'] * 53 + ['Financial Services'] * 52 + ['Health'] * 40 + ['Retail'] * 20"
   ]
  },
  {
   "cell_type": "code",
   "execution_count": 130,
   "id": "02e6dd64",
   "metadata": {},
   "outputs": [],
   "source": [
    "New['job_industry_category'].fillna(value=pd.Series(fill_values_New_Customer, index=New.index), inplace=True)"
   ]
  },
  {
   "cell_type": "code",
   "execution_count": 131,
   "id": "9fb49649",
   "metadata": {},
   "outputs": [
    {
     "data": {
      "text/plain": [
       "first_name                              0\n",
       "last_name                               6\n",
       "gender                                  0\n",
       "past_3_years_bike_related_purchases     0\n",
       "DOB                                     0\n",
       "job_title                              22\n",
       "job_industry_category                   0\n",
       "wealth_segment                          0\n",
       "deceased_indicator                      0\n",
       "owns_car                                0\n",
       "tenure                                  0\n",
       "address                                 0\n",
       "postcode                                0\n",
       "state                                   0\n",
       "country                                 0\n",
       "property_valuation                      0\n",
       "Rank                                    0\n",
       "Value                                   0\n",
       "Age                                     0\n",
       "dtype: int64"
      ]
     },
     "execution_count": 131,
     "metadata": {},
     "output_type": "execute_result"
    }
   ],
   "source": [
    "# Checking null values\n",
    "New.isnull().sum()"
   ]
  },
  {
   "cell_type": "code",
   "execution_count": 132,
   "id": "f98ac924",
   "metadata": {},
   "outputs": [],
   "source": [
    "# Dropping the null value rows from the main dataset: for Job Industry Category:\n",
    "NewCustomerlist.drop(New.index,inplace = True)"
   ]
  },
  {
   "cell_type": "code",
   "execution_count": 133,
   "id": "2b7bb9a1",
   "metadata": {},
   "outputs": [],
   "source": [
    "# Adding the Imputed rows in the main dataset: NewCustomerlist\n",
    "NewCustomerlist = pd.concat([NewCustomerlist, New], ignore_index=True)"
   ]
  },
  {
   "cell_type": "code",
   "execution_count": 134,
   "id": "9ef7a316",
   "metadata": {},
   "outputs": [
    {
     "data": {
      "text/plain": [
       "(983, 19)"
      ]
     },
     "execution_count": 134,
     "metadata": {},
     "output_type": "execute_result"
    }
   ],
   "source": [
    "# Checking dimension and records\n",
    "NewCustomerlist.shape"
   ]
  },
  {
   "cell_type": "code",
   "execution_count": 135,
   "id": "f84684c4",
   "metadata": {},
   "outputs": [
    {
     "data": {
      "text/plain": [
       "first_name                               0\n",
       "last_name                               29\n",
       "gender                                   0\n",
       "past_3_years_bike_related_purchases      0\n",
       "DOB                                      0\n",
       "job_title                              105\n",
       "job_industry_category                    0\n",
       "wealth_segment                           0\n",
       "deceased_indicator                       0\n",
       "owns_car                                 0\n",
       "tenure                                   0\n",
       "address                                  0\n",
       "postcode                                 0\n",
       "state                                    0\n",
       "country                                  0\n",
       "property_valuation                       0\n",
       "Rank                                     0\n",
       "Value                                    0\n",
       "Age                                      0\n",
       "dtype: int64"
      ]
     },
     "execution_count": 135,
     "metadata": {},
     "output_type": "execute_result"
    }
   ],
   "source": [
    "# Checking null values\n",
    "NewCustomerlist.isnull().sum()"
   ]
  },
  {
   "cell_type": "code",
   "execution_count": 136,
   "id": "b545b6c4",
   "metadata": {},
   "outputs": [],
   "source": [
    "# Dropping Column: 'job_title','deceased_indicator','first_name','last_name','DOB','address', 'Rank','Value' (won't be used for further analysis)"
   ]
  },
  {
   "cell_type": "code",
   "execution_count": 137,
   "id": "16022806",
   "metadata": {},
   "outputs": [],
   "source": [
    "NewCustomerlist.drop(['job_title','deceased_indicator','first_name','last_name','DOB','address', 'Rank','Value'],inplace = True, axis = 1)"
   ]
  },
  {
   "cell_type": "code",
   "execution_count": 138,
   "id": "8aeee837",
   "metadata": {},
   "outputs": [
    {
     "data": {
      "text/plain": [
       "gender                                 0\n",
       "past_3_years_bike_related_purchases    0\n",
       "job_industry_category                  0\n",
       "wealth_segment                         0\n",
       "owns_car                               0\n",
       "tenure                                 0\n",
       "postcode                               0\n",
       "state                                  0\n",
       "country                                0\n",
       "property_valuation                     0\n",
       "Age                                    0\n",
       "dtype: int64"
      ]
     },
     "execution_count": 138,
     "metadata": {},
     "output_type": "execute_result"
    }
   ],
   "source": [
    "NewCustomerlist.isnull().sum()"
   ]
  },
  {
   "cell_type": "code",
   "execution_count": 139,
   "id": "64c927d6",
   "metadata": {},
   "outputs": [
    {
     "data": {
      "text/html": [
       "<div>\n",
       "<style scoped>\n",
       "    .dataframe tbody tr th:only-of-type {\n",
       "        vertical-align: middle;\n",
       "    }\n",
       "\n",
       "    .dataframe tbody tr th {\n",
       "        vertical-align: top;\n",
       "    }\n",
       "\n",
       "    .dataframe thead th {\n",
       "        text-align: right;\n",
       "    }\n",
       "</style>\n",
       "<table border=\"1\" class=\"dataframe\">\n",
       "  <thead>\n",
       "    <tr style=\"text-align: right;\">\n",
       "      <th></th>\n",
       "      <th>gender</th>\n",
       "      <th>past_3_years_bike_related_purchases</th>\n",
       "      <th>job_industry_category</th>\n",
       "      <th>wealth_segment</th>\n",
       "      <th>owns_car</th>\n",
       "      <th>tenure</th>\n",
       "      <th>postcode</th>\n",
       "      <th>state</th>\n",
       "      <th>country</th>\n",
       "      <th>property_valuation</th>\n",
       "      <th>Age</th>\n",
       "    </tr>\n",
       "  </thead>\n",
       "  <tbody>\n",
       "    <tr>\n",
       "      <th>0</th>\n",
       "      <td>Male</td>\n",
       "      <td>86</td>\n",
       "      <td>Manufacturing</td>\n",
       "      <td>Mass Customer</td>\n",
       "      <td>Yes</td>\n",
       "      <td>14</td>\n",
       "      <td>4500</td>\n",
       "      <td>QLD</td>\n",
       "      <td>Australia</td>\n",
       "      <td>6</td>\n",
       "      <td>60</td>\n",
       "    </tr>\n",
       "    <tr>\n",
       "      <th>1</th>\n",
       "      <td>Male</td>\n",
       "      <td>69</td>\n",
       "      <td>Property</td>\n",
       "      <td>Mass Customer</td>\n",
       "      <td>No</td>\n",
       "      <td>16</td>\n",
       "      <td>2113</td>\n",
       "      <td>NSW</td>\n",
       "      <td>Australia</td>\n",
       "      <td>11</td>\n",
       "      <td>47</td>\n",
       "    </tr>\n",
       "    <tr>\n",
       "      <th>2</th>\n",
       "      <td>Female</td>\n",
       "      <td>10</td>\n",
       "      <td>Financial Services</td>\n",
       "      <td>Affluent Customer</td>\n",
       "      <td>No</td>\n",
       "      <td>10</td>\n",
       "      <td>3505</td>\n",
       "      <td>VIC</td>\n",
       "      <td>Australia</td>\n",
       "      <td>5</td>\n",
       "      <td>43</td>\n",
       "    </tr>\n",
       "    <tr>\n",
       "      <th>3</th>\n",
       "      <td>Female</td>\n",
       "      <td>64</td>\n",
       "      <td>Manufacturing</td>\n",
       "      <td>Affluent Customer</td>\n",
       "      <td>Yes</td>\n",
       "      <td>5</td>\n",
       "      <td>4814</td>\n",
       "      <td>QLD</td>\n",
       "      <td>Australia</td>\n",
       "      <td>1</td>\n",
       "      <td>38</td>\n",
       "    </tr>\n",
       "    <tr>\n",
       "      <th>4</th>\n",
       "      <td>Female</td>\n",
       "      <td>34</td>\n",
       "      <td>Financial Services</td>\n",
       "      <td>Affluent Customer</td>\n",
       "      <td>No</td>\n",
       "      <td>19</td>\n",
       "      <td>2093</td>\n",
       "      <td>NSW</td>\n",
       "      <td>Australia</td>\n",
       "      <td>9</td>\n",
       "      <td>52</td>\n",
       "    </tr>\n",
       "  </tbody>\n",
       "</table>\n",
       "</div>"
      ],
      "text/plain": [
       "   gender  past_3_years_bike_related_purchases job_industry_category  \\\n",
       "0    Male                                   86         Manufacturing   \n",
       "1    Male                                   69              Property   \n",
       "2  Female                                   10    Financial Services   \n",
       "3  Female                                   64         Manufacturing   \n",
       "4  Female                                   34    Financial Services   \n",
       "\n",
       "      wealth_segment owns_car  tenure  postcode state    country  \\\n",
       "0      Mass Customer      Yes      14      4500   QLD  Australia   \n",
       "1      Mass Customer       No      16      2113   NSW  Australia   \n",
       "2  Affluent Customer       No      10      3505   VIC  Australia   \n",
       "3  Affluent Customer      Yes       5      4814   QLD  Australia   \n",
       "4  Affluent Customer       No      19      2093   NSW  Australia   \n",
       "\n",
       "   property_valuation  Age  \n",
       "0                   6   60  \n",
       "1                  11   47  \n",
       "2                   5   43  \n",
       "3                   1   38  \n",
       "4                   9   52  "
      ]
     },
     "execution_count": 139,
     "metadata": {},
     "output_type": "execute_result"
    }
   ],
   "source": [
    "# Checking the impacted data\n",
    "NewCustomerlist.head()"
   ]
  },
  {
   "cell_type": "code",
   "execution_count": 140,
   "id": "81926d93",
   "metadata": {},
   "outputs": [
    {
     "data": {
      "text/plain": [
       "array(['QLD', 'NSW', 'VIC'], dtype=object)"
      ]
     },
     "execution_count": 140,
     "metadata": {},
     "output_type": "execute_result"
    }
   ],
   "source": [
    "#Checking values in state field:\n",
    "NewCustomerlist['state'].unique()"
   ]
  },
  {
   "cell_type": "code",
   "execution_count": 141,
   "id": "445c0d7b",
   "metadata": {},
   "outputs": [],
   "source": [
    "# Correcting the spelling mistake and reducing redundancy in state field:\n",
    "state_mapping = {\n",
    "            'QLD': 'Queensland',\n",
    "            'VIC': 'Victoria',\n",
    "            'NSW': 'New South Wales'\n",
    "        }\n",
    "\n",
    "\n",
    "# Replace values in 'state' column using the mapping dictionary\n",
    "NewCustomerlist['state'].replace(state_mapping, inplace=True)\n",
    "\n",
    "    "
   ]
  },
  {
   "cell_type": "code",
   "execution_count": 142,
   "id": "64489cb2",
   "metadata": {},
   "outputs": [
    {
     "data": {
      "text/plain": [
       "array(['Queensland', 'New South Wales', 'Victoria'], dtype=object)"
      ]
     },
     "execution_count": 142,
     "metadata": {},
     "output_type": "execute_result"
    }
   ],
   "source": [
    "#Checking values in state field:\n",
    "NewCustomerlist['state'].unique()"
   ]
  },
  {
   "cell_type": "code",
   "execution_count": 143,
   "id": "be12b923",
   "metadata": {},
   "outputs": [],
   "source": [
    "# For importing library: !pip install XlsxWriter\n",
    "# Exporting the dataset\n",
    "with pd.ExcelWriter('D:\\\\modelling\\\\New folder\\\\final files\\\\NewCustomerlist.xlsx', engine='xlsxwriter') as writer:\n",
    "    NewCustomerlist.to_excel(writer, sheet_name='Sheet1', index=False)\n",
    "    "
   ]
  },
  {
   "cell_type": "code",
   "execution_count": 144,
   "id": "e669f22e",
   "metadata": {},
   "outputs": [],
   "source": []
  }
 ],
 "metadata": {
  "kernelspec": {
   "display_name": "Python 3 (ipykernel)",
   "language": "python",
   "name": "python3"
  },
  "language_info": {
   "codemirror_mode": {
    "name": "ipython",
    "version": 3
   },
   "file_extension": ".py",
   "mimetype": "text/x-python",
   "name": "python",
   "nbconvert_exporter": "python",
   "pygments_lexer": "ipython3",
   "version": "3.11.5"
  }
 },
 "nbformat": 4,
 "nbformat_minor": 5
}
